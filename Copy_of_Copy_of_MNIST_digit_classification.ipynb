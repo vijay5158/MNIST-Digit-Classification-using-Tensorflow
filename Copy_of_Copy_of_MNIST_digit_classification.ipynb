{
  "nbformat": 4,
  "nbformat_minor": 0,
  "metadata": {
    "colab": {
      "name": "Copy of Copy of MNIST digit classification.ipynb",
      "provenance": [],
      "collapsed_sections": [],
      "include_colab_link": true
    },
    "kernelspec": {
      "name": "python3",
      "display_name": "Python 3"
    },
    "accelerator": "GPU"
  },
  "cells": [
    {
      "cell_type": "markdown",
      "metadata": {
        "id": "view-in-github",
        "colab_type": "text"
      },
      "source": [
        "<a href=\"https://colab.research.google.com/github/vijay5158/MNIST-Digit-Classification-using-Tensorflow/blob/master/Copy_of_Copy_of_MNIST_digit_classification.ipynb\" target=\"_parent\"><img src=\"https://colab.research.google.com/assets/colab-badge.svg\" alt=\"Open In Colab\"/></a>"
      ]
    },
    {
      "cell_type": "markdown",
      "metadata": {
        "id": "A1cK9A5HCbV4",
        "colab_type": "text"
      },
      "source": [
        "# MNIST digits classification with TensorFlow\n",
        "\n",
        "\n"
      ]
    },
    {
      "cell_type": "code",
      "metadata": {
        "id": "S1XNWfo_0kcN",
        "colab_type": "code",
        "colab": {}
      },
      "source": [
        "import numpy as np\n",
        "from sklearn.metrics import accuracy_score\n",
        "from matplotlib import pyplot as plt\n",
        "%matplotlib inline\n",
        "import tensorflow as tf"
      ],
      "execution_count": 56,
      "outputs": []
    },
    {
      "cell_type": "code",
      "metadata": {
        "id": "MQ9WMsff2tL0",
        "colab_type": "code",
        "colab": {}
      },
      "source": [
        "import keras\n",
        " \n",
        " \n",
        "def load_dataset(flatten=False):\n",
        "    (X_train, y_train), (X_test, y_test) = keras.datasets.mnist.load_data()\n",
        " \n",
        "    # Normalizing x\n",
        "    X_train = X_train.astype(float) / 255.\n",
        "    X_test = X_test.astype(float) / 255.\n",
        " \n",
        "    # Keep last 10000 training examples for validation\n",
        "    X_train, X_val = X_train[:-10000], X_train[-10000:]\n",
        "    y_train, y_val = y_train[:-10000], y_train[-10000:]\n",
        " \n",
        "    if flatten:\n",
        "        X_train = X_train.reshape([X_train.shape[0], -1])\n",
        "        X_val = X_val.reshape([X_val.shape[0], -1])\n",
        "        X_test = X_test.reshape([X_test.shape[0], -1])\n",
        " \n",
        "    return X_train, y_train, X_val, y_val, X_test, y_test"
      ],
      "execution_count": 57,
      "outputs": []
    },
    {
      "cell_type": "code",
      "metadata": {
        "id": "QHnVY0I-3Fmh",
        "colab_type": "code",
        "colab": {
          "base_uri": "https://localhost:8080/",
          "height": 703
        },
        "outputId": "405d3d54-a49e-4698-caef-deb27a45d80e"
      },
      "source": [
        "X_train, y_train, X_val, y_val, X_test, y_test = load_dataset()\n",
        "print(\"X_train [shape %s] sample patch:\\n\" % (str(X_train.shape)), X_train[1, 15:20, 5:10])\n",
        "print(\"A closeup of a sample patch:\")\n",
        "plt.imshow(X_train[1, 15:20, 5:10], cmap=\"Greys\")\n",
        "plt.show()\n",
        "print(\"And the whole sample:\")\n",
        "plt.imshow(X_train[1], cmap=\"Greys\")\n",
        "plt.show()\n",
        "print(\"y_train [shape %s] 10 samples:\\n\" % (str(y_train.shape)), y_train[:10])"
      ],
      "execution_count": 58,
      "outputs": [
        {
          "output_type": "stream",
          "text": [
            "X_train [shape (50000, 28, 28)] sample patch:\n",
            " [[0.         0.29803922 0.96470588 0.98823529 0.43921569]\n",
            " [0.         0.33333333 0.98823529 0.90196078 0.09803922]\n",
            " [0.         0.33333333 0.98823529 0.8745098  0.        ]\n",
            " [0.         0.33333333 0.98823529 0.56862745 0.        ]\n",
            " [0.         0.3372549  0.99215686 0.88235294 0.        ]]\n",
            "A closeup of a sample patch:\n"
          ],
          "name": "stdout"
        },
        {
          "output_type": "display_data",
          "data": {
            "image/png": "[encoded data removed]",
            "text/plain": [
              "<Figure size 432x288 with 1 Axes>"
            ]
          },
          "metadata": {
            "tags": [],
            "needs_background": "light"
          }
        },
        {
          "output_type": "stream",
          "text": [
            "And the whole sample:\n"
          ],
          "name": "stdout"
        },
        {
          "output_type": "display_data",
          "data": {
            "image/png": "[encoded data removed]",
            "text/plain": [
              "<Figure size 432x288 with 1 Axes>"
            ]
          },
          "metadata": {
            "tags": [],
            "needs_background": "light"
          }
        },
        {
          "output_type": "stream",
          "text": [
            "y_train [shape (50000,)] 10 samples:\n",
            " [5 0 4 1 9 2 1 3 1 4]\n"
          ],
          "name": "stdout"
        }
      ]
    },
    {
      "cell_type": "code",
      "metadata": {
        "id": "_WF62eKM5IjM",
        "colab_type": "code",
        "colab": {
          "base_uri": "https://localhost:8080/",
          "height": 51
        },
        "outputId": "e653c5a7-ddd5-4d17-b40d-61c3d21cc27c"
      },
      "source": [
        "X_train_flat = X_train.reshape((X_train.shape[0], -1))\n",
        "print(X_train_flat.shape)\n",
        "\n",
        "X_val_flat = X_val.reshape((X_val.shape[0], -1))\n",
        "print(X_val_flat.shape)"
      ],
      "execution_count": 59,
      "outputs": [
        {
          "output_type": "stream",
          "text": [
            "(50000, 784)\n",
            "(10000, 784)\n"
          ],
          "name": "stdout"
        }
      ]
    },
    {
      "cell_type": "code",
      "metadata": {
        "id": "ofeQxrDHg89S",
        "colab_type": "code",
        "colab": {
          "base_uri": "https://localhost:8080/",
          "height": 105
        },
        "outputId": "50c9e821-ba11-4b5f-d59f-79c43eefbeb7"
      },
      "source": [
        "import keras\n",
        "\n",
        "y_train_oh = keras.utils.to_categorical(y_train, 10)\n",
        "y_val_oh = keras.utils.to_categorical(y_val, 10)\n",
        "\n",
        "print(y_train_oh.shape)\n",
        "print(y_train_oh[:3], y_train[:3])"
      ],
      "execution_count": 60,
      "outputs": [
        {
          "output_type": "stream",
          "text": [
            "(50000, 10)\n",
            "[[0. 0. 0. 0. 0. 1. 0. 0. 0. 0.]\n",
            " [1. 0. 0. 0. 0. 0. 0. 0. 0. 0.]\n",
            " [0. 0. 0. 0. 1. 0. 0. 0. 0. 0.]] [5 0 4]\n"
          ],
          "name": "stdout"
        }
      ]
    },
    {
      "cell_type": "code",
      "metadata": {
        "id": "qrIF8hqNhFCt",
        "colab_type": "code",
        "colab": {}
      },
      "source": [
        "# Parameters - W ,b\n",
        "W = tf.compat.v1.get_variable(shape = (784,10),name = 'weights') ### YOUR CODE HERE ### tf.get_variable(...) with shape[0] = 784\n",
        "b = tf.compat.v1.get_variable(shape = (10), name ='bias')### YOUR CODE HERE ### tf.get_variable(...)"
      ],
      "execution_count": 61,
      "outputs": []
    },
    {
      "cell_type": "code",
      "metadata": {
        "id": "mWayYz0lhHly",
        "colab_type": "code",
        "colab": {}
      },
      "source": [
        "\n",
        "tf.compat.v1.disable_eager_execution() ### diable eager execution, because placeholder doesn't support eager execution \n",
        " \n",
        "input_X = tf.compat.v1.placeholder(tf.float32 ,shape = (None,784))### tf.compat.v1.placeholder(...) for flat X with shape[0] = None for any batch size\n",
        "input_y = tf.compat.v1.placeholder(tf.float32,shape = (None,10))"
      ],
      "execution_count": 62,
      "outputs": []
    },
    {
      "cell_type": "code",
      "metadata": {
        "id": "K1P9fys9hOpS",
        "colab_type": "code",
        "colab": {}
      },
      "source": [
        "logits = tf.compat.v1.layers.dense(input_X,784,activation = tf.nn.sigmoid)\n",
        "logits12 = tf.compat.v1.layers.dense(logits,256,activation = tf.nn.sigmoid)\n",
        "logits13 = tf.compat.v1.layers.dense(logits12,256,activation = tf.nn.sigmoid)\n",
        "logits2 = tf.compat.v1.layers.dense(logits13,10)\n",
        " \n",
        " \n",
        "probas = tf.nn.softmax(logits2)\n",
        "classes = tf.argmax(probas,axis = 1) ###tf.argmax helps to find a class index with highest probability.\n",
        "\n",
        "loss =tf.reduce_mean(tf.nn.softmax_cross_entropy_with_logits(labels = input_y,logits = logits2)) ### YOUR CODE HERE ### cross-entropy loss\n",
        " \n",
        "#  tf.compat.v1.train.AdamOptimizer for SGD step to minimize the loss. \n",
        "step = tf.compat.v1.train.AdamOptimizer(0.003).minimize(loss)"
      ],
      "execution_count": 63,
      "outputs": []
    },
    {
      "cell_type": "code",
      "metadata": {
        "id": "SWv7TMAPiOvZ",
        "colab_type": "code",
        "colab": {}
      },
      "source": [
        "from matplotlib import pyplot as plt\n",
        "from IPython.display import clear_output, display_html, HTML\n",
        "import contextlib\n",
        "import time\n",
        "import io\n",
        "import urllib\n",
        "import base64\n",
        " \n",
        " \n",
        "def clear_and_display_figure(fig, sleep=0.01):\n",
        "    img_data = io.BytesIO()\n",
        "    fig.savefig(img_data, format='jpeg')\n",
        "    img_data.seek(0)\n",
        "    uri = 'data:image/jpeg;base64,' + urllib.request.quote(base64.b64encode(img_data.getbuffer()))\n",
        "    img_data.close()\n",
        "    clear_output(wait=True)\n",
        "    display_html(HTML('<img src=\"' + uri + '\">'))\n",
        "    time.sleep(sleep)\n",
        " \n",
        " \n",
        "class SimpleMovieWriter(object):\n",
        "    \"\"\"\n",
        "    Usage example:\n",
        "        anim = animation.FuncAnimation(...)\n",
        "        anim.save(None, writer=SimpleMovieWriter(sleep=0.01))\n",
        "    \"\"\"\n",
        "    def __init__(self, sleep=0.1):\n",
        "        self.sleep = sleep\n",
        " \n",
        "    def setup(self, fig):\n",
        "        self.fig = fig\n",
        " \n",
        "    def grab_frame(self, **kwargs):\n",
        "        clear_and_display_figure(self.fig, self.sleep)\n",
        " \n",
        "    @contextlib.contextmanager\n",
        "    def saving(self, fig, *args, **kwargs):\n",
        "        self.setup(fig)\n",
        "        try:\n",
        "            yield self\n",
        "        finally:\n",
        "            pass\n",
        " \n",
        " \n",
        "class SimpleTrainingCurves(object):\n",
        "    def __init__(self, loss_name, metric_name):\n",
        "        self.fig, (self.ax1, self.ax2) = plt.subplots(nrows=1, ncols=2, figsize=(12, 4))\n",
        "        self.ax1.set_title(loss_name)\n",
        "        self.ax2.set_title(metric_name)\n",
        "        self.train_loss_curve, = self.ax1.plot([], [], 'r', label='train', lw=2)\n",
        "        self.valid_loss_curve, = self.ax1.plot([], [], 'g', label='valid', lw=2)\n",
        "        self.train_metric_curve, = self.ax2.plot([], [], 'r', label='train', lw=2)\n",
        "        self.valid_metric_curve, = self.ax2.plot([], [], 'g', label='valid', lw=2)\n",
        "        self.iter = 0\n",
        "        self.y_limits_1 = [None, None]\n",
        "        self.y_limits_2 = [None, None]\n",
        "        plt.close(self.fig)\n",
        " \n",
        "    def _update_y_limits(self, limits, *values):\n",
        "        limits[0] = min(list(values) + ([limits[0]] if limits[0] else []))\n",
        "        limits[1] = max(list(values) + ([limits[1]] if limits[1] else []))\n",
        " \n",
        "    def _update_curve(self, curve, value, label):\n",
        "        x, y = curve.get_data()\n",
        "        curve.set_data(list(x) + [self.iter], list(y) + [value])\n",
        "        curve.set_label(\"{}: {}\".format(label, value))\n",
        " \n",
        "    def _set_y_limits(self, ax, limits):\n",
        "        spread = limits[1] - limits[0]\n",
        "        ax.set_ylim(limits[0] - 0.05*spread, limits[1] + 0.05*spread)\n",
        " \n",
        "    def add(self, train_loss, valid_loss, train_metric, valid_metric):\n",
        "        self._update_curve(self.train_loss_curve, train_loss, \"train\")\n",
        "        self._update_curve(self.valid_loss_curve, valid_loss, \"valid\")\n",
        "        self._update_curve(self.train_metric_curve, train_metric, \"train\")\n",
        "        self._update_curve(self.valid_metric_curve, valid_metric, \"valid\")\n",
        "        self.ax1.set_xlim(0, self.iter)\n",
        "        self.ax2.set_xlim(0, self.iter)\n",
        "        self._update_y_limits(self.y_limits_1, train_loss, valid_loss)\n",
        "        self._update_y_limits(self.y_limits_2, train_metric, valid_metric)\n",
        "        self._set_y_limits(self.ax1, self.y_limits_1)\n",
        "        self._set_y_limits(self.ax2, self.y_limits_2)\n",
        "        clear_and_display_figure(self.fig)\n",
        "        self.ax1.legend()\n",
        "        self.ax2.legend()\n",
        "        self.iter += 1"
      ],
      "execution_count": 64,
      "outputs": []
    },
    {
      "cell_type": "code",
      "metadata": {
        "id": "3jUcZD2EhRwq",
        "colab_type": "code",
        "colab": {
          "base_uri": "https://localhost:8080/",
          "height": 329
        },
        "outputId": "215f936e-b5d4-4a1d-c88e-af994f6b6149"
      },
      "source": [
        "s = tf.compat.v1.Session()\n",
        "s.run(tf.compat.v1.global_variables_initializer())\n",
        " \n",
        "BATCH_SIZE = 512\n",
        "EPOCHS = 20\n",
        " \n",
        " \n",
        "simpleTrainingCurves = SimpleTrainingCurves(\"cross-entropy\", \"accuracy\")\n",
        " \n",
        "for epoch in range(EPOCHS):\n",
        "    \n",
        "    batch_losses = []\n",
        "    for batch_start in range(0, X_train_flat.shape[0], BATCH_SIZE):\n",
        "        _, batch_loss = s.run([step, loss], {input_X: X_train_flat[batch_start:batch_start+BATCH_SIZE], \n",
        "                                             input_y: y_train_oh[batch_start:batch_start+BATCH_SIZE]})\n",
        "        batch_losses.append(batch_loss)\n",
        " \n",
        "    train_loss = np.mean(batch_losses)\n",
        "    val_loss = s.run(loss, {input_X: X_val_flat, input_y: y_val_oh})\n",
        "    train_accuracy = accuracy_score(y_train, s.run(classes, {input_X: X_train_flat}))\n",
        "    valid_accuracy = accuracy_score(y_val, s.run(classes, {input_X: X_val_flat}))  \n",
        "    simpleTrainingCurves.add(train_loss, val_loss, train_accuracy, valid_accuracy)"
      ],
      "execution_count": 69,
      "outputs": [
        {
          "output_type": "display_data",
          "data": {
            "text/html": [
              "<img src=\"data:image/jpeg;base64,/9j/4AAQSkZJRgABAQEASABIAAD/2wBDAAIBAQEBAQIBAQECAgICAgQDAgICAgUEBAMEBgUGBgYFBgYGBwkIBgcJBwYGCAsICQoKCgoKBggLDAsKDAkKCgr/2wBDAQICAgICAgUDAwUKBwYHCgoKCgoKCgoKCgoKCgoKCgoKCgoKCgoKCgoKCgoKCgoKCgoKCgoKCgoKCgoKCgoKCgr/wAARCAEgA2ADASIAAhEBAxEB/8QAHwAAAQUBAQEBAQEAAAAAAAAAAAECAwQFBgcICQoL/8QAtRAAAgEDAwIEAwUFBAQAAAF9AQIDAAQRBRIhMUEGE1FhByJxFDKBkaEII0KxwRVS0fAkM2JyggkKFhcYGRolJicoKSo0NTY3ODk6Q0RFRkdISUpTVFVWV1hZWmNkZWZnaGlqc3R1dnd4eXqDhIWGh4iJipKTlJWWl5iZmqKjpKWmp6ipqrKztLW2t7i5usLDxMXGx8jJytLT1NXW19jZ2uHi4%2BTl5ufo6erx8vP09fb3%2BPn6/8QAHwEAAwEBAQEBAQEBAQAAAAAAAAECAwQFBgcICQoL/8QAtREAAgECBAQDBAcFBAQAAQJ3AAECAxEEBSExBhJBUQdhcRMiMoEIFEKRobHBCSMzUvAVYnLRChYkNOEl8RcYGRomJygpKjU2Nzg5OkNERUZHSElKU1RVVldYWVpjZGVmZ2hpanN0dXZ3eHl6goOEhYaHiImKkpOUlZaXmJmaoqOkpaanqKmqsrO0tba3uLm6wsPExcbHyMnK0tPU1dbX2Nna4uPk5ebn6Onq8vP09fb3%2BPn6/9oADAMBAAIRAxEAPwD9/KKKKACiiigAooooAKKKKACiiigAooooAKKKKACiiigAooooAKKKKACiiigAooooAKKKKACiiigAooooAKKKKACiiigAooooAKKKKACiiigAooooAKKKKACiiigAooooAKKKKACiiigAooooAKKKKACiiigAooooAKKKKACiiigAooooAKKKKACiiigAooooAKKKKACiiigAooooAKKKKACiiigAooooAKKKKACiiigAooooAKKKKACiiigAooooAKKKKACiiigAooooAKKKKACiiigAooooAKKKKACiiigAooooAKKKKACiiigAooooAKKKKACiiigAooooAKKKKACiiigAooooAKKKKACuN%2BOP7QHwm/Zx8JW/jT4veJ5dPtL7U4dN0u2stLub%2B91K9lDGO1tLO0jluLudlR2EUMbvtR2xhWI7KvFv2u/gP8VPiX4h%2BGfxl%2BBd14fl8X/CrxjPrWmaJ4tu57bTdYhudLvdMubaW4ghmktH8q9aSOdYZtrR7TGyu2ACjpH/AAUr/Y71rxm3w8tvHviCDW7fSodU1bTtR%2BHOvWkmi2EhuAt3qXn2SDTIAbWcNLdmFEKYYqWUGbwn/wAFH/2NfGfg/wAQ%2BOtM%2BLFza6f4Y0e11fVBrnhPVdMuJNPuXMdreWtvd2sU19bzyAxwy2ySpM5CRlmIB86vP2GPjP8AHW0/aRP7Qt74V8My/tB/CPTvBskfgrWLrUzo7RWusWsr%2BbcWtqZ1VNRiZDsXeyygogxuy9Y/Y2/at%2BM%2Btaz8UP2lPh38G9X1e0%2BE6eBtB8E6d4n1QaRrSy6jaXt5fXd2bBJ9PYmyg%2BzxQw3BtnDP50hIwAeyX/7fP7N2k%2BAbH4h6tdeOLSHVPED6Jpeh3Xwj8SR67e3yW5uXjh0dtPGoShYAZTIluUCKzFsA49P8JeOfDfjbwTY/EPRbi5i0rULBbyCTVNPnsZY4iu7MsFykcsDAfeSRVZSCGAIIr41tv2Gf2tJfgpJ4W8feGPCnjS%2Bh%2BIcut%2BC9B1n9ofxXb3fgOxOmxWoi0/xbHp7atcSGUXcreZDGBHeGENsjGfUvB/7Bmq%2BKfgJo3hb9pz46%2BOPEfj5PhtdeFtf8Q6T8Q9at9Muhc2tzbyTPpa3SWN5MiXTBbq4tmmdoopWKuibADc8Mf8FJP2MvF/h7xJ4s0b4tXK6Z4W8GXni6/vr7wlqtpFe6BaruuNU09p7VBqtogK5nsvPQmSMAkyIG4n40f8FdP2YfAf7M/wATf2gfhW%2Bs%2BM7v4b%2BDYfEjeGW8L6xps2r2Nw7R2t3avNYFrixlkRh9vgjmtkVWdnCqSPHfC/8AwSh%2BNC/BPxf8LPFnh3w9J4h/4UL4j8A%2BC/Hmo/tD%2BNvECSXGpWEdp5h0jVUkttGtpDDE8scEl0yeVGqFggz6P%2B1L/wAE5vih%2B0BYeKtE0Pxj4d0q2179le%2B%2BGlrLM87GDVpLiOWGdo1iANqNhBIbzBnhO9AHqkv/AAUU/ZZt/E3hrwJeav41tvEni7TpdQ0HwpefCTxLDq8tnFd/Y5LmSwk08XNvCkxG6SaNEVGWUkRsrmXwN/wUT/Y7%2BJGqarpXhD4tyXB0rQ9Q1lbufw1qVvaapp1iwS8u9NuZrdYdVhhYqHeyedVLqCfmGcXwR8APjz4x/apsf2oPjn4f8HeH5JPg5f8Ag/VNE8J%2BK7vVTBcy6tHcpJDcz6fZl4mgiUsTGjJIdoV1USHwGb9hz9pf4bfs8%2BF/Cnxo1rwIPCP7N3wP8SaB4L1PwrfXcmpeKd2hHTLe4vbeW2ii04JZozSQxS3QknZXDxqgQgH0D4U/4Kl/sL%2BNPBus/ELQ/jLdrouheDj4tutRv/BmsWcdzoIKB9Vs/PtEN/ZxmRBJPbCWOLcPMZc167a/GD4c3vxcuPgVZ%2BIxN4qtPDUGv3emRWsrCHTp55beGd5QnlL5ksE6ohfe3kyEKQjEfFX7I/7P3xC8WfBL4Q/Hb9t/Uvhlovww%2BG/7L9z4fgk07W5wmr6bqmnaWby%2B1X7VBDDpkEVppyq0CS3CZleRplWNVrsP%2BCK3wr8d6P8As76n8evit4tbxFrHjW%2Bg03w54hlgaOS%2B8I6JF/ZWiXBD8/6VDDNqhPd9WcgKCFAB9lUUUUAFFFFABRRRQAUUUUAFFFFABRRRQAUUUUAFFFFABRRRQAUUUUAFFFFABRRRQAUUUUAFFFFABRRRQAUUUUAFFFFABRRRQAV4jpH/AAUY/Y91K716z1P4pXnh5vDnhy58QahJ418I6roMc2k27pHPf2smpWsC31ujyRK0tsZUBljGcuufab2K5ms5YbO6EEzxMsUxj3%2BWxHDbT1wecd6/MTV/%2BCOX7cvxf1bwvrnxu%2BOOhvrfhrwfqFnqHijUPit4m8TjxDrf2zSr611E6XfRQ2Wk20lzpi%2BfYWQCiOTassgVAoB9sv8At/8A7MNr8NG%2BLGseIPFWlaW2uQaNY2eufDLX7DVNTv5kMkMFlptxYpe37SIGdfs8MgZUdgSEYjovAf7VnwP%2BI%2Bv2XhPw54h1SHV7/wAKT%2BJIdI1rwrqWmXaabDd/ZJZZYby3ikgdZ/kMMirL32bea8m%2BJ3wc/bd%2BMTfD342654N%2BFWh/EP4UeOptY8P%2BGbXxxqV/ouuWdxpN3plzHcXz6VDNYzFL2SSN0tbgRmIKfMEjYq/En4Dftwa/8ZfDv7TXgfRvhXaeLL74Yar4L8Y6FqXivUpLDSFuL%2BG6tb%2ByuE04SagYhG6yW8sVoJS4xLFjkA7jSf8Ago3%2ByB4j17wL4W8K/EbVdZ1P4k%2BDdK8W%2BDdO0TwPrN7PeaHqL7LXUZEgtGa1t92PMknEa24ZTN5QYE7Hw1/bc/Zu%2BK/xGufhP4Z8X6tZ6/b6Xc6nDZeJ/BmraIt/Y28iRz3dlLqNrBHfwRvLEHltmkRfMQkgMpPlH7Cn7CXxY/Zh1/4caz488QeGrs%2BDv2UvCPwxv30i5nlZtW0t5muZovMgj3Wrb02MxV22/NGmBXjXw0/4JV/tjeJ/ij4X8TftTfGGz1SLT/AHivwv408TQfF/xJrV54il1exS2/tO10y%2Bhj0/QjlSxtLRSi5UCZxGq0AfUvhP/gov%2ByP410WPxVoPjvXP7DuNV0vT9P8AEt78P9btdK1GXUr2OyspLS%2Bns0tryCW5mijFxBI8IMqFnCsCfS/C3xd%2BHnjX4geKfhd4X8Q/a9c8FyWcfie0S0mC2Ml1B9ogjMrII3doSshRGZkWSMsFEibvmHxx4E%2BIvhX/AIJ7eNPgR/wUM8T/AAq8EeAtB%2BGkWgW3xM8O%2BLbsM06RpbWupPaXVnAmmzLMLeSGCO4umM5REcnaG7X/AIJX/D74seG/2RNK%2BKv7RVglv8TvixfS%2BOviJCtu0X2e/v1jMNpsb5k%2By2MdlZ7TkgWuDQB9G0UUUAFFFFABRRRQAUUUUAFFFFABRRRQAUUUUAFFFFABRRRQAUUUUAFFFFABRRRQAUUUUAFFFFABRRRQAUUUUAFFFFABRRRQBzXxik%2BJsPwy1if4Oa1oOneJYrXfpl74m0qa%2BsYirAuZYIJ7eSUeWHwqyx/MVy2M143H%2B2D4%2Bh/4JpeDv2w5/DGkXHi/xb4A8M31tpaCWLThrOsrZQwqQXeRbZbq9TI3s4jUjcW5r2z4meDtU%2BIPgPU/BejfEHWfCtxqNv5KeIPD8NnJeWYJBZolvbe4tySAVPmQuMMcAHBHlHgn9g/wp4Y/ZWtf2O/E3xw8eeKvCGn%2BEIPD2ltrjaVDe2UFt5Ys7iOaxsLci4thDF5chB5jVnDvliAbP7LXxd%2BKPjnWPiJ8KvjZPoF54n%2BG/jCHSLvWvC%2BlT2FjqsFxpdjqUFwlrPcXMluwW9MLRmeXLQFwwDhV5H4oftN%2BNPHX7W2hfsl/sn/tA/Cm31m38H%2BIda8eQa1o0niK80qWyu9Ft7a3ktrPVbJ7MyDUrhiZtxbyFCgYY16X8Av2f9H%2BAmm68Y/HOv8AivXPFevnWfFPirxQ1p9u1S7%2BzW9ojOtnb29vGsdta20KpFDGoWEEgszM3C/ErxFBpn/BS74OaDOADqfwW%2BIYhbPJePVPBz4/753n/gNJtRWpdOnOrK0Vd2b%2BSV3%2BBpf8IP8A8FC/%2BjoPgz/4YfVv/moo/wCEH/4KF/8AR0HwZ/8ADD6t/wDNRXs1FMg8Z/4Qf/goX/0dB8Gf/DD6t/8ANRR/wg//AAUL/wCjoPgz/wCGH1b/AOaivZqKAPGf%2BEH/AOChf/R0HwZ/8MPq3/zUUf8ACD/8FC/%2BjoPgz/4YfVv/AJqK9mooA8Z/4Qf/AIKF/wDR0HwZ/wDDD6t/81FH/CD/APBQv/o6D4M/%2BGH1b/5qK9mooA8Z/wCEH/4KF/8AR0HwZ/8ADD6t/wDNRR/wg/8AwUL/AOjoPgz/AOGH1b/5qK9mooA8Z/4Qf/goX/0dB8Gf/DD6t/8ANRR/wg//AAUL/wCjoPgz/wCGH1b/AOaivZqKAPGf%2BEH/AOChf/R0HwZ/8MPq3/zUUf8ACD/8FC/%2BjoPgz/4YfVv/AJqK9B8d3/hTS7tNW8e39ha6Hpui3%2Boalc6tMkdpbRw%2BSWnlaQhEREMhLNwoySR1rzb/AIa//wCCcH/R0XwR/wDC20f/AOO1jVxOHoNKpOMb95Jfm0elgcmznNISngsLVqqLs3Tp1KiT3s3CnNJ21s2nbW1tSx/wg/8AwUL/AOjoPgz/AOGH1b/5qKP%2BEH/4KF/9HQfBn/ww%2Brf/ADUVX/4a/wD%2BCcH/AEdF8Ef/AAttH/8AjtdF8NPjF%2Bxv8aNdl8LfB34p/DPxZqdvaNdT6d4a1zTr%2BeOBWVGlaOB2YIGdFLEYBdRnJFRDGYOpJRhVi2%2BilFv7lJs6MRw3xJhKEq1fA14QiruUqNaMUu7lKjGKWq1bS13MX/hB/wDgoX/0dB8Gf/DD6t/81FH/AAg//BQv/o6D4M/%2BGH1b/wCaio/2jPj98Ev2afHHw28E%2BMPhFqmpP8SfEt1o1hP4a8DXeqGzeDTrm9MkkdlbTPgi32YwDhnk/wBXDKyZ%2Bh/tf/sc%2BKvDWr%2BMfBnhnxHr2l6Hr0mjX174e%2BCuv6gj30U11BNFB9m05zdCKWyuI5Xh3pCyoJGUyx7%2Bk8U1P%2BEH/wCChf8A0dB8Gf8Aww%2Brf/NRR/wg/wDwUL/6Og%2BDP/hh9W/%2BaisPxD%2B2R%2Bxn4SE/iLXtZ8NN4aPhbwprWm6tpeiXl9Pex%2BIdQurDTNkEFkwdJ57dUjMckkhZm8yKFVjeXt/hV8Vf2YfjTodhrvgGfR3/ALSv76xtNN1fQ30zUPtVk7Jd272V5FFcxSwsp3xvGrKMMRggkAxP%2BEH/AOChf/R0HwZ/8MPq3/zUUf8ACD/8FC/%2BjoPgz/4YfVv/AJqK434y/tVaJ8LfjDqvhHSf2btE1bwh4P1Lw3p/xB8Vyaqltc6Xca3drb2wtbL7I4vFhEtvPcM88GyKcGMTurRjoP2mvi/efCLxloHws%2BC/7NHh/wAceLNa8N614jbTNS1hNIgi0rSjZR3LLOLS5L3DzahZxQwlEVy7lpY1jJoA0v8AhB/%2BChf/AEdB8Gf/AAw%2Brf8AzUUf8IP/AMFC/wDo6D4M/wDhh9W/%2BaivLdP/AG9Ph74t1rTPGHw4/Z00jVPhe%2Bp%2BDtK17xpdajHbX1lf%2BJksX01IdPFq63ESrqmlmeRriIxi8JVJfKek8TftwaL4A%2BJPxP8Ahn4o/Zz8FeINR%2BHXw41nxhLp3wv8XLr9/DFYtB5Nhqds2n250u9vI7hZLeLdOJFt7ohiIQXAPU/%2BEH/4KF/9HQfBn/ww%2Brf/ADUUf8IP/wAFC/8Ao6D4M/8Ahh9W/wDmorzb9n39qvxT%2B1P8Otf8SfAH9nP4PeKdQ8P%2BLYNJfVdE%2BK32vwpfW72Ed289rrEOjvJPJE0scEkK2mEkbBkwrYyPiH%2B394W8GfsveBf2s7L4BfD46D4u0xZv%2BEe1zx3FZa5qN4X2jT9CtU0%2BaPW7iXaxgUTW/n7oiNokyoB7B/wg/wDwUL/6Og%2BDP/hh9W/%2Baij/AIQf/goX/wBHQfBn/wAMPq3/AM1FeZj9uPwG/wC3N/wxpH8C/CBnHik6I0R8SxDxIE/sb%2B0/7Y/sY2f/ACB8/wCjfbvtP%2Bu%2BXy88V1/wT%2BLfjz4t6F8XNI1D9k/wbpfjf4Y%2BN/8AhHLXw9F4uFzY6q8miaVq9vK96dOja23RarHG6iCbY0TbWlBFAG7/AMIP/wAFC/8Ao6D4M/8Ahh9W/wDmoo/4Qf8A4KF/9HQfBn/ww%2Brf/NRXler/ALenw40L9kv4W/tBeI/g74B0DXvinKsFjo/irxnBpuiaVKttcXNxJd6vJZ5jt0S2dVkFqXkklhQRjeStrX/2w9O0X9onwB%2Bzo/wu%2BB9tqPjHwVpviCW%2B1j4trax3RurqSBrbRgNJc6wyrEZEP%2Bj%2BYrpwm7IAPSv%2BEH/4KF/9HQfBn/ww%2Brf/ADUUf8IP/wAFC/8Ao6D4M/8Ahh9W/wDmorlPGf7XXwl8JftdRfs1R/BjTrnRbLwtq2p%2BK/HOYlg0q9sre2u205YBCxnlFpdRTyNvQRLPbgCQyMIuH0j9vYxeEDd%2BPf2ONE0bxL4h0Lwtq/w28OweJY7ldZg8Qakum2cV5P8AYU/s%2BeCeSFrpUS5jijlDRSXBVlAB7H/wg/8AwUL/AOjoPgz/AOGH1b/5qKP%2BEH/4KF/9HQfBn/ww%2Brf/ADUV5n4n/a98QeHPhD/wsI/sg%2BEpdU8OfFiz8DfEzRm8XhItFludRsrOO6sp/wCzS2oq8eoWtwiPFako5DGNgRXXftEftL/D34IfHb4dfAXQPgdp/iTUPGPiCztPEN3G8VvF4asrozR2tzL%2B5cyyTzQSrFB8m9ba6fzF8kK4Bvf8IP8A8FC/%2BjoPgz/4YfVv/moo/wCEH/4KF/8AR0HwZ/8ADD6t/wDNRXNab8Z/HGm/texfs2/Ej9mb4b6docvg7VvE8vi3R/HMt5Lp2nWt1b29s15az6RbxwPcmaRlC3EiqLO4%2BZggLYHwf/bl%2BFnxO%2BF3xT%2BLWq/s6JpOn%2BBPGltoXhOwUQzX3i9b3TdMvdKkhhaKP7NNenVbaOK3dmK%2BYhkZCXSMA9E/4Qf/AIKF/wDR0HwZ/wDDD6t/81FUPA/jj9qzwd%2B1Z4c%2BCPxu%2BI/w98TaN4m%2BHviHXIZvCvw8vtFurS602%2B0S3RWe41e%2BSWN01SUlQiMGiQhsZBufs7/EjR/2h/2RfD/7Rkvwo0zwpqfiDwudTbSrG5W6/s2cK3yJciGEyhWXh/LTP90dKf44/wCUhfwv/wCyM%2BPP/Tt4QoA9mooooAK5n4r/ABp%2BDnwH8Lr43%2BOPxZ8M%2BDNFe7jtU1fxXr1vp1q0752RCW4dELttbC5ycHA4rpq%2Bdv8Agq%2B4uP8Agnx8VfDVj4B8SeJdY1/wVqmk%2BHNK8KeDL/XLyXULixnjhCw2ME0kQJJUzMqxrvwzruGQD3Lx58QPAfws8I33xA%2BJ3jbSPDmg6ZEJNS1vXtSis7S0QsFDSzSsqRjcwGWIGSB3rn9e/aa/Zu8LeGfDnjTxP%2B0H4H07RvGM0UXhHVr/AMWWcNtrckgBjSzleQJcswIKiMsWBGM15D%2B1X43g%2BKfgf4dfFbwf8P8Axzqug%2BC/ihoXiTxVosnw51iDUZdO8q5SOWPT57VLm5ktriW2ungjjeZPs2dm8Kp%2BYtS%2BGXxE8I%2BCPEXizxj%2BzV441zRPiV8PvixpPgXwtYeCLy7utMm1zxNLf2VleWyRFtLW/tpIJGe5EUNubcx3DwlVUgH6ZV84/CbxV%2B3f8ddH17x34X%2BN/wAJNA0u3%2BIXirQ9L0q/%2BD%2BqX9xFa6Xr1/pkLS3CeIoFlkeOzV2ZYo13OQFAAr1/RPDXxU0j4HaX4R0zxlpkPjCz8O2tq%2Bu6zpkuo2pvUiRZJpIUnt5JlZgxwJYyc5zXnX/BOm38S2n7N19a%2BMtWsb/V4/i38Q11O%2B0zTntLa4nHjPWvMkigeaZoULZIRpZCoIBdsZIBe/4Qf/goX/0dB8Gf/DD6t/8ANRR/wg//AAUL/wCjoPgz/wCGH1b/AOaivZqKAPGf%2BEH/AOChf/R0HwZ/8MPq3/zUUf8ACD/8FC/%2BjoPgz/4YfVv/AJqK9mooA8Z/4Qf/AIKF/wDR0HwZ/wDDD6t/81FH/CD/APBQv/o6D4M/%2BGH1b/5qK9mooA8Z/wCEH/4KF/8AR0HwZ/8ADD6t/wDNRR/wg/8AwUL/AOjoPgz/AOGH1b/5qK9mooA8Z/4Qf/goX/0dB8Gf/DD6t/8ANRR/wg//AAUL/wCjoPgz/wCGH1b/AOaivZqKAPGf%2BEH/AOChf/R0HwZ/8MPq3/zUUf8ACD/8FC/%2BjoPgz/4YfVv/AJqK9mooA8Z/4Qf/AIKF/wDR0HwZ/wDDD6t/81FH/CD/APBQv/o6D4M/%2BGH1b/5qK9mooA8Z/wCEH/4KF/8AR0HwZ/8ADD6t/wDNRR/wg/8AwUL/AOjoPgz/AOGH1b/5qK9mooA8Z/4Qf/goX/0dB8Gf/DD6t/8ANRR/wg//AAUL/wCjoPgz/wCGH1b/AOaivZqKAPGf%2BEH/AOChf/R0HwZ/8MPq3/zUUf8ACD/8FC/%2BjoPgz/4YfVv/AJqK9mooA8Z/4Qf/AIKF/wDR0HwZ/wDDD6t/81FH/CD/APBQv/o6D4M/%2BGH1b/5qK9mooA8Z/wCEH/4KF/8AR0HwZ/8ADD6t/wDNRR/wg/8AwUL/AOjoPgz/AOGH1b/5qK9mooA8Z/4Qf/goX/0dB8Gf/DD6t/8ANRR/wg//AAUL/wCjoPgz/wCGH1b/AOaivZqKAPGf%2BEH/AOChf/R0HwZ/8MPq3/zUUf8ACD/8FC/%2BjoPgz/4YfVv/AJqK9mooA8Z/4Qf/AIKF/wDR0HwZ/wDDD6t/81FH/CD/APBQv/o6D4M/%2BGH1b/5qK9mooA8Z/wCEH/4KF/8AR0HwZ/8ADD6t/wDNRR/wg/8AwUL/AOjoPgz/AOGH1b/5qK77xz8cPgt8MFZ/iX8X/C/h0IMudc8QW1oFHv5rrivLNc/4Kjf8E8fD7sl/%2B2B4HkKHB%2Bw6wt0PwMO7P4Vy1sdgsO7VasY%2Bsor82e7l/C/E%2Bbw58DgK9Zd4Uas198abX4mr/wAIP/wUL/6Og%2BDP/hh9W/8Amoo/4Qf/AIKF/wDR0HwZ/wDDD6t/81Fef6t/wWr/AOCY2jN5dx%2B1JaTPnAWy8N6pcbj6Dy7VhVH/AIfPfsjaxx8NvCnxQ8ZE/cXwx8Nr%2BUv9PNSOuR55kydvrEG/KSf4K7PoYeFfiXOPM8nxMV3nSlTX/gVR04/ienf8IP8A8FC/%2BjoPgz/4YfVv/moo/wCEH/4KF/8AR0HwZ/8ADD6t/wDNRXmI/wCCnfxN8ScfDT/gmL%2B0Hf7v9XJ4g8LQ6RG/uGlmbj3pf%2BGz/wDgpPqnzeGv%2BCROpsjfdk1X4zaRaED1KtGT%2BFL%2B28vfwuUvSnUf/tiK/wCIY8XQ/jxoUvKpi8HB/c8VI9N/4Qf/AIKF/wDR0HwZ/wDDD6t/81FW/wBlb4jfGnxhrHxQ8CfHTX/C%2Brap4B%2BIUWh2eq%2BE/DVzpNvdWsug6Pqas9vcXt4yyLJqMqFhLtKxodqnOfJv%2BGh/%2BCueq/8AHh/wTq8F6Vnp/anxct59v18mPmuh/wCCdmr/ABl13XPjzqv7QXhHR9B8Xy/GaD%2B1tJ0G/a6tIMeEfDYi2SsAWzCI2b0ZmHaujDY%2BliqjjCE11vKEor75W18jx874Tx2Q4WNeviMPO75eWliaNaa0bu40nK0dLOV7XaXU%2Bk6KKK7j5cKKKKACiiigAooooAKKKKACiiigAooooAKKKKACiiigAooooAKKKKACvj/9rbxUfDX/AAWA/ZAsWfbHrPhD4nWEjZ4/49tCmUH6tCo%2BuK%2BwK/P7/gqp4iPg/wD4KefsPeJA%2B3PifxJp5b0F3caBbY/HzMVwZnV9jg3U7OP/AKXD/M%2Br4IwSzLiSnhLX54V0vX6tiWvxgfoDRRRXefKBRRRQAUUUUAFFFFABRRRQAUUUUAc/4q0DQvFesJ4W8U6LaalpmpeH9QtdR07ULZZoLqCRrdJIpI3BV0ZSVZWBBBIIwa4b/hgf9hX/AKMs%2BEv/AIbnTP8A4xXXfErx14V%2BF8V18S/HWqfYdE8O%2BFNV1PWL3yHl%2Bz2tv5EssmyNWd9qIx2qpY4wATxXzt/w/N/4JZf9HRf%2BWTrn/wAhV5uOxGT0ZxWMlTTa05%2BW9vLmT0v2LjxdV4b/AHUMxlhufWyrzpc1tL2jVp3ttdp22v0PW/8Ahgf9hX/oyz4S/wDhudM/%2BMV0Pw0/Zk/Zt%2BC%2Buy%2BKfg7%2Bz34H8J6ncWjWs%2Bo%2BGvCdnYTyQMyu0TSQRqxQsiMVJwSinGQK8D/4fm/8Esv%2Bjov/ACydc/8AkKvRP2aP%2BCkH7F/7YPju7%2BGn7Onxl/4SLW7HSJNTurL/AIR3UbTZapLFE0m%2B6t40OHmiG0MW%2BbOMAkc%2BHxfDtSvGNCdJzb05fZ3v5WV7%2Bg34h4jNV9UlnE6qqacjxNSal1s4uvJS22cXttodF%2B0V8B/Fvxe8QfDvxz8PviFp3h3Xvh14yk13T5tY8PSanaXaTaXf6ZPbyQx3Vs4Jiv3dJFlG140JV1yp8l8df8E15vFfwI8HfBaH4l%2BG9Qh8KfEDXPEtxY%2BNvh8NZ0PWV1K41KbyLrTDeRCV4DqAaKRpWVZYFkMZyFX3j4i/G3wh8LfHHgzwR4ut7yE%2BOdTu9O0nVAkf2SG7t7Ge%2BMM7s4ZC9va3LoQrKfIYEqSu7xS9/wCCrX7Oej6l8K4PEuh6zpFn8YLTR7jwle6trGh28xXVboWthv099SGouJZHgJeC1lSNZ1aRo9k3l%2B0ZnNfDH/glBH8N/B3hHwgnx5N6nhTwx8MtHSdvCixfaR4Q8Q3msiXYlxtj%2B1fahBsUYg8vePMB8tfdvgt8CfEXwX1vxNc6b47sr3T/ABX491XxLqVrPobrNH9rSIR28UouNq%2BW0ZLOyN5gbAWMjcfF/Cf/AAUpsdEsLvWPjTYGMWt58SxBpvhrw88sl9F4e8cp4asIopJLzP2ucT2ieV5RSaadnEtsiCJ%2B4/Zh/a%2B8V/G34jfE3wj8QfhFrnhA%2BEPH1h4c0nRdQ0bz7%2BAzaDZakzX0tjPd2oUtPJtnSUQ7TEhbzTggFX4zfsOa38UvjFqvi7SPjFBpHg/xhqXhvUPiD4Tl8NG5udUuNEu1uLc2t79pQWazCK3guFeCffFABGYHZnOn8ff2X/jJ8VfE%2BjfFD4efHzRvCXjLRtI8ReHotXfwPJf2r6Fq01rK0P2Y38ZF5CdPsGS6MhjMkUpNvsl8peR/bP8A2v8A44/BXxR43j%2BDeleFpNM%2BEXwg/wCFj%2BO4PEenXNxca1ZGa%2BEenWLw3MK2czRaVfn7RKs6hzAPKwWYd/8AtN/GP4p%2BF9e%2BHPwo%2BA134es/EnxH8RXNnb654r0e4v7HTLO2026vpp2tYLm2kuHYwRQqgniA88yEkR7HAPO9P/4Jo2nhLWtM8H/Dj4uJpfwvTU/B2q694LuvDpub69v/AAylimmvDqAuUW3iZdK0sTxtbymQWhCvF5r1a%2BLf7B/xU/aO1XxDqXx6/aO0uT7Z8ONf8HeG/wDhCfAj6VJZ22qy2kks1609/di/dPsMAEaiCFt026M718vxjx1/wVd%2BP2naV4R1vRPBXhrTTc%2BDNN1LXrK48Lanqtte6o%2BuXOk31o2pW08cHhy0ie1LxahqSNDMJiFG62mU994Y/wCCh/jq9/bE0/8AZ68T%2BIfA9pJ4l%2BJXiDwZpfgGLR7o%2BItCWw07UL6012%2BlN35c1leR6czRxrbw5W9g2zyGOXABofED/gn3%2B0V498CeN7D/AIa08NaX4l%2BJniPSZvHl9pPwwurfStQ0OxszbHSY7OPWVuYGuAEWe6F4ZGhDQoIxsaPsvjd%2Byp8f/jX8AD%2BzRN8dPAOgeF9a8HSeHfF8OhfCaeOQ28itEW0ndq7R6YywMqRiVLsRvGrgcbK5fwP%2B1r8ffh/46%2BNFt8f/ABN4M8YeHvhjHoWkaRL4D8DXej32reKtQj8/%2Bxo0utVvUlkMd3oyxkFMy6gQ20Jk8X4l/wCCjP7SPhL/AIJ7av8AFq%2B8F%2BCb34322qfEOztdC0%2BC7OhQQ%2BFtY1S0u9QlVpvtDW0dvYRBj5iebc3VvEDD567AD04fsH%2BKG%2BPyfEO4%2BN9pL4Pj%2BKQ%2BIMXh%2BTwmzayurjS/7PEP9rG72mzCc%2BV9l83Z%2B587y/lrT%2BCP7Nv7U3wk8XfGTxtqf7RXgDVb34o%2BIl8QaWkHwovraLRdSj0jTdJiMqnXJDeW4t9Lt2aJWgdpHlYSopVFyf2hfjX%2B1f4J8WfCJ/hX42%2BHj2vxL8Y6Noo8J6v4Bvri%2B8loZL7VrlL6LVokjEWn2t5JGGtXAkSJGLb6t3/7R/xf%2BEf7VTfDD42eO/h/qHhC68Ga94rvptE0K70678GaTYzwrbXOpXM17PFcRzJJMu8RWv7y2lKLIkcnlgHM/Dz/AIJ7fF3wV8CPhX4H1T4/%2BDNT8b/BfxLPqXgLxa3wtuE08W82n3NhLb3entq7yTOY7y4YTRXUGGWH5cI4ltav/wAE%2BPiDdfs5aD%2Bx/pHx70C3%2BHsOj2tp4rW4%2BHjS6zfTJfPeTS2F2uoJBpqszBYUNrObYKCjEhStb4K/ta/tPfG/wV8Ztc1HRtC8C3fgrxVZHwpb3Pw91bxBew6HcaRY6lEt7ptndxXFzqDRXR3Q25TynYR7JTEWk5fxl%2B3l%2B0lYfsA6f%2B2Zos/hqzvbCfxFb6pojfCXXdUGtSWN7dwWjOttfJJ4Yjmjsme4bURKunvcCK5ZHgcOAd7r3/BLX9n/AFH9orSvj5o2u%2BL7CGKTxPceIfC7eP8AXp9P1S61vYbmRbaTUDbWqFvNZoY4PLkMi5UeUmMHR/8Agmf44l8IG08fftMQaz4l8PaD4V0j4beIoPBP2ZNGh8P6kupWc15b/bH/ALQnnnjhW6ZHto5Y4gsUduWZj0vxb/ab%2BOHww/aW%2BGXglLjQr3w78RNXtLL%2Bwf8AhANUR9PjktJ5JZj4l%2B1nTHmWWBill5CzzIQIweHrmPiR%2B19%2B1P8AAjWPit4X8Ut8OvHeoeCfg5d%2BNYD4b0i60aHQrpZWW007UHub%2B4Wc3EazSxyK1szLYzfu18yMgA0viD%2BwV8cPE/7PepfC3wz%2B0n4WsfFXiv4nW3jfxz4r1T4Z3N3a315bX9pd28FpZR6vA1pEg0%2Bzg%2Be4uGMUTZbe3mDR%2BMX/AATS%2BG3xt%2BIPhr41%2BJPHXiTS/G1l4t0PxB4u1Dwx4w8Qafpmu3GnW3kBU02LVPItNwChXxLIigqWkLuzeR2n/BUP4tWXw%2Bl0rW7jRX8R6r8ZrfwN4Z8RzfCDxFYOqP4ebW5bi58JyTyax5qpBcW8UHmI1yzQzKUhYtXo3xf/AGqfj54P/Zr8PftQfCv4u/C7xbpMlrZW50ePwLqdvd%2BNNXnvvsy6fpwbUi2lzuxEKwzx3bxzbxIFEbUAek6h%2Bxz4J8ceMfjH4h%2BMeqyeJLH4v6JY%2BHLzS4vOsDYeHbazliGmrPBMJW33F5qdwZkMRH20IBmPe/n3gj/gk5%2Bz14b17xzqPiTxn8R9atfFPxC07xZoqy/F/wAVRX2hXNnoUOkpsvxqpuJXKrdMZd6ExzxQsGS1gK4Wof8ABRHxf4a/bSg%2BBPjDWvBlnp998U18F2ngD%2BzLr/hJ1tpNKN3b%2BImnNz5TWMtwBAFFqEAkH%2BkmVTAfr%2BgDxr9mv9mLSv2Of2OLH9nbR/GWqeIIvD2g3cbavq19dTy3DMJHJH2q4neNPmwIxIVUDCgDik8cf8pC/hf/ANkZ8ef%2BnbwhXqXjn/kSdY/7BVx/6LavLfHH/KQv4X/9kZ8ef%2BnbwhQB7NRRRQAUUUUAFFFFABXjP7B//JENc/7LN8R//U11uvZq8Z/YP/5Ihrn/AGWb4j/%2BprrdAHs1FFFABRRRQAUUUUAFFFFABRRRQAUUUUAFFFFABRRRQAUVleN/Hfgn4aeGLvxr8RPF2m6Fo9jHvvNU1e9S3t4F9WkkIUfia88%2BBf7dX7IH7S2oyaL8EP2hPDeu6hFIyHS47zybt9pwWSCYJI6f7aqVPY1hPE4anVVKc0pPZNpN%2Bibu/uPUw2SZ1jMBUx2HwtSdCnpOpGnOUIX/AJpqDjH5tedlq/WKKKK3PLCisrxn468E/Djw/N4s%2BIXjHS9B0q2GbjUtZ1CO1t4h/tSSMFH4mvFIv%2BCqX/BOya5e0T9r3wYGjcqxfUSqkg44Yrgj3Bwa5q%2BMweGko1qkYt95Jfm0e1lnDXEed0pVcuwVavGOjdOlUmk%2BzcISSfle/kfQFFeLWH/BR79gTUsfZ/2yvhquenn%2BMLSL/wBDkFaUf7eP7DkozF%2B2Z8KGz6fETTP/AI/ULMMvltWh/wCBx/8AkjoqcH8X0naeW4hf9y9f/wCUnq9FeWr%2B3J%2BxQ/3P2wfhafp8QdN/%2BPV2fgD4rfC74r6a%2BsfC34k6B4ltI22yXWgaxBeRq3oWhZgDWtPFYarLlhUi32Uov8mzhxeR55gKXtcVhKtOPedKrBffOnFfib9FFeXfteftX/Dz9jv4O3XxT8cxzX11LMtl4b8O2PzXmuajJxDZwKASzM3UgHaoLYOMGq9alhqMqtV2jFXbfb%2Bv8t2Y5ZlmYZ1mNLAYGm6larJRhGO7b2X5tttJJOTaSbXLft0/tjXH7NPhnSvAHwq8ODxT8WfHdw2n/DzwfEcmecjDXc%2BCNlrCPndiQDjGVG508y8If8EjNI8c%2BGrPVf2yP2ofiv8AEPxNeQ%2Bd4htT49ubbR1uHJZ47W3iCGOFSdqjI4GQqA7R1n7C37KPxD0LxLqv7Z37XTw6h8ZPHFuFmtl%2Ba38JaXndFpNoMkLtGPMYE7myMt8zyfTdePSwX9qP6xjYe6/gpu9ox7ySaTnLdp3UVaKV%2BZn6Pj%2BJ/wDUSmsn4XxCVWLviMVBRcqtTb2dCcoScMPS1jGUOSVefNWb5PZRXzl4F/4JH/8ABOH4esr6J%2Byb4au3U5L6%2BZ9ULH1P2ySUGvVND/Zg/Zp8MIkfhr9njwNp6xjCLY%2BErOEKPbZEMV3NFejRy7L8OrUqMI%2BkYr9D43MeMeL83nzY7McRVf8Afr1pfg6lvwKOk%2BGfDegLs0Lw/Y2QxjFpaJGP/HQKvUUV1pJKyPnpznUlzTbb7ttv722FFFFMkK8Z/Zf/AOS3/tHf9lmsf/UK8L17NXjP7L//ACW/9o7/ALLNY/8AqFeF6APZqKKKACiiigAooooAKKKKACiiigAooooAKKKKACiiigAooooAKKKKACiuO/aD%2BM2hfs7/AAO8WfHPxJpl1fWfhTQLnUpNPsdvn3jRRlkt4txC%2BZIwWNdxA3OMkDJrhvhj%2B1R441jQ/iVpnxe%2BCQ0fxp8MLWO81Xwt4Q159cTU7aax%2B2Wz2U721q8rybZoPLaFCJoHALIUdgD2qvzl/wCC6P8AxJfjH8Dfih0/4Qey1bXfM/55%2BX4j8HQ7vb/X/rX0n%2BwV%2B3jb/ttxeJHsvDXhVIfD9npVz/bPgTx4PEelSPfRTSGwe6%2ByW3lahbCJTcWuxvKW5tzvbzCF8M/4Lc%2BFP%2BEy0K40kR7jB%2Bz143vwMdPsviHwTc5/Dys15edxc8nxCW/JJr1S5l%2BMT7rwwr08P4jZRKp8LxFKEv8ADUl7KX/ktVn31RXPfCXxWPHnwq8M%2BOBJvGs%2BHrK%2B35%2B950CSZ/8AHq6GvShJTgpLZq/36/qfF4ihUwuInRqfFCTi/WLcX%2BMWFFFFUYhRRRQAUUUUAFFFFABRRRQBlXf/ACO2n/8AYLvP/RltWrVTVNE07WPLa9jk3wkmKWC4eJ0z1AZCGAPGRnBwKrf8IfpP/P3qv/g8u/8A47QBqUVl/wDCH6T/AM/eq/8Ag8u//jtH/CH6T/z96r/4PLv/AOO0AcN%2B13%2Byn8Pv2zvgfqHwJ%2BJGv69o9jfXNvcRa14Vv0tdSsZIpA263meOQRl08yFztJMc0ijBbI4j4q/8E4fhL8UfiD/wmsPxJ8aeGtPnu/Ct1qnhPwzc2EOm6jL4dv0vdL8zzbOS4REeNEaKKaON0HKbvnr3D/hD9J/5%2B9V/8Hl3/wDHaP8AhD9J/wCfvVf/AAeXf/x2gDwzV/8Agmh8Adcsbqx1HxF4rYXEPjARSx6lAklrN4i8TQ%2BJbi5iZYAVmttQt4Wtm5CIgEgmb566z4FfsmW/wJ1vxN4ssvjz478Ra1408W2%2Bv%2BLNW8SPpbyalLDpkOnJblLexhigg8q2gbbAkTb4gQ4VnVvR/wDhD9J/5%2B9V/wDB5d//AB2j/hD9J/5%2B9V/8Hl3/APHaAPLf2kP2Ifhx%2B0z4ik1/xN458VaHHqvhl/DXjPTfDl1ax2/ivQmmMraZfCe3mfycvOu63aCYJdTqJAJCK2fjR%2BzPbfGgafqN38YvF2ga34f8UnXPCHiTw%2BNNW78PytYPYy28C3FlLDNBJDNc7kuopzuuGYMvlw%2BV3P8Awh%2Bk/wDP3qv/AIPLv/47R/wh%2Bk/8/eq/%2BDy7/wDjtAHz9rX/AAS3%2BBd9oEHgvw/8RPHWg%2BH7rwJp3g7xloWl6naPD4v0eznup44dQkubWWYO73195s1tJbyyi7kDufk2%2Bkt%2BzRZ6r8dbD45eOfi74u8Sf2Bd3N34P8KasdPTSvDt1PbPay3FsLaziuJZTby3EQa5mn2JczBNu%2Bu4/wCEP0n/AJ%2B9V/8AB5d//HaP%2BEP0n/n71X/weXf/AMdoA4DRf2NP2fYvhr4g%2BE/xC8A6d490XxV4z1HxR4gtPH2lWmpx3t/d3j3QZ4pIREywZjhhGzMcVvCuWZSx81f/AII7/wDBPKb9nnXP2bLr9mjwfPo2san4p1Cz1GbwZpLX2iXGu3Ms9zJYSG02WzQq0EEDBCY4bCzRjJ5Cmvon/hD9J/5%2B9V/8Hl3/APHaP%2BEP0n/n71X/AMHl3/8AHaAOJ8PfspfCbwp458A%2BM/DVhLYQfDPwffeHfB/h2xigg0yygujZiSdYI4lxOsdkkSMpVUjmmUJ%2B8JrlPh3%2Bwd4U8E/EL4ieMvE/xp8YeONK%2BKd9eT%2BNPBvjjTdAvdMv4Z4zClk7LpaXT2kEB8iG2e4aNYywZXLuzew/8IfpP/P3qv8A4PLv/wCO0f8ACH6T/wA/eq/%2BDy7/APjtAHivgD/gnF%2Bz/wDAm%2B8c63%2Bykknwe1Px9rFhf6pqXw48NaFatara2kdslrBFPp00It2CNKySRyHzZ5ZFKFuHX37BGkt8IT8EfDn7THxO0PRNSbWJPGbabcaQ1z4qm1S5lub6a7mn06RoJJJJ58GyNqI1l2xhAkez2j/hD9J/5%2B9V/wDB5d//AB2j/hD9J/5%2B9V/8Hl3/APHaAPMtd/Y40DxL448P6xrfxk8aTeEvCuqabqXh74YK%2Bmx6JZXVhEiWkgdLIX8gjeNZxHJdtGZQCVIAUch4J/4JseDfDPw9%2BIPws8V/tH/EvxfonxKlvbvxFF4ifREuf7RuZUkGopeWWmW9y1xCIoo4fNlkiiiiijEeyKNV98/4Q/Sf%2BfvVf/B5d/8Ax2j/AIQ/Sf8An71X/wAHl3/8doA8WT/gn54QktbnX9U%2BPHxAvvHs3i%2B28S23xRun0gazZX1vp0umReTEmnrp6xixuLq3MZtCGW7mZsu28ZMn/BNPwlYa/wCAvEfgj9pn4n%2BHp/h7bamdIjs20K8iudS1K6ludQ1eaPUNKuV%2B33Dzzq00QjCRzyxxLEssgb3/AP4Q/Sf%2BfvVf/B5d/wDx2j/hD9J/5%2B9V/wDB5d//AB2gDiNe/Zos/GHxy0z4zeOfi74u1qy8P6l/afhjwLeHT00bSL/7G9n9rjENml3M/lyzkLcXE0aPOzqissZj9LrL/wCEP0n/AJ%2B9V/8AB5d//HaP%2BEP0n/n71X/weXf/AMdoATxz/wAiTrH/AGC7j/0W1eXeOP8AlIX8L/8AsjPjz/07eEK9RPgzQ3ws7X0yZBMVxq1zIjezK0hVh7EEV5d44/5SF/C//sjPjz/07eEKAPZqKKKACiiigAooooAK8Z/YP/5Ihrn/AGWb4j/%2BprrdezV4z%2Bwf/wAkQ1z/ALLN8R//AFNdboA9mooooAKKKKACiiigAooooAKKKKACivFv2wP24Phn%2ByRpNho13pt74p8d%2BI38jwZ8PPD6%2BbqWszkkLhFBMUIP3pWGAAcBmG0%2BR6Z%2Byt/wUV/al0%2BLWv2tv2wLn4a6RfIJJvh38G7ZLW4t0bnyptVcvIzgfK4TfGTnBxXm18yjCs6FCDqTW6jZKN9uaTdo37aytry23%2B2yrguriMshmma4qngsLNtQnVU5Tq8ukvY0acXUqKL0c/3dJS932rldR95%2BPn7ZP7Lf7L1k138efjl4f8OyCPeun3V6JL2VfVLWLdNIP91D1rxaP/gtB%2ByLJGLo%2BFfietrIN0F4fhtf%2BVMh6OpC5Kkcg46GvQ/gH/wTd/Yw/ZvvV1/4ffA/TLnXvM82XxP4i3anqTy9TIJ7ku0bE8ny9g9q9yrNQzut7znCn5KLn98m4/grHZLFeF%2BXfuqeFxWMfWpOtDCr/tylTp12l51Kjl5I%2BTP%2BH2P7AsH/ACF/GHizT8dftnw%2B1Vcf98wGs66/4KNfGz9qO4fwt/wTV/ZyvvElux8u4%2BKPxCtZtJ8O2TdCURwtxeMp4KIFZTg7WFfYlFJ4TNqvu1MSlHryQUZfJuUkvVRv2HDiHw/wL9tg8lnOqvhWIxUqtFPvKnTo0JTt0jKqoP7Sa0fyZ4J/4Jcab8QvE9r8V/8AgoJ8YtV%2BNfie3k86z0bUl%2By%2BG9Kf%2B7b6dGQj4B2lpMhwAWQGvS/jl/wTy/Yw/aJ0yGw%2BJf7Pvh957WFIrHVdItP7PvbRUAEYjuLbZIFTA2oSVGPu4r2iitqeU5bClKn7JSUt%2BZczl5tyu2/np0sedivELjXFY%2Bli1jqlKVLSmqUnRhST3jTp0vZ04RfVKD5vtub1PkD/AIYz/b1/Zp/0r9jX9tabxTo0HMXgH44W7ajFtHRI9RhAuI1A%2BVUACjjLcZpxsP8Agsj%2B0DjSdX1T4bfAXSVHlXV/panxHrExHDSQq5FskbclQxEi5HJIr69orH%2BxqEfdp1KkYfyqbt8r3kl5Rkl6Hpf8RJzOr%2B%2BxeCwlfELatUwtN1PWSi6dGpLtKrQnJPX3rnyt4M/4JE/s2S%2BIIfH37S3iPxb8avE0R3LqfxL16S8t4mPVYrRSsKx%2BkbhwK90/4Zr/AGc/sUWm/wDCgfBX2eGMRw2//CK2eyNAMBVXy8AAdhXa0V1UMty/DRap0oq%2B%2Bibfq3zN/Ns8LNeNeLs6qxnjMfVly6RSnKEILtCnTdKnBeUIR%2BZ5rf8A7GP7Huq5/tT9lH4a3Oev2jwLp75/OGsx/wDgn/8AsJSElv2L/hTz6fD3TR/KGvXaKt4HAy3pQ/8AAY//ACJzU%2BKuKaStDMMQl5V66/Ksjx5/%2BCev7Br9f2Mfhb%2BHgOwH8oq4X4h/8Eh/2HvGGqr4q8C/Du%2B%2BG3iGJcWviL4X6xLotzb%2B6JCfJzwDkxk8V9N0VlUyrLKseWVCH/gMV%2BKSa%2BTR34Pj7jnAVva0M0xCe2terJNdU4znUhJPqpQkn1TPkQ/s4f8ABUr9n/8Ae/AH9s/QfifpMPMXhv4y6EyXIQdVGo2f72VyOhkCrnr3qz%2Bzl%2Byz%2B0B8Yv2hm/bP/wCCgOiaVaeIfD6tY/DL4faTqC3mneG4sAS3%2B8ErLdTMMhjyi4zyEWL6yorCOTYaNSL5puMXdQcnKN1s7Su9N0uZq9na6VvUreJOd1cFWpqhh4V6sXTliKdCFKu6cvjhzUuSC9ovdnJUY1HDmhz8s5qRRRRXrH58FFFFABRRRQAUUUUAFeM/sv8A/Jb/ANo7/ss1j/6hXhevZq8Z/Zf/AOS3/tHf9lmsf/UK8L0AezUUUUAFFFFABRRRQAUUUUAFFFFABRRRQAUUUUAFFFFABRRRQAUUUUAcd%2B0J8GdD/aJ%2BBviz4GeJNUurCz8V6Bc6bJqFjt8%2BzaWMqlxHuBXzI2KyLuBG5BkEZFeW%2BHv2NPiZqPh/4mW3xj%2BPthq%2Bs/FzRp9K8X634W8IzaO9raDTRY2aacrX9wbVot9zOzyNOZJbglfKVFQfQdFAHin7L37LHjf4K%2BPPEPxT%2BKPxT0TxLr2ueFNB8NRL4X8FnQbC207STfNbk25u7ovcM2oT75PMVNiQokUYQ7vG/wBtX9nf4UH4/wCu3Pgf4W%2BHtJ1/x5%2By58UYvEOsaVokFvd6tMLjwusL3M0aB7hkLttLliNxx1NfZ9eJfE3TbXWf29/hxpF8m6C6%2BCXj%2BGZfVG1TwipH5Gsq9NVqE6b%2B0mvvTX6ndleNlluZ4fGR3pVITXrCcJ/%2B2B/wTa8V/wDCafsCfB7XDLvZfh7plrI%2Ber29utuxPvmI17bXyl/wRR1K6l/4J0eDPDGpSbrzw3qWs6Reezw6pdYHthGQV9W1x5RUdbKcPN9YR/8ASUv0PpPEXBRy7xAzfDR2jia9vR1ZyT9GppryYUUUV6J8aFFFFABRRRQAUUUUAFFFFABRRRQAUUUUAFFFFABRRRQAUUUUAFFFFABRRRQAUUUUAFFFFABRRRQAUUUUAFFFFABXjPjj/lIX8L/%2ByM%2BPP/Tt4Qr2avGfHH/KQv4X/wDZGfHn/p28IUAezUUUUAFFFfP3/BS46YP2a7X/AITTy/8AhCv%2BFheF/wDhZH2j/j3/AOEe/tm0%2B2/as8fY/L/4%2Bd37v7N5/mfu99AH0DRXwX4ItPhf4%2B/YC%2BLXwv8Ah/8AGXwV4W8CR%2BO9S1bwE2ra1Ha6IfCMOsRSPE7I37nQ7qeDULMTRgwi1mPlBowinwe%2Bh0XxF8MbG38Z3/wT8EfCTUf2lNSuvAV3rWnDXfhTZaZH4NhjeDypW06K%2Bgk1U6i1vJutYjeLNLGHAijlAP1srxn9g/8A5Ihrn/ZZviP/AOprrdZH7Cl98QLT/gnJ8MJ/B/hRr3X7X4eadFp2neM9fntlu2jhVEeW7FpJLHHIqiRG%2BzlgjoDGOgs/8E6bjxLd/s3X114y0mxsNXk%2BLfxDbU7HTNRe7trec%2BM9a8yOKd4YWmQNkB2ijLAAlFzgAHulFFFABRRRQAUUUUAFFFed/tH/ALVvwB/ZL8FHx18efiNZaHavlbG1djJd38g/5Z28CZkmbkfdBAzliBzWdWtSoU3UqyUYrdt2S%2BbOzL8ux%2BbY2GDwVKVWrN2jCEXKUn2UYpt/dpu2km16JXzD%2B1J%2B3h4j034jN%2ByP%2BxR4Rt/Hnxguo/8ATg0h/snwjCeDd6lMvClcgiAHe3AOCyLJxv8AbP8AwUC/4KJfJ4Yt9U/Z2%2BEN111O7jH/AAmOvW57xR/d01GH8RPmDggyKSK%2Biv2Zf2Ufgd%2ByL4CPw%2B%2BCPhBdPguJvtGqajcyme91S4PWe5nb5pXOT1%2BVc4UKOK8l4jGZn7uGTp03vUatJr/p3Fq6v/PJK28Yt2Z%2BhU8o4d4Hfts7lDF42Pw4SEuelTl3xdaEuWXL1w1GcnJrlq1oR5ovhv2Pv2D/AA5%2Bztq1/wDGf4oeLrj4gfF3xIm7xR8QtZjBl5Aza2adLW2XhQiYyAM4UKie/wBFFelhsLQwdFUqMbJfi%2Brberb3bbbZ8Pnme5rxHmMsdmNVzqSsuiUYpWjCEYpRhCC92EIRjGKVkt2yiiiug8kKKKKACiiigAooooAKKKKACiiigAooooAKKKKACiua%2BMXxc8A/Ab4Ya58Yfihrsem6D4e097vUbuTsi9FUfxOzEIqjlmZVHJFfK/gL9on/AIK9ftC%2BD7D4nfCD9mr4Q%2BD9A1%2BD7ZoSfETX9QlvBaOSYXmitFBVmTa2MDhhwK4cTmFDC1VSalKTV7Ri5O17XdmrK%2Biu1d7bM83GZrhsHWVFxlObV%2BWEXJ2va7s1ZX0TbV3e17O32bRXyV/wrb/gtL4o/wCQ5%2B0p8D/C%2B773/CNeDr692fT7Wwz%2BNJ/wob/gsH4f/f6P%2B3v8PPELdTBr/wALktEB/u5tnJx79aw/tOs9VhatvSK/B1LnN/bFd6rB1rf4YL8HVufW1FfJP23/AILgeF/%2BPjRP2bfFMC9PslzrVlcP9d/7sfhS/wDDRP8AwV20TjVP%2BCc/gvXNvU6L8Xba23fT7Qhx%2BNH9r018dGqv%2B4cn/wCkuQf27Rj/ABKFaPrSk/8A0lyPrWivkr/huH/goXpH/I2/8EivEkOPvHRvippN/wDlsRc1E/7T3/BUz4yudO%2BB/wCwNofgCA/KfEXxd8YK6K3fFnZDzsDs2SGpf2zhHpGNRvsqdS/4xS%2B9oP8AWDAvSMKjl2VGrf8AGMV98kj66rxn9l//AJLf%2B0d/2Wax/wDUK8L15V/wwd%2B2v8a/337V/wDwUg8UW9lL/rfDPwg0yHQIIx3j%2B14aaZD0O9QccZrpv%2BCc/wAEfBH7OesfHj4N/Do6g2kaR8ZoDbyarqMl3cyPN4R8N3ErySyEs7NJK7c9M4GAAK6MNicVXqPnouEbbylG7f8Ahje3zl8jqweLxuJqv2mHdOFtHKUeZv8Awx5rLzcr%2BR9K0UUV3HohRRRQAUUUUAFFFFABRRRQAUUUUAFFFFABRRRQAUUUUAFFFFABRRRQAV4z44/5SF/C/wD7Iz48/wDTt4Qr2avGfHH/ACkL%2BF//AGRnx5/6dvCFAHmP/BJf/iQaD8dPhc/y/wDCLftF%2BJrW1j9LWRoZYm9gd719aV8l/sM/8Uv%2B3z%2B1n8ND8qxeK/Duuwr2b7fpjSOw9eUAPvX1pXk5JplsYfyucf8AwGpNf5H6B4ofvONK2J/5/wBPDVv/AAbhMNNv5tSfq2FFFFesfn4UUUUAFFFFABRRRQAUUUUAFFFFABRRRQAUUUUAFFFFABRRRQAUUUUAFFFFABRRRQAUUUUAFFFFABRRRQAUUUUAFeM%2BOP8AlIX8L/8AsjPjz/07eEK9mrxnxx/ykL%2BF/wD2Rnx5/wCnbwhQB7NRRRQAUUUUAFFFFABXjP7B/wDyRDXP%2ByzfEf8A9TXW69mrxn9g/wD5Ihrn/ZZviP8A%2BprrdAHs1FFFABRRRQAUVU13XdF8L6JeeJfEeq29jp%2Bn2slzfXt3KI4reFFLPI7HhVVQSSeABXxXJ4%2B/aZ/4Ktzy6T8FtT1f4Vfs%2BPM8F944CeTr/jWNWKvHYKf%2BPS1YgqZW%2BZhxz%2B8iHDjMdDCuMIxc6kvhit3bdt7RiusnovN2R9Vw3wriM/jVxVWrHD4Sjb2tepfkhzXcYxivfq1ZpPkpU05StduEFKouy%2BPX7ffjTxx8SLz9lL/gnl4Us/HXxDgPleIvFNy5/wCEe8HKSVMl3OuRNMMHECZO5SDuZTGd79mn/gm98NvhL4vT48/HTxPffFb4tThXvPHfi7Ev2N%2BuywtzmOzjUkhdoLKCQGCnaPXPgL%2Bz58Hf2Y/hxZ/Cj4H%2BBbPQdEshkW9quXnkIAaaaRsvNI2Bl3JJwBnAAHZ1z0cunWqqvjmpzWqj9iH%2BFPeX9%2BSv2UUevmXGWHy/BTynheEsPhpLlqVW19ZxK6%2B1nH%2BHSfTD0pKml/ElXldoooplxcW9nbyXd3OkUUSF5ZZGCqigZJJPAAHevWPz4fRXyJ8SP%2BCiHj747eM774B/8Ey/Alp48160l%2Bz6/wDErVGZPC3hwnqTOv8Ax%2BygciOLIPBHmAMoXT/%2BCdf7VutWUV18SP8Agqr8WJdRlQPf/wDCNW9pp1v5p5YRIqNsTOQB6Y6dK8l5r7abWEpOqlvJOKjfspS0k%2B/LdLvfQ8N517ebjgaMqyWjknGML9lKTtJrryppbOV9D66or5K/4dVazqHPiL/gpb%2B1DcZ%2B8lp8T1tkb6hbc8Uf8OsvFfh/978Nv%2BClP7R%2BmSdRHq3jtNSgB9fLlhH480/rmab/AFT/AMqU7/l%2Bo/r%2Bc7/Unb/r9Tv91v1PrWmXFxBaQPdXU6RxRoWkkkYKqqBkkk9AB3r5M/4Y5/4KX%2BFfm8Bf8FXLm9hX7tj4r%2BE2m3W76zq4f8hVX/h2n8X/ANoa9F//AMFD/wBr7XvH%2BmRyDyfAHhCE6DoLqvT7QkDCW5JxuyWUqSQCRSePx8vdhhZKX96UFH5yUpP7o3E8zzOXuU8FNS/vSpqHq5RlJ/JRbfQ6H4sf8FWv2ffDviyX4T/s7aJrnxq8dLlR4b%2BG1obyGBs43XN6P3EMYOQzBnKY%2BZRVL4Rf8FKtR0f4l2vwJ/b2%2BCNx8E/F2sPv8MT6jq0d7ousI2CsMWoRgRC4XcFaNiAWxg5cJX0N8J/gv8JfgT4Ti8C/Br4caN4Z0iLBWx0WwSBGbGN77QC7nu7Ese5NQ/Gr4G/CT9or4fXvws%2BNfgOw8RaFfr%2B%2Bsb%2BLO1sECSNhhopFydsiEMvYipeHzl/vfbx5l9hR9z0bd53/AL11b%2BVrQh4TiB/vvrEedbQUP3bXZyd6jfaaat/I1dHWdelFfEZ0X9sP/glv%2B%2B8Krrvxv%2BAlty%2BkSMJvFXg63H/PFjgX9qg/gOGVQAPLVSzbGqf8FYLL47TR%2BB/%2BCb/wU1r4ueI7i3je51i6tJdM0HQi6hh9tup1Q%2BYoOTCgBbDKHDDFCzrC01yYlOnUX2LNt/4OVPnT7x2%2B0oguIsHSXs8WnTrL/l205Sl/175U/aJ947faUD618UeKvDHgfw/d%2BLPGniOx0jSrCEy32pandpBBbxjqzyOQqj3JrxzwH/wUv/YC%2BJWpPpHhP9rfwQ1ykxiEOoa0lkZGBxiP7T5fmexTII5GRXmnhf8A4JpeM/jz4gtPif8A8FL/AI1zfEzUreYXGn/D3RjJY%2BFNJfsFt1Ie7ZenmS43Dh1frXufjT9jb9kn4iaND4f8b/sy%2BA9StLa3WC0iufCloTbRqMKsTCPMQA4G0jApqtnOI9%2BnTjCPRT5nJ%2BvJpH0vJ97FKvxBiv3lKlCnHpGo5Ob9fZu0PS833tseg6RrOj%2BINPj1bQdVtr21mGYrm0nWSNx6hlJBqzXyhq//AARi/YpttQk1z4O2vjX4Y6lK25tR%2BHXjq9sZA3YhZHkjXHsoHtUA/wCCVWvaiPJ8U/8ABSv9pu8gXhILX4krbBl7BysBLnHU8Z61X1rN4aSwyb7xqRt/5NFP8yvrmew0lhIyfeNWNv8AyeCkvuZ9bUV8k/8ADmf9l/U/%2BR5%2BJ/xe8UZ%2B/wD2/wDE29k3/XyylY2ofsPftMfsQXsnjv8A4JtfEWfWfDu7zdY%2BCPj/AFeS4srw/wAT6feSsXtJ264dtrMcsxChKmWNzOl79XDe715ZqUl58vLG/mk79k9iZZhnFBe0rYT3OvJUU5rz5eWPMl1UZc3ZPY%2Bz6K8E/ZX/AOChnwa/aU164%2BFWtadqPgH4maYCutfDXxjF9m1GFgMs0G4BbqLGWDx87cMyqCK5H/goT8ffiNr3iDRP2Af2WdWMXxM%2BJFs7atrMOSPCXh/O251KQg5R2G6OLkEsSVIby921TNMIsE8TTlzrZJbuT0UbaNSb0s0mtW7JM3q51gI5e8XSlzrZKO7m3ZQs7NSb0s0mtW0kmzi/Ezt/wVQ/a1f4f2jG4%2BAHwY1xX8RzLzb%2BNPE0XK2YPSW1ts5fqrsejB0ZftxVVFCIoAAwABwBXF/s7/AL4c/swfBrQfgZ8KdJFpougWQgg3Y8y4kPzSTykAbpJHLOx9WOABgDtaeX4SpQhKpWd6s9ZPp5RX92K0XfWW8isrwNXDU5VsQ061R3m1su0I/3YL3V396T1kFFFFegeoFFFFABRRRQAV4z%2By//AMlv/aO/7LNY/wDqFeF69mrxn9l//kt/7R3/AGWax/8AUK8L0AezUUUUAFFFFABRRRQAUUUUAFFFFABRRRQAUUUUAFFFFABRRRQAUUUUAc78XPil4N%2BB/wALfEXxj%2BId%2B9roXhbRbnVNWnihaWRbeCJpH2IuWkchSFRQWZiAASRXJfB/9qnwh8UND8W3/irwX4g%2BH%2Bo%2BA5VHi/QPHH2KO60yF7RLyO5d7O5uLd4XgfcHSZgCkiNteN1W/wDtV/BW6/aM/Zu8bfA7Ttej0q88T%2BHLqx07U5oTLHaXTITBM6AguiyhGZAQWUEZGc15X4U/Zg%2BOfxCh%2BLt5%2B0VpnhHSrn406CdB1q28HeJ7u%2Bj0PTodMNnB5MlxYW5vJZJbm9lcssAiVoUAmKs5APVP2ffjxe/tAeHH8Yx/A/xp4R0i4tre60G%2B8XxafEdZtJ1Z47iGG2u55oBtCsY7qOCZfMUGMHcF5nxx/wApC/hf/wBkZ8ef%2BnbwhXFfsAfsc/Eb9mHxBr2teLPDXgfwvY3/AIS0HRV8O/D/AFW6u7XVL%2BwN59p1%2B6NxbW5S9u1uYUddsr7bVPMuZzt8vUv/AIY%2BG/B3/BTbwX4z0nUvEM154h%2BD3jiS/h1XxdqN9aRFNW8JYFta3M8kFkDuOVt0jDYG4HauADkfhp/xSP8AwWh%2BJnh77n/CX/BLRtd2/wB/7JetZbvfGcV9a18l/Fn/AIpH/gsv8JfEP3f%2BEv8Ag/r2hbv7/wBkuFvdv4bs19aV5OVe79Yp/wAtWf8A5Nyy/wDbmfoHH/75ZRi/%2BfuAw1/Wk69B/wDpuK%2BQUUUV6x%2BfhRRRQAUUUUAFFFFABRRRQAUUUUAFFFFABRRRQAUUUUAFFFFABRRRQAUUUUAFFFFABRRRQAUUUUAFFFFABRRRQAV4z44/5SF/C/8A7Iz48/8ATt4Qr2avGfHH/KQv4X/9kZ8ef%2BnbwhQB7NRRRQAUUUUAFFFFABXjP7B//JENc/7LN8R//U11uvZq8Z/YP/5Ihrn/AGWb4j/%2BprrdAHs1FFFABRRXzT/wUA/ai8f%2BCG0L9kz9l4R3nxj%2BJm%2B30LnKeHtP5FxrFxgHYkSh9mR8zqSA%2BwoebF4qlgsO6tTZbJbtvRJLq29Ev0Ta9vh7IMdxNm9PL8JZSldylJ2hThFc1SpUl9mnTgnOcuiVleUoxlwP7TXiPXv%2BCjH7RU/7BPwr1i4tvhl4Nuobn47%2BKdPlK/bJA26Lw/BIv8bMuZiD8u0gkFCj/Y/hzw5oPg/w/Y%2BE/C2kW%2Bn6ZplpHa6fYWkQSK3gjUKkaKOFVVAAA6AV82rrv7Mn/BHr9kzSfB97e3epX9xOy2VhZxedrXjTXZtvmOkYJaSWRyoJJKxrsXOAoPPaNq//AAWs%2BMulW%2BvQaP8ABH4UafqEQmi0/VE1DVdZskblUlC4ty4BGRxzngdB42HxCwlaUq0ZVMRNJyUFzckfswvdJJebvKXNK1rW24541ympXpZBksKk8HhE%2BSMYXlUnKynia3vJRnWcfcjKTdOjGnTirKcpfYFY3jr4ifD/AOF/h%2BXxX8S/HOj%2BHtLh/wBbqOt6lFaQJ9ZJWVR%2BdfMP/DDn7fnjv5vjJ/wVY8TxwyfesPAPgWw0byh/dWdSzt9SM1p%2BCP8AgkF%2ByDpfiKPxz8Z4PFPxf8RRn5db%2BLPiWbV3A6lfJO2Bl6cNG2AOtdn1vNKulLDcvnOcV%2BEOaX4o%2BC%2BvZzX0o4Tk86k4pf8AgNPnk/S69Sr4m/4K/fs56rrU/gv9l7wT43%2BNevwtsez%2BHXhqae1gfsZruUJEif8ATRd4Fc6/7Mf7Y/8AwUG1L%2B1P26tSk%2BGXwwEoa2%2BCvhDWxJeasgOQdW1CEjch/wCeMWARjiN13H7B8M%2BFfC/grRIPDXg3w3YaRp1su220/TLNLeCIeiogCqPoKv0nluIxX%2B%2B1eaP8kVywfrq5SXk5JPqnsS8pxWN0zGvzx/59wXJB%2BUtXOa8pSUX1i1oYfw3%2BGfw%2B%2BD/gyx%2BHfwt8G6doGh6bF5dlpel2qwwxDudqjlieSxyWJJJJJNblFFerGMYRUYqyXRHuQhCnBRgrJaJLRJeSQUUUVRQUUUUAFFFFABVTRtB0Pw7aNYeH9GtLCB5nmeGztliRpHYs7kKACzMSSepJyat0UrK9xWV7hRRRTGFFFFABRRRQB5N%2B1P8AsT/s%2B/tg6Db6f8XfCTDVdNIfQfFmjzfZdW0iUHcslvcqNy4bDbG3ISASpIFYH7F37DGkfsmXPifxr4o%2BKesfETx34vvIzrfjvxLH/ps1pCgjtrTO98JGijJzl25IACqvvFFcby/BSxaxTpr2i6/K130bS0TabSbSdmefLKsuljljHTXtV9r5Wu1s2ldJtOSTaTSbQUUUV2HoBRRRQAUUUUAFFFFABXjP7L//ACW/9o7/ALLNY/8AqFeF69mrxn9l/wD5Lf8AtHf9lmsf/UK8L0AezUUUUAFFFFABRRRQAUUUUAFFFFABRRRQAUUUUAFFFFABRRRQAUUUUAFFFFABXjPjj/lIX8L/APsjPjz/ANO3hCvZq8Z8cf8AKQv4X/8AZGfHn/p28IUAeYft5f8AFL/tx/smfE8fKLbxxrmhM/r/AGjpoiCn6mM4r61r5K/4K5f8SLwR8F/iiny/8Ij%2B0P4X1GeQdoDJNFIp9j5i5r61rycF7mZYuHd05ffC3/tp%2BgcTf7RwTkGJ/lhiqL/7h4rnS%2B6u2FFFFesfn4UUUUAFFFFABRRRQAUUUUAFFFFABRRRQAUUUUAFFFFABRRRQAUUUUAFFFFABRRRQAUUUUAFFFFABRRRQAUUUUAFeM%2BOP%2BUhfwv/AOyM%2BPP/AE7eEK9mrxnxx/ykL%2BF//ZGfHn/p28IUAezUUUUAFFFfP3/BS46YP2a7X/hNPL/4Qr/hYXhf/hZH2j/j3/4R7%2B2bT7b9qzx9j8v/AI%2Bd37v7N5/mfu99AH0DRXwX4ItPhf4%2B/YC%2BLXwv%2BH/xl8FeFvAkfjvUtW8BNq2tR2uiHwjDrEUjxOyN%2B50O6ng1CzE0YMItZj5QaMIp8SRvEmrfCuzXV5Pgn4S/Z/1j9py9Ni12kmqfDix0ZPB0flKFJ0%2BK%2B019eivNpY21vJfujqCPKSQA/WGvGf2D/wDkiGuf9lm%2BI/8A6mut039lHx74v8ZfsQeDfHHw3%2BC3hnQ9Um8LxDQ/By3c2kaMqRkxxeQ6Ws0lrZyRqssI8h2WKSMFe9U/%2BCdNx4lu/wBm6%2BuvGWk2Nhq8nxb%2BIbanY6ZqL3dtbznxnrXmRxTvDC0yBsgO0UZYAEoucAA90ooooA5X45fGDwj%2Bz/8AB7xL8avHdz5Wk%2BGNHn1C8wwDSCNSRGueru21FHdmA718H/Bf40w/sp%2BBY/2rfjJ4Zu/Hv7UP7RUSXfhn4f6Yu67ttOf5rKwjHJs7KOMRvLIwBypB3GIkO/4LffH3xb408d/Db/gnv8F/B7eK/EHinVoNc1/w1CSUvbeGQm0tJyCNsDzRvNKSV2R2wbcoOa%2Bk/wBib9hax/Z1e%2B%2BM/wAYvEp8a/GPxVCG8X%2BNrwbvKBA/0GyUgC3tI8BQqhdwRchVCInyeIrYnM86lRw3w0VZzeqjOS1aW0pqNoxW0eaUn0T%2Bmx%2Bczybg7%2BxcpqJYzHPnxNRWfsMLB/uaPnUxFRSxEqd7KnToOquVwhLG/ZL/AGHvGGmfERv2xP21/Edr4w%2BMepQbbJIhu0vwdatnFjp0ZyFIDENN95iWwTud5Pp6iivo8JhKGCpezprzberbe7k9233%2BSskkvjcDgcPl9D2VFdbtt3lJveUm9W31b9Ekkkiiiiuk7AooooAKKKKACiiigAooooAKKKKACiiigAooooAKKKKACiiigAooooAKKKKACiiigAooooAKKKKACvGf2X/%2BS3/tHf8AZZrH/wBQrwvXs1eM/sv/APJb/wBo7/ss1j/6hXhegD2aiiigAooooAKKKKACiiigAooooAKKKKACiiigAooooAKKKKACiiigAornfi58UvBvwP8Ahb4i%2BMfxDv3tdC8LaLc6pq08ULSyLbwRNI%2BxFy0jkKQqKCzMQACSK534AftGaT8eD4h0i4%2BHHibwZ4i8K6hDaeIPCfi%2BOzF9aefbR3MEu6yubmCSKSKQFWjlbDJIjbXjdVAPRK8Z8cf8pC/hf/2Rnx5/6dvCFan7Nf7XXwv/AGq9U8dWPwusNYFv4D8V/wBg3ep6jaxx22qSfZYblbqyZZGaW1ZJ12SsqeZgugaNkkfL8cf8pC/hf/2Rnx5/6dvCFAHnf/BavR7vUP8Agm/491nTF/03QrjSdVs2x9x4NTtWZvwTfX0/oOsWviHQ7LX7BswX1pHcQnPVHUMP0NeSf8FFPCn/AAmv7B3xg8PrHvdvh3q08KY%2B9JDavMg%2Bu6MVsfsUeK/%2BE6/Y5%2BFXjBpN76j8OtFnmOc/vDZQ7x%2BDbh%2BFeTD3M9qL%2BalF/wDgM5L/ANuP0DFf7T4V4WX/AD5xteHyrYahUX40n87np1FFFesfn4UUUUAFFFFABRRRQAUUUUAFFFFABRRRQAUUUUAFFFFABRRRQAUUUUAFFFFABRRRQAUUUUAFFFFABRRRQAUUUUAFeM%2BOP%2BUhfwv/AOyM%2BPP/AE7eEK9mrxnxx/ykL%2BF//ZGfHn/p28IUAezUUUUAFFFFABRRRQAV4z%2Bwf/yRDXP%2ByzfEf/1Ndbr2avGf2D/%2BSIa5/wBlm%2BI//qa63QB7NXg37fv7eXw8/YW%2BE58T6xbrrHivVkli8I%2BFIZgsuoTIm55XP/LK2iHzyynhV46kCvavFXiXSPBnhjUvGGv3IhsNJsJry9mP8EMSF3b8FUmvyMXwH4r/AG0V%2BHmt/EfWbjUfi1%2B1BqU0%2BoyhcReBfh5ZXLtLb2a8%2BT9oSNQJDgyhpIzy8jSeBn2ZYjB0fZYZfvZp2fbVRWnVuUkorbdvSLv15JlWJ4m4lw2R4ep7L2qnUq1mrqhhqS569az0lKME1Ti9JVJQT00f1H/wRs%2BB3i/xR4M1v/gol%2B0ao1L4m/GC6a6g1C5hAaw0VSEt4IAcmKNwgcAHBiW3H8HP2/VPw9oGi%2BFNAsfC3hzTYrPTtNs4rWws4FwkEMaBEjUdgqgAD0FXK9HLcFHL8FCgndrd9ZSespPzbbf3djLEwyyGKqf2fS9lRcnyRbcpKN9Oeb1nNpJzm/im5OyXLGJRRRXcYhRRRQAUUUUAFFFFABRRRQAUUUUAFFFFABRRRQAUUUUAFFFFABRRRQAUUUUAFFFFABRRRQAUUUUAFFFFABXjP7L/APyW/wDaO/7LNY/%2BoV4Xr2avGf2X/wDkt/7R3/ZZrH/1CvC9AHs1FFFABRRRQAUUUUAFFFFABRRRQAUUUUAFFFFABRRRQAUUUUAFFFFAHn/7VfwVuv2jP2bvG3wO07Xo9KvPE/hy6sdO1OaEyx2l0yEwTOgILosoRmQEFlBGRnNeY%2BBf2bf2gvGFz8Vdd%2BO13onhbUvjBpK6NqVz8NPGVzNc%2BGLK3042ttLY3N1psXn3TTXF5OZHiiWDMChZ9rMfo6igD54/Yj/Yu8d/slfED4n6lrvx21bxboHivVNHbwrY6lZaTbtY2tlo1lYAPHp2mWUcbg23lKke6MQQwHashlLF/wDDHw34O/4KbeC/Gek6l4hmvPEPwe8cSX8Oq%2BLtRvrSIpq3hLAtrW5nkgsgdxytukYbA3A7Vx9D14z44/5SF/C//sjPjz/07eEKAPS/iX4WXxz8OPEHgp1DDWNEu7Eg9CJYWj/9mrwD/gjh4pbxd/wTT%2BFWoyMS9tpFzYOrdVNtfXFuAfTiIV9NV8l/8Ebv%2BJL%2Bzf4y%2BF/T/hB/jN4o0Ly/%2Befl3fnbfb/X/rXk1/czqhL%2BaFSP3OEv8z9Ayv8A2jwxzSl/z6xODq/KccTQf3vkXyPrSiiivWPz8KKKKACiiigAooooAKKKKACiiigAooooAKKKKACiiigAooooAKKKKACiiigAooooAKKKKACiiigAooooAKKKKACvGfHH/KQv4X/9kZ8ef%2BnbwhXs1eM%2BOP8AlIX8L/8AsjPjz/07eEKAPZqKKKACiiigAooooAK8Z/YP/wCSIa5/2Wb4j/8Aqa63Xs1eM/sH/wDJENc/7LN8R/8A1NdboA5D/grt8StS%2BHP/AAT/APHtr4d3PrHiu1g8MaPbocNcTajMlqyL7%2BTJKf8AgNeWf8EefhdZ%2BN7nxH%2B2TcxiTS30628AfCkMv%2Bo8M6OFtjMv903NzE0jqejxt2auY/4LwfFg6XN8MPhlaXZX%2Byn1rx5e4bAil0qxcafv/wBmS7nCD3H0r6t/4J8/Cn/hSX7Efwu%2BGstt5NxY%2BDLKW/ixjZdTxi4nH/f2WSvk4r69xbK%2BsaMF/wCBdPucm/XXofT8OSeXcK5zmsNKmIqUMBB9VShTeNxSX%2BOTwtOT/ljyvd39iooor6w%2BYCiiigAooooAKKKKACiiigAooooAKKKKACiiigAooooAKKKKACiiigAooooAKKKKACiiigAooooAKKKKACiiigArxn9l/wD5Lf8AtHf9lmsf/UK8L17NXjP7L/8AyW/9o7/ss1j/AOoV4XoA9mooooAKKKKACiiigAooooAKKKKACiiigAooooAKKKKACiiigAooooAKKKKACvGfHH/KQv4X/wDZGfHn/p28IV7NXgnxV8b%2BFPDH/BSb4L%2BHPEGu29neeIPhH8QLXRobiQKbudNR8JTNEmfvP5ccj7eu2Nj2pSlGKu3YmUowV5O39WPe6%2BSv%2BCcP/FMftGftU/C77v2T40Nrvl%2Bn9p2kc278fLr61r5K/Z0H/CI/8Fcf2i/DX3V8V%2BDvCWuxp2P2e3ks2YfiefevKzD3cbhJ/wB%2BUf8AwKnL9Yo/QuD/AN/wzxBhe%2BGpVV60cXRf4RqyZ9a0UUV6x%2BfhRRRQAUUUUAFFFFABRRRQAUUUUAFFFFABRRRQAUUUUAFFFFABRRRQAUUUUAFFFFABRRRQAUUUUAFFFFABRRRQAV4z44/5SF/C/wD7Iz48/wDTt4Qr2avGfHH/ACkL%2BF//AGRnx5/6dvCFAHs1FFFABRRXz9/wUuOmD9mu1/4TTy/%2BEK/4WF4X/wCFkfaP%2BPf/AIR7%2B2bT7b9qzx9j8v8A4%2Bd37v7N5/mfu99AH0DRXwX4ItPhf4%2B/YC%2BLXwv%2BH/xl8FeFvAkfjvUtW8BNq2tR2uiHwjDrEUjxOyN%2B50O6ng1CzE0YMItZj5QaMIp8ot/%2BF9%2BLP2N/iv4O%2BF37OlnrHwY8TfErWJobH4HeIdMOjWXheDw3ppls9Ml1KfTUuNPutZS%2BWeaCMB0F%2BscWJ4nAB%2BpdeM/sH/8AJENc/wCyzfEf/wBTXW6i/ZA8Q/EK/wD%2BCfvwx17wj8OYovEP/CsdG%2BweHvFetJZxu62cKqJrmzS9ESMo3hkSUgMoKhshaP8AwT31bWbb9mDVNc%2BIdlp2lX8fxV%2BIs%2BtW%2Bn6k91a2ko8Za00qxzyQwtLGp3YkaKMsBkoucA2BtJXZ8Ef8FGpZP2nP%2BCgXij4b2ztPaza14I%2BE9qEPy7Ly8Os38q%2B8Rtkjc9QHA6V%2Bt0UUcMawwxqiIoVVUYAA6ACvyV/4J62N5%2B0H%2B298NPiLq1u7Sa7q/jn4w6pBKvzLBd3X9j6erDsI3t2dB6SehFfrZXyfC/8AtDxOMf8Ay8np6b/%2B3RPpsSng/D3IcK9JV44jHT9cXiJRpX/7lsLSt5SQUUUV9YfMhRRRQAUUUUAFFFFABRRRQAUUUUAFFFFABRRRQAUUUUAFFFFABRRRQAUUUUAFFFFABRRRQAUUUUAFFFFABRRRQAV4z%2By//wAlv/aO/wCyzWP/AKhXhevZq8Z/Zf8A%2BS3/ALR3/ZZrH/1CvC9AHs1FFFABRRRQAUUUUAFFFFABRRRQAUUUUAFFFFABRRRQAUUUUAFFFFAGb4z8Y%2BFfh34P1b4geOdftdK0TQtNn1DWNUvZQkNnawxtJLNIx4VERWYnsAa5H4YftQfBf4w%2BB9d%2BIPgfXdUax8MSyReIbTVvC2o6bqGnultHdbZbC8t4rpC0EsUqAxfvEkRk3BgTQ/bU%2BEPir4%2BfsmfEP4O%2BBXtRrfiDwpeWujx30pS3mujGTFFKwBKxO4VHbBwrMcHGDwPwJj%2BPGl/E74qftG%2BL/wBl7xPo1x40t7JdD8HT67okt4q6Vp2F%2B0SQ3726TXdxPNDFslkVUt43meHdtUA9T%2BCv7SHwl/aAbV7b4capq63ugywprOj%2BI/Cuo6JqFn5yF4Xks9Rt4J1jkUMUk2bH2OFYlGA%2Bd/8Agob%2BylpX7Xf7Uvww8Bp4nu/D3iLR/hX431rwR4psJGWbRtYg1Xwl5FyNpBZfmZWXurnGGCsO4/YE8P8AxuvH8ZfGf9qL4G%2BJfB/xJ8Z3NlNrw1jUdHuLGC1hSVbTStNOnX90zW1mrybpZxE8811NMEUSeVC%2B/wDBfiTw9/wU28F%2BItW%2BLniHXbPVvg944ew0HVbbTktNFC6t4Syls1taRTuH3DP2iWc/INpX5s5V6FLE0ZUqivGSs1/X3p9Gk%2BhhicNRxmHlQrK8ZKzX9bPZprVNJrVCfsGftf8AiX44WOtfAf8AaE0aLw/8Zvh262fjfQeFS9TgRapa9nt5gVbK8KXA%2B60ZbiP2zPD3xg/ZY/aosf8AgpP8MfBT%2BMfDVv4GXwt8UfClhGf7Qt9MS7a6GqWnOJXiJAdD0RD0DM8fV/t5/sl%2BOviBfaL%2B1f8AssXcOlfGj4eo0mhTv8sPiGx5M2kXfIDxyAtsLEbHY4Kbiy97%2Bx1%2B1n4E/bH%2BDkHxI8LWc2manaXD6f4t8L34xd6FqcXE9pMpAIKtypIG5SDgHKjw/Z1a3%2BwYibVSNpU6nWXLs%2BzlG9px%2B0nzLSXu93A/FWK4TzqWGxtNV4zpzpyjO6WIw8%2BVTi5Rs4VYqMW5R96M4wqxTi5xfY/B74w/Db4%2BfDjSvi18I/FlrregazbCawv7RuGHQowPKOpBVkYBlYEEAiumr4r%2BMHwL%2BKn/AATo%2BI%2Bq/tZ/sY%2BFLjW/h1rFybz4r/BuwHEf/PTVdJTpHMqjLwjCsBgcBfL%2BpvgV8dfhZ%2B0n8L9L%2BMXwa8WW%2Bs6Dq8O%2B2uoTho2H3opEPMciH5WRsEEV34LHTq1Hh8QuWtHVrpJfzQ7xfVbxekujf13E3C%2BGwWFhnGT1HWy%2Bq7Rk7e0pTtd0MQlpGrFXcZL93WgvaUn8dOn11FFFekfFBRRRQAUUUUAFFFFABRRRQAUUUUAFFFFABRRRQAUUUUAFFFFABRRRQAUUUUAFFFFABRRRQAUUUUAFFFFABXjPjj/lIX8L/wDsjPjz/wBO3hCvZq8Z8cf8pC/hf/2Rnx5/6dvCFAHs1FFFABRRRQAUUUUAFfDXxa%2BLk3wV/wCCSfxr8X2ErLfXfxC%2BJWj6YIv9Ybi/8cazZIUA5LKZ9wx/dz2r7lr81vizq2n%2BNtD%2BC/7M%2BoXKrZa/%2B1j8SPFHiNTyp0nQ/Fuu3dwsnojb1P1TjpXmZzVlSyyryu0pLlXrNqK/9Kv8jyc8nVjlNWNL45pQjbfmqNU4287z/A7b/glB8I4fDX7S/wAWLxYla2%2BGvhXwt8NdLmTkefZ2Ky6mM9MteHecd2r7zr5Q/wCCNOk6hf8A7Hc3xv121aLU/it4813xhqCyfe33N48SEnvmOBGHs1fV9Y8P0o0sopuKtzXl8pNtf%2BS8p%2Bo%2BJMKWD4vrZZR/h4KFHCRttbC0aVF2/wC4kar8279Qooor2T4QKKKKACiiigAooooAKKKKACiiigAooooAKKKKACiiigAooooAKKKKACiiigAooooAKKKKACiiigAooooAKKKKACvGf2X/APkt/wC0d/2Wax/9QrwvXs1eM/sv/wDJb/2jv%2ByzWP8A6hXhegD2aiiigAooooAKKKKACiiigAooooAKKKKACiiigAooooAKKKKACiiigAooooAK8Z8cf8pC/hf/ANkZ8ef%2BnbwhXs1eM%2BOP%2BUhfwv8A%2ByM%2BPP8A07eEKAPZq%2BZ/jt/wTz1fX/jFqf7TH7Jv7ROufCLx/rNvEmvy6ZYw3uka60WfLkvLGUBZJMHb5m7gEnaWJJ%2BmKK5sVhMPjIKFVXs7p3aafdNNNP0f3rQ5MZgcLj6ahXjezumm00%2B8ZJpp67p%2BTutD4%2B/4ao/4KPfsv/6P%2B1f%2ByDb/ABJ8P2/%2Bs8c/BG4ae4WMfxS6XORKWxyzIVRcHHFeK%2BHviL8Dbr4ma1%2B0F/wSv/bL8F%2BCPEmvXQm8afA/4lqdN07Wr1Sd7LBOY5bS5PRngBRmxllBbP6V15z8Zf2Qf2W/2hpWu/jZ%2Bz/4T8SXbR7P7R1PRIXu1X0W4CiVR9GFePi8oxlSKVOtzcrvHnupRf8AdqQtLyfNGSa0d0d/D2c8W8HV6ksrxEK1KouWpRxMFUp1IXvyztbmSesXKPPCXvQqQlq/Hfgz/wAFTPh1feK7T4N/tfeBr74L%2BPLlQLS08Tzo%2Bj6v0HmWOpr%2B4mQkjGSvJCqXNfU8ciSossThlYAqynII9RXxf8Tf%2BCDX7CXjnQ5/D3g9PGvgmyuJRM9h4b8XTSWjSg5DNBe%2Beh57AD2xXJ%2BH/wDgm5/wUh/ZB8IN4f8A2Gf%2BChK6no0DBrTwX8R/D0csEKKDiOG4YTmLP9yNIUJOSe9Z4fF8Q4K8cXQ9rFbShKLl84vkv6qz8j0M2zbKszUamEyypha8n70IV6dbD37051XSr0l/cq%2B1S2VSx9%2B0V%2BVHin/gpL/wWG/Zn8TR%2BG/2qvhz8O/C1o0vlr4p8XeEdTk0eZicKqXukSzIHbjhkG3PzYr3/wCGX7Z//BTXx34Yj8beA/2V/g78VNJfpe/Dj4vxQo5xnbuugwRvVWwR3FaYfiXAYio6ahUUlunTd18k3L58rXmceb5bxFkGFhi8xy3E06M/hqql7SlLyjVoVK1Nvy5lL%2B6fbFFfJP8Aw8U/al8Kf8lY/wCCUnxcs9v%2Bt/4Q%2B9stfx/u%2BSybqP8Ah8r%2BzVoP/JW/hD8ZPAAX/Wnxj8MLyHy/97yfNrs/tvK18dTl/wAUZx/9Kgl%2BJ85/rHk0f4lXk/xxnD/0qCX4n1tRXzh4N/4K7/8ABNvx1tGi/ta%2BG7cv0Gspcadj6/a4o8fjXpmjftc/speI7Iaj4f8A2m/h7fW56T2njOxkT81lIrppZjl9dXp1oP0lH/5I66ObZViVeliIS9Jwf/tx6HRXCP8AtR/szR/6z9orwIv18XWQ/wDatNX9qr9l938tP2kPARb%2B6PGFln/0bWv1rC/8/I/%2BBR/%2BSN/ruD/5%2Bx/8Cj/8kd7RXHW/7RP7P13/AMenx08HS56eX4ntG/lJWjYfFj4WarIItL%2BJfh%2B5Y9Ft9Zgcn8nqlXoS2mvvX%2BZccRh5bTi/mv8AM6CimQXEF1EJ7adJEb7rowIP4inSSRwxtLLIqooJZmOAB6k1qbC0V5P8Tf27f2Mfg55kfxJ/ah8D6ZPFnfYt4jgluR/2wjZpD/3zXkc3/Ba/9g24nd/C3ifxdr9hExWXWNE8AalLaKw6rvaFST9AR7159bNcrw8uWpXgn25lf7k2zy8RneTYWfJVxEE%2B3Mr/AHJt/gfWlFfJtv8A8Fv/APgmj5ottZ%2BPl7pUx6Q6n4J1eM/mLUgfnWyn/BY3/gmhJafbV/ax0TZ/dbT70P8A98mDd%2BlRHO8mltiaf/gcf8zKPEXD8tsXS/8AA4/q0fTNFfKF7/wW%2B/4JiWsv2a2/aUN5N/DDY%2BD9YlLfQi0x%2BtQ/8Pq/2JLj5tGk8fajH2lsfh1qTKf%2B%2BohUvPMm/wCgiHykn%2BVyXxJw9/0F036TT/K59a0V8lf8PnP2UH/49vAvxWm9PK%2BGd8f5rUdx/wAFdfBficDRvgV%2ByL8bfGuvTcW2mweA5bKFf9ua4nIWGPsXw2Mjij%2B3Mo6Vk/S7fySi2w/1kyLpiIvyXM38koNv5H1zRXyD9k/4LD/tI83eofD/APZ40Gf/AJZ2yDxN4gjU9QWOLQcdxtYGo7n/AIJN67bqPiBoH/BQH42RfE2I77bxvqPiQXUCnvA1gVWJrYnB8nd1A%2BbHFL%2B0cXV1oYaTj3k4wv6KV5N9rqK9Cf7Wx1b3sNg5yj3m407/AOGMm5N9uZQXmj7Cor42/wCGvP25v2M/%2BJf%2B3T8Af%2BE78IW/B%2BLfwltTMYYx/wAtb/TTh4cDl5I8Rr0UOa%2BjfgT%2B09%2Bz9%2B0z4RXxx8Cfizo3iTTyF85rG6AltmIyEmhfEkDY/hkVT7VvhsywuJn7O7jP%2BWS5Zfc915xcl5nVhM3wWLqexu4VFvCa5Z/c/iXnFyXmjvKKi%2B22R6XcX/fwU6O4t5W2xTox9FYGu%2B6PSuh9FFFAwoqG%2B1LTtLhNzqd/BbxjrJPKEX8ya524%2BN/wXtLv7BdfF7wvHP8A88ZNftlf8i%2BaiVSnD4ml6tL9SJ1aVP4pJerS/No6ivGfHH/KQv4X/wDZGfHn/p28IV6hp3j3wNq%2BP7J8aaTdZ6fZ9RifP/fLGvLvGzpJ/wAFCfhc6MGB%2BDPjzBByD/xNvCFUpRls7jjKMleLuez0UUUygooooAKKKKACvxi8W/FCabxR%2B078TopGNv8AB7Q/H3hLTwvWHWvEnjzWVWVP9v7NNjA/u57V%2BztfkJ4R%2BEM%2Bo3tz8M721Ju/jp/wUJ8X318pXm58O6FruoecmO4WVZDnpzXznE0as8BGMP5vxs4x/wDJ5p/I%2Bi4Iyunm/iFk1Our0KWIWIq/9e8LTqYmV/V0Uvmj9Qf2YfhYnwP/AGcfAnwfWEI/hrwjp%2BnTgfxTRW6JIx92cMx9ya7qiivoKVOFGlGnHaKSXokkvyPHx2Mr5jjquLru86s5Tk%2B8pylKX4yYUUUVZyhRRRQAUUUUAFFFFABRRRQAUUUUAFFFFABRRRQAUUUUAFFFFABWfe%2BJ9IsLt7CQ3MssYBkS1sJp9mRkBjGjBSRzg84rQryf47ftWfAP9j/w3qXxL/aK8ef8I7ol94rg0y1vf7LurvfdPp6SrHstYpHGUhlO4gL8uM5IBzq1qVCk6lWSjFbtuyXqzsy/L8fm2Np4PA0pVa1R2jCEXKUnq7Rik23ZPRLo%2Bx6J/wAJhpP/AD6ar/4I7v8A%2BNUf8JhpP/Ppqv8A4I7v/wCNV8wf8Py/%2BCWn/R0P/lk63/8AIVH/AA/L/wCCWn/R0P8A5ZOt/wDyFXm/29kf/QVT/wDA4/5n2n/EJ/FH/oRYz/wmrf8AyB9P/wDCYaT/AM%2Bmq/8Agju//jVH/CYaT/z6ar/4I7v/AONVyH7NP7VnwD/bA8C3fxL/AGdPHn/CRaJY6tJpl1e/2XdWmy6SKKVo9l1FG5wk0R3AFfmxnIIHhfx//bj/AGi/2ffjf8d7n/hT3hvxP4A%2BFPwg0LxVZWkXi2Wy1a5ubptZDRKhsHibzZLBY/mmURLGsg8wytHF6VKtSr0lUpSUovZp3T9GfF5hl%2BPynG1MHjqUqVam7ShOLjKL0dpRaTTs1o11Xc%2Bo/wDhMNJ/59NV/wDBHd//ABqj/hMNJ/59NV/8Ed3/APGq%2BZ/jF/wUZ8cfs9fEHwr8P/i38EtAkutQu9Gg8aQ%2BDvE2taxJ4aGq6w%2BnWUskkegpaLGw8qUm7ubNmIuEhWcxI02Hef8ABR34vaVJd%2BH/AIdfs%2Bw%2BML21X4o6vfT%2BI/H8Wmi3sPCniZdKMMTW%2BluJHmWdDCjICgjVJp5GLXB0OM%2BtP%2BEw0n/n01X/AMEd3/8AGqP%2BEw0n/n01X/wR3f8A8aqh8NPiNb/FDw7Z%2BLtI8M6laaVqWk2Wo6Xf3xgCXkVzAsw2LHKzqUDBWEip8x%2BXeOa%2BYv2Sv2i/j/4z%2BLPw58SfEL4pz63ofxm8O%2BLtUj8Iy6RYww%2BFG03UbRbOO1lggSeRRbXDw3BuZJi04jeMwrmIgH1Z/wAJhpP/AD6ar/4I7v8A%2BNUf8JhpP/Ppqv8A4I7v/wCNV8i/HH9p39pr4OfteLa6/eeNo/Dt78XfC3hnwr4YsvAsMvhvVPD2qQWNtcancat9laSK%2Bh1G5uwIBdRny7WL/RnR3nrg9I/a5/b%2B0jxBq/wvg07xprXxL134ReM9d/4RfxJ8Prex0zw9r2l3unxWltos4t7f%2B1rV4tQb53uLpXaO13TQmV0IB97f8JhpP/Ppqv8A4I7v/wCNUf8ACYaT/wA%2Bmq/%2BCO7/APjVfIHwn/aL8YeN/Cfxg8N%2BP/2t/iX4N8N/CvVNL1Q/FXxb4B0rRtdn0u400zTWs9le6SkEey5R9rmwSV42jVQ25ZpPNv2qP%2BCmXxg%2BAf7Lnw78H/Eb47%2BGfhr8WdS0Gz8U%2BKL7xidNsL6TRf7US3t7dLG6zGL%2B8jOZ0jjZbZLe9x5L/ZzQB%2Bhll4n0i/u0sIzcxSyAmNLqwmg34GSFMiKGIHOBzivKf2X/APkt/wC0d/2Wax/9QrwvXpd9qem61L4b1nR9Qgu7S7vvOtbu2lEkc0bWc7K6MpIZSCCCOCDmvNP2X/8Akt/7R3/ZZrH/ANQrwvQB7NRRRQAUUUUAFFFFABRRRQAUUUUAFFFFABRRRQAUUUUAFFFFABRRRQAUVHe3tnp1nLqGoXcUFvBE0k880gVI0UZZmY8AAAkk9KwPhd8YvhH8cPCg8efBb4p%2BHPF%2BhtO8C614X1y31C0MqY3p50Dsm5cjIzkZ5oA6OvGfHH/KQv4X/wDZGfHn/p28IV3/AMLPjZ8Gfjlo914h%2BCfxb8MeMbCxvmsr6%2B8La/b6hDb3KgFoXeB3VJAGUlCQQGHHNcB44/5SF/C//sjPjz/07eEKAPZqKKKACiiigAooooAhv9PsNVsZdM1Syhuba4jMc9vcRh0kQjBVlPBBHY180/Ef/gkj%2ByB4s8Ty/ED4YaT4g%2BFPiaXk6/8ACnX5dGkz1B8qPMA55OIwTnk19OUVy4nBYPGxSr01K211qvR6NfJo93I%2BJ%2BIuGqsqmVYupRctJKEmoyXacHzQmvKdOa8j5F/4Z6/4Ks/Aj958Ef2zfC3xQ0yHmLQPi94aa3uFQdVF9ZHzJXI6NIAM9eKcn/BQX9rX4T5sv2oP%2BCZnxDi8rh9Z%2BFd1b%2BJbWVe8vlxsjxL32sSwHWvriiuP%2By6lH/dsROHk2qkfund/dI%2Bl/wBe8JmGmdZThsQ/54RlhKvznhXGDfnKgz41uP8AgpT/AMEm/i/qZ8O/G9NI0jVpP9fpPxR%2BHctvKuePne4t2iH4vXTeFv2U/wDgj38dZ11f4efCn4I%2BIDL90eGP7PZST28u2YAH2xmvpHxT4L8HeOdMbRfG3hPTNYs2%2B9aarYR3ER%2BqyAj9K8O%2BIH/BKP8A4J0/Eud7nxL%2ByR4TheT77aHbyaXk%2Bv8AoTxc%2B9c1XA5hJ3qQo1f8UHF/faaOKvhPBzN3fEYXFYaXl9Vxcf8AypDD1f8AyZ%2BbLSf8Euv%2BCeKfd/Y98C/joqH%2BdPb/AIJgf8E9HTYf2PPAWPbQYwfzFcD/AMOaP2XNB/5JF8Svi58P9v8Aqv8AhDfiZew%2BV/u%2BcZaUf8E5P2kfDf7n4cf8FU/jLawr/q18TCz1lx9XlRS1ZfV5Q%2BPLoP8Awuk/wlCLMP8AUTwqxH%2B7ZpTh5VsBUj%2BNJ1o/cjsLj/glH/wTnuv9b%2ByF4PGf%2Bedkyf8AoLCs6/8A%2BCPX/BNTUozHcfsmaAoPe3vLyI/mkwNYH/DIP/BT/Rjnw7/wVpN1GPu2%2Bs/BTSZM/WRZN36Uf8Kh/wCCyegfNpH7X/wk8QFei694AmtA31Nsxx%2BFS6WC%2B3lr/wDAKT/KREvC3gqt/CzXLpf4oV6f/peCt%2BI6f/giB/wTTWVrjRfgNfaTM3WXTPG%2BsRn8jdED8qYP%2BCKH7Ct3Itt4l0fxrremKd39iat8QtSktCw6Eqsyt/49S/29/wAFuvDX/IS8Bfs4eJY16f2Rqms2crj388FQfpxR/wANMf8ABWjQv3erf8EyvDWvEdZND%2BM1jaq30FxGSKy9lkC%2BPAyj/wBwX/7a5L8DH/iC2XVP92q5bU/w4vDx/CoqH4o9U%2BGX/BP79iP4O%2BXJ8PP2V/A9jPFjy76Xw/Dc3K/SeZXk/wDHq9dt7e3tIEtbWBIoo1CxxxqFVQOgAHQV8nf8Nx/8FAtN/wCRl/4JHeKIsfe/sv4n6Ve/lsUZo/4eUfHTRvn8Zf8ABLX46QRj750TTLbUWH0WORc16FHMsnw0eWnFwX/XqcfypnqYfwm4lw0OTB0cO12pYrAv/wBJxMbn1jcW1tdxGC7t0lRuqSIGB/A1jP8ADD4ayXf2%2BT4eaG0//PZtJhL/AJ7c18z/APD4L4M6V/yUL9mL4%2BeEcf6z/hI/hVcR7Pr5TvUlt/wW6/4JqeZ9l1v4%2B3ekXI%2B9aar4L1eJ1%2BuLUj9a0edZJL468F/idv8A0pI0n4TeI01eOT16i7wpqsvvpTrL8T6qstO0/TYvI06xht0/uQxBB%2BQqavmew/4LF/8ABNHUsfZ/2sNEXP8Az30%2B9i/9DgFa9v8A8FVf%2BCdd1H5kX7Xvg0D0k1AofyZQa2jm%2BUSXu4in/wCBx/zOOp4c%2BINDSeT4pf8ActW/%2BVM%2BgaK8DH/BUr/gnef%2Bbv8AwR/4Nh/hUtp/wU//AOCet5MIIf2wvAYY95ddjjH5tgVX9q5W/wDl/D/wOP8A8kYvgPjqKu8qxX/hPX/%2BVHu9FeVaR%2B3V%2BxNr2Bo/7X/wwuGPSOPx5p5b/vnzs/pXTaf%2B0J8A9WjEulfHDwfcoejW/iW1cH8RJW8MXhKnw1Iv0lF/lI8zEcPcQ4R2r4KtD/FRqx/9KpI6%2Bvnz4yf8Eqv%2BCfPx98YS%2BPvid%2BzHotzq8%2BTdXmmXd3ppuGJyXkWzmiWRz3dgWPrXskHxX%2BFt1/x7fEnQJP8Ac1mA/wAmq5B408HXX/Hr4s0yT/rnfxn%2BRqK9HA42HJWjGa7Plf53PGxuS/W6fJi8NzxWtp021/5NA%2BY/%2BHHn/BLf/o1qL/wsNZ/%2BTKZL/wAEOP8AglxIML%2BzAIyOjx%2BM9aUj/wAnK%2BrLe/sLv/j1vYZf%2Bucgb%2BVTVy/2Hkj/AOYan/4BH/I8d8M8PJ2eDpf%2BC4/5HyV/w5H/AOCe9v8A8gb4e%2BJdN9PsPj/Vlx/31cGj/hy3%2Bxo37mfU/iPLbd7KT4kagYj9QJM/rX1rRR/YWTf9A8Pu/wAmif8AVrh/phYf%2BA2/Jo%2BUbD/giL/wTMtZ/tl/%2BzrLqVx3n1Pxhq8zN9Qbrb%2BldDb/APBI7/gm7bWv2OP9kfwwU9ZPPd/%2B%2BmkLfrX0bRVxyXJ4bYeH/gEf8i4cPZDT%2BHCU/wDwCP8Akz5g1H/gjH/wTJ1TP2n9lHSlz1%2Bz6zqMP/ou4Fc98Fv2Gv2Xf2MP%2BChvgw/s1/DM%2BGx4l%2BDPjI6yn9tXt4Jzb6t4V8rAuppNmPPl%2B7jO7nOBj7Arxnxx/wApC/hf/wBkZ8ef%2BnbwhV0sryzD1VVpUIRktmopNfNI1oZLk%2BFrqtRw9OM1s1CKavpo0k9j2aiiiu89MKKK%2Bfv%2BClx0wfs12v8Awmnl/wDCFf8ACwvC/wDwsj7R/wAe/wDwj39s2n237Vnj7H5f/Hzu/d/ZvP8AM/d76APoGivgvwRafC/x9%2BwF8Wvhf8P/AIy%2BCvC3gSPx3qWreAm1bWo7XRD4Rh1iKR4nZG/c6HdTwahZiaMGEWsx8oNGEU%2BYaH8V/wBlX4b/ALKvjjxB%2B0z8HvgdrHhDxH8dZbD9m7wSdStZPBTSSaDpyTPY3l9BDAmnx30erTS3wgjUEXTQI5khSQA/UOvzh/Y6H/C3v%2BCl9homPNsfhBJ8VdXL9RDqWqePtatdnsTbKGz6Cvsb9nTRfE/w%2B/Yr8CeGPhd4%2B0T4parongDS7LS/E9/4keGw8SSQ2sUf2s3sUd24jl2lxIEnYgjJYktXyn/wQ58DeKr34kftTfHjx9o9pZatq/7QfiPQZbSxv3u7e0ex1e/lnit55IoWli828IEhijL7MlFOVHl5lCVaph6S2dRN%2BkFKf58p91wViaOXYPN8dJ2nDCTpw/xYipSoO3pTdX5Nn6CUUUV6h8KFFFFABRRRQAUUUUAFFFFABRRRQAUUUUAFFFFABRRRQAUUUUAFFFFABWX4f/5C2uf9hVP/AEkt61K8n%2BO/7Qn/AAzX4a1Hx1/wo/4ieP8A7X4rhsP7H%2BGnhn%2B1b%2BHdp6SefJF5ibYR5WwvnhpIxj5uM6tWnQpupN2S33f5Jv7kzKvXpYajKrUdox1b1f4JN/cmesUV8l/8PYf%2Bsan7Wn/hm/8A7qo/4ew/9Y1P2tP/AAzf/wB1V539t5V/z8/8ln/8rPJ/1jyT/n9/5JU/%2BVH1pXmPxX/Y6/Z8%2BNvirV/GXxH8I6jd3viDwqvhvX0s/FWpWVvqmmI1w8cFzb21xHDcGNru5MckiNJEZ3KMuat/s0ftCf8ADSngS78df8KP%2BIngD7Jq8lh/Y/xL8M/2VfzbYopPPji8x90J83YHzy0cgx8vPlX7Qv7ZfxQ%2BDv7RK/s16VoWgza542m8Nf8ACpmu7Wci/Se/lh17zlWYGU6fZwm%2BOwxgpPGh5BY%2BjSq069NVIO6e26/NJ/eketQr0sTRjVpu8Zap6r8Gk/vSO%2B%2BL/wCw1%2BzH8d/iAvxN%2BKHgK%2BvtV3aW9wtr4r1OztL2TTbs3enyXNpbXMdvdSW85LxvNG7JnAOOKv6d%2Bx7%2BznpN9d6lp/w78ue%2BsPE1ndP/AGveHfB4g1FNS1dMGbA%2B0XaJLkYMWNsRjQla%2BKP2kP8AgpL8dvEnwy%2BPngjRZHsNB1L9nD4peKfhR490TSl0O/gl0Dy7MSwvHrN3dSkSXYZbqS204rJaho43En7r2C6/ay%2BPF7%2B0v4s/Z0%2BFt54P0K/uPivq1lbeJfGlvqWpWUVhp/hTQNReBbb7fDtuJZNRYgQyQwpFbzzGGSTzGk0NT6l8C/Dfwn8NtNi0bwdBe29lb6faWNrZT6vc3ENvBbRCGFIkmkZYsIAGKAFyNzlm5rifCX7Fv7OfgPxd4h8deDvB%2Bp6dqniWy1K0vLm28W6oosYtQuBc3w05PtOzSTPcBZ5GshAzzIkjEuisOQ/4JhfEH4l/E/8AYT%2BDnjvx5qEertrXwr0bULvxFdeIZr29vb%2BWHdN5nmRfvE2%2BWwnMpZy7Aou0M3kPw1%2BIPxBn/ae8IfEe4%2BK/ie413xX%2B0r428C%2BJvB1x4lupNLtPDmnaXrctj5emtIbe1kA03Sbo3SRrK/29lZ2WdAAD6i1P9mX4Q658XtP%2BOOv6dreoa9pMiy6VFqPjDU7jTbK4WBrcXMWmyXJso7kRO6faFhEuJH%2Bf5mzT8Pfsk/BHwzrXibxPp9h4km1XxZplxp2p6vqfj3Wb28trOdmeS2sZ7i7eTTIi7bwlm0KqyRsoBjQr80/8FFtY/aj%2BEvxQ1D43%2BDLTxhqWm20XhG1%2BHJ8PfEFdO0nTtTfWnhvrXVNM%2B1RnUmvkmtreH9xd5OVX7Kymdul8afDPxPr/APwUH1PSP2ffiz430m/8KfCvVfEPiVdW%2BJWuX%2BiNrmsvJaaJE%2Bm3F3JZpDCLTVLhoY4QEItSqqNuQD1DxD/wT0/ZV8VfDJfhLr3hPxJPpf8AwmVt4ruLz/hY%2BvJql5rNuqJb3lzqa3ovbp4ljhEfmzOqfZ4NoHkxbO21T9nz4Xa/8HP%2BFCeKLDV9a8NFYxLDrvijUL67m2TrcIZL24ne6lIkVSC8pOFC/dG2vjH4C%2BLPEXg/Vvif8IP2tdf%2BJ/gfwR4X%2BEXhPxB411XxH8abq/1ODWmvNRS7ntNRsL6a4tbe9W0iEdtDLC7CIhLW3M%2B2T6g/YR0T4s6L%2Bz1at8XT4ihmv9c1O%2B8O6T4x1SW%2B1jSdEnvJZNOs764md5ZbmO2aIP5jyOhPltJIYy7AHp/iD/kLaH/2FX/9JLivLf2X/wDkt/7R3/ZZrH/1CvC9epeIP%2BQtof8A2FX/APSS4ry39l//AJLf%2B0d/2Wax/wDUK8L0AezUUUUAFFFFABRRRQAUUUUAFFFFABRRRQAUUUUAFFFFABRRRQAUUUUAeRft9/D7xp8Vv2KPin8OPh5o0up6zrPgbUbWy0iBwr6mWgbdZqWIUGdd0I3EL%2B85IGTXhlno/jf44%2BHf2n7z4OeBfGPhQfFzwe2lfDseIvBWpaJJPq1t4d%2ByyX8sd1BG1kN81pbI9wIjL/Z7GPeiKx%2B0KKAPl79h63ufFnx78Z/GHwv8HPE/gfwhN8KfBHhi00nxV4TutFmOq6bJrUl0iW11HGzxwwX1hbi4RTFKYiqO6wg1tX%2Bm/Fe0/wCCm3gu88beNPD2oaFcfB7xwfDWnaV4Yns7uwQat4S8xbm5kvZkuycpgpDbhdpyG3Db9D184ftH6v8AGvR/28PhPP8AA74f%2BFvEWpN8I/Ha3dp4r8YXOiwRwf2p4SJdJbfT71nfdtGwxqMEnfkBSAfR9FeM/wDCcf8ABQv/AKNf%2BDP/AIfjVv8A5l6P%2BE4/4KF/9Gv/AAZ/8Pxq3/zL0AezUV4z/wAJx/wUL/6Nf%2BDP/h%2BNW/8AmXo/4Tj/AIKF/wDRr/wZ/wDD8at/8y9AHs1FfOOrftHft26P8Z9A%2BB1x%2Byh8JG1TxF4X1fXbO5T466p5EcGnXOm28yOT4Y3B2bVICoCkEJJkqQobqP8AhOP%2BChf/AEa/8Gf/AA/Grf8AzL0AezUV4z/wnH/BQv8A6Nf%2BDP8A4fjVv/mXo/4Tj/goX/0a/wDBn/w/Grf/ADL0AezUV4z/AMJx/wAFC/8Ao1/4M/8Ah%2BNW/wDmXrl9W/aO/bt0f4z6B8Drj9lD4SNqniLwvq%2Bu2dynx11TyI4NOudNt5kcnwxuDs2qQFQFIISTJUhQwB9HUV4z/wAJx/wUL/6Nf%2BDP/h%2BNW/8AmXo/4Tj/AIKF/wDRr/wZ/wDD8at/8y9AHs1FeM/8Jx/wUL/6Nf8Agz/4fjVv/mXo/wCE4/4KF/8ARr/wZ/8AD8at/wDMvQB7NRXzjq37R37duj/GfQPgdcfsofCRtU8ReF9X12zuU%2BOuqeRHBp1zptvMjk%2BGNwdm1SAqApBCSZKkKG6j/hOP%2BChf/Rr/AMGf/D8at/8AMvQB7NRXjP8AwnH/AAUL/wCjX/gz/wCH41b/AOZej/hOP%2BChf/Rr/wAGf/D8at/8y9AHs1FeM/8ACcf8FC/%2BjX/gz/4fjVv/AJl65fVv2jv27dH%2BM%2BgfA64/ZQ%2BEjap4i8L6vrtncp8ddU8iODTrnTbeZHJ8Mbg7NqkBUBSCEkyVIUMAfR1R3NnaXkflXlrHKv8AdkQMP1rx3/hOP%2BChf/Rr/wAGf/D8at/8y9H/AAnH/BQv/o1/4M/%2BH41b/wCZegabTuj0q/8Ahl8N9Vz/AGp8PtDuc9fP0mF8/mtZFx%2Bzl%2Bz1eSebd/AjwZK396TwvaMf1jrjP%2BE4/wCChf8A0a/8Gf8Aw/Grf/MvR/wnH/BQv/o1/wCDP/h%2BNW/%2BZespUKEt4J/Jf5HbSzTM6KtTxFSPpOa/KaOvP7M/7OB6/s/eCP8AwlLP/wCN1Fd/ssfsxX8Jt779nLwHNGeqS%2BELJgfwMVeW6t%2B0d%2B3bo/xn0D4HXH7KHwkbVPEXhfV9ds7lPjrqnkRwadc6bbzI5PhjcHZtUgKgKQQkmSpChuo/4Tj/AIKF/wDRr/wZ/wDD8at/8y9S8LhX/wAu4/8AgMf/AJE2We55F3WLq/8Ag2r/APLCfV/%2BCff7CeuZOpfsb/DBmb7zxeBrCNj/AMCSIH9a5rUP%2BCUf/BOfU5DLc/sieEFJ7W9o8I/JHAre/wCE4/4KF/8ARr/wZ/8AD8at/wDMvR/wnH/BQv8A6Nf%2BDP8A4fjVv/mXrCeWZbP4qEH/ANuR/wDkT1KHHHG2FVqOaYmPpiK//wAuZyM//BHz/gmrcf6z9k3QB/uXd2v/AKDMKpXH/BF//gmRc/6z9lTTR/1z1zUk/wDQbkV3f/Ccf8FC/wDo1/4M/wDh%2BNW/%2BZeuX1b9o79u3R/jPoHwOuP2UPhI2qeIvC%2Br67Z3KfHXVPIjg065023mRyfDG4OzapAVAUghJMlSFDZPJcne%2BGp/%2BAR/yO%2BHiZ4jw%2BHOcWv%2B5mt/8sOfuP8AgiB/wS6uf9Z%2By5EP%2Bufi/WU/9BvBUP8Aw4%2B/4JrQ86Z8DdSsj2a18dawCPzuzXp3/Ccf8FC/%2BjX/AIM/%2BH41b/5l6P8AhOP%2BChf/AEa/8Gf/AA/Grf8AzL1P9hZJ/wBA1P8A8Aj/AJHQvFbxQSt/bmL%2BeIqv85M8y/4csfsSW/8AyB4vHun%2Bn2L4i6kuP%2B%2BpTR/w5y/Z0h40v41fGixHYWnxQuwB%2Bea9N/4Tj/goX/0a/wDBn/w/Grf/ADL0f8Jx/wAFC/8Ao1/4M/8Ah%2BNW/wDmXpf2Fk3ShFeia/KSH/xFXxJfxZtWl/ilGX/pVOR5l/w6G%2BGUP/IP/a//AGibT0%2BzfFmYY/OI0n/DpfSI%2BLL/AIKFftT2w7LB8YGAH52xrptW/aO/bt0f4z6B8Drj9lD4SNqniLwvq%2Bu2dynx11TyI4NOudNt5kcnwxuDs2qQFQFIISTJUhQ3Uf8ACcf8FC/%2BjX/gz/4fjVv/AJl6P7Dyn/n0vvn%2BlQP%2BIqeIPXMJP1p4d/8ApWEZ5l/w6juY/wDj3/4KWftXL/10%2BLob/wBtqpfBX9la/wD2Zv8AgoX4MF7%2B0z8UviKNb%2BDPjLZ/wsrxQNSOn%2BTq3hXP2fEaeX5nmjf13eVH0xz61/wnH/BQv/o1/wCDP/h%2BNW/%2BZeqHgfwP%2B1Z4x/as8OfG743fDj4e%2BGdG8M/D3xDocMPhX4h32tXV3dalfaJcIzJcaRYpFGiaXKCwd2LSoAuMkbUMqy/DVVUpQs1/em/wc2vwPPzTj7i7OsDPB43E89Odrr2WHjezTXvQw1Oa1S2muzurp%2B60UUV6B8eFFFFABRRRQAV4L/wTp8IaP4U%2BC/jC50qIiTWPj18StQvnbGXmbxlq8eePRI0X6KK96r5K/ZK8Wftnaf8AD3xRZ/DH4B/DDV9CT40/EX%2Bz9R174u6jpt3Mv/CZ6yWMltFoFykRDbgAJnyADkE7QnFNpvoaRq1IQlCLspWuu9ndX9Hr6n1rRXjP/Ccf8FC/%2BjX/AIM/%2BH41b/5l6P8AhOP%2BChf/AEa/8Gf/AA/Grf8AzL0zM9morxn/AITj/goX/wBGv/Bn/wAPxq3/AMy9H/Ccf8FC/wDo1/4M/wDh%2BNW/%2BZegD2aivnH4RftHft2/GXwpd%2BL/AA5%2Byh8JLa3s/FGt6FJHe/HXVFcz6Xqt1pk7jb4YYbGmtJGQ5yUZSQpyo6j/AITj/goX/wBGv/Bn/wAPxq3/AMy9AHs1FeM/8Jx/wUL/AOjX/gz/AOH41b/5l6P%2BE4/4KF/9Gv8AwZ/8Pxq3/wAy9AHs1FeM/wDCcf8ABQv/AKNf%2BDP/AIfjVv8A5l65f4RftHft2/GXwpd%2BL/Dn7KHwktrez8Ua3oUkd78ddUVzPpeq3WmTuNvhhhsaa0kZDnJRlJCnKgA%2BjqK8Z/4Tj/goX/0a/wDBn/w/Grf/ADL0f8Jx/wAFC/8Ao1/4M/8Ah%2BNW/wDmXoA9morxn/hOP%2BChf/Rr/wAGf/D8at/8y9H/AAnH/BQv/o1/4M/%2BH41b/wCZegD2aivnH4RftHft2/GXwpd%2BL/Dn7KHwktrez8Ua3oUkd78ddUVzPpeq3WmTuNvhhhsaa0kZDnJRlJCnKjqP%2BE4/4KF/9Gv/AAZ/8Pxq3/zL0AezUV4z/wAJx/wUL/6Nf%2BDP/h%2BNW/8AmXo/4Tj/AIKF/wDRr/wZ/wDD8at/8y9AHs1FeM/8Jx/wUL/6Nf8Agz/4fjVv/mXrl/hF%2B0d%2B3b8ZfCl34v8ADn7KHwktrez8Ua3oUkd78ddUVzPpeq3WmTuNvhhhsaa0kZDnJRlJCnKgA%2BjqK8Z/4Tj/AIKF/wDRr/wZ/wDD8at/8y9H/Ccf8FC/%2BjX/AIM/%2BH41b/5l6APZqwLTXtE0LXNYt9c1e2s3mvklhF1OsfmJ9mhXcu4jI3Iw47ivOP8AhOP%2BChf/AEa/8Gf/AA/Grf8AzL0f8Jx/wUL/AOjX/gz/AOH41b/5l6APUv8AhOfBP/Q4aV/4MI//AIqj/hOfBP8A0OGlf%2BDCP/4qvBfhF%2B0d%2B3b8ZfCl34v8OfsofCS2t7PxRrehSR3vx11RXM%2Bl6rdaZO42%2BGGGxprSRkOclGUkKcqOo/4Tj/goX/0a/wDBn/w/Grf/ADL0Aepf8Jz4J/6HDSv/AAYR/wDxVYutWXwI8SeL9E%2BIXiK08I3%2Bv%2BGhcjw5rl7Hay3mlC5QR3Atpmy8Hmoqq%2BwjeqgNkCuH/wCE4/4KF/8ARr/wZ/8AD8at/wDMvR/wnH/BQv8A6Nf%2BDP8A4fjVv/mXoAvQ/s%2B/sM2%2Bq%2BIddt/gh8J477xbZ39p4rvE8NaYJdat77H22G7cR5uY7javmrIWEu0bw2K0fGvwr/ZF%2BJWm3ujfEX4cfDjX7PUtcj1rUbTW9HsLqO61JIEt0vZFlVg9wsMUcQlYFwkaKDhQBgf8Jx/wUL/6Nf8Agz/4fjVv/mXrl/AP7R37dvxE8V%2BN/CGj/sofCSG48B%2BKItC1WS5%2BOuqBJ55NK0/Uw8W3wwSU8nUYVJYKd6OMYAZgD13wjpH7P3w/W2TwHpfg7RFs9Jg0q0GkQWlsILCFnaG0TywNsKNJIVjHyqXYgDJqlaeBf2XbD4nX/wAbLHwd4Bh8Z6rYCx1PxdFp9kuqXlqAgEEt0F82SPEaDYzFcIvHArl/%2BE4/4KF/9Gv/AAZ/8Pxq3/zL0f8ACcf8FC/%2BjX/gz/4fjVv/AJl6ANsfCH9jweL/AA78QR8MPhp/b/hDS4tN8J63/Ymn/bNFsolZY7a0m2b7aFA7hY4yqqHYADJrpLGb4M6Zq%2Bq6/psvhi3v9eaM65ewNbpNqJjjEUZncfNNtjARd5OFAUccVwH/AAnH/BQv/o1/4M/%2BH41b/wCZej/hOP8AgoX/ANGv/Bn/AMPxq3/zL0AWrT9nH9g7T/hZf/Ayw%2BA3wjg8E6pfR3up%2BDofC%2BlrpV3cxvG8c8toI/JkkV4omV2UsDGhByox0/wy8Pfs6/BXwsngb4N6H4K8JaJHM80ej%2BGba0sLVZHOXcRQBUDMeScZPevJvAP7R37dvxE8V%2BN/CGj/ALKHwkhuPAfiiLQtVkufjrqgSeeTStP1MPFt8MElPJ1GFSWCnejjGAGbqP8AhOP%2BChf/AEa/8Gf/AA/Grf8AzL0Aej3evaJruuaPb6Hq9tePDfPLMLWdZPLT7NMu5tpOBudRz3Necfsv/wDJb/2jv%2ByzWP8A6hXhej/hOP8AgoX/ANGv/Bn/AMPxq3/zL1b/AGVvhz8afB%2BsfFDx38dNA8L6Tqnj74hRa5Z6V4T8S3OrW9raxaDo%2BmKr3FxZWbNI0mnSuVEW0LIg3Mc4APW6KKKACiiigAooooAKKKKACiiigAooooAKKKKACiiigAooooAKKKKACiiigDzD9rb4yeMvgx8MLC%2B%2BGtnpkviXxJ4w0Xw1oEmtwSS2Vrcahfw2xup44pI3ljhjkkm8pZIzKYhGHj3718tn/a4%2BJOg/sz%2BMfiR4o8JeFtQ%2BJ/gf4hH4dW15Z2E1vpl1qN9q1jY2VyI3lkngtZPtunzzQCZ2UxugkfYsle3/AB4%2BCXhr9oH4dS/DvxNrGp6Xt1Kx1PS9a0SaOO90vULK6iu7S7gaWOSPfHPDG22RHjcAo6OjMp4Wx/YX%2BH0fwW1/4Ha58SfGGr6f4nmn1DWtUvrixS/n1qW%2BN9/bQmgtYxHdpOITGqKtvEttCqQKqYIBpfsrfF74m/EG6%2BIfw1%2BM8uhXXij4aeOV8P6lrHhnTJrGx1VJtJ07VYLmK2nuLiS3Pk6lHE8bTSfvIHYNtZQPWq4P4BfALRfgHout21t4117xPrPijxBJrfinxT4ne1N9q181vBarLKLSCC3QJbWtrAiRQxqsdugxnJPeUAFc98ULX4o3vg24tfg54l8PaPrzSR/Z9T8UaLPqNnBHvBkZ7eC5tnlOzcFAmjG4gk4GD0Nef/tRfs%2B6f%2B1N8Dtb%2BA%2BtfErxR4U0/wAQRxQ6nqng%2B4tYr2S2WVXktt11bzxmKZVMUqmM74pHXI3GgDxvSf2pfjl4u/4J8eLP2sfBngDQPEnxB8P2XiS18FXmheGL27sfE0VrfywW17Z2cczXb2t4trBOsEc7mQbNksq%2BXI3qv7Jnxgu/jN8NrvW9Z%2BKOjeKdU03W59P1eTSfAGpeF306dEjk%2ByXOmancz3VrOI5Y5CJWUsk0bhArKWn8NfAPxj4X%2BG//AAruz/ah8dOYtK%2BxafrI0rw7Bc2OJA0csMcGkx2waNAIVRoWi8v70bN81WvgH%2Bz7onwEsfEUsHjfxB4o1vxf4hOt%2BKvFHieS2N7qd4LS2s0ZltIILeJUtrO2hVIYY1CxAkFmdmAO%2BooooA8p/bX%2BKvxe%2BCv7O2pfEL4F%2BHV1PxHBruhWkUL%2BEb/XhBaXWsWdpe3X9n6fJHc3fkWk9xceXE6sfJ9AQeJ1r9qm50T9iqf9pvQPEHhbx74vs5n0DTdTtPCd5oNquq3erRadHaXFjdzz3lgIrlrZLmGSXzN1uxKodqJ7d8SfB%2Bu%2BO/CNx4b8N/E/XvB15NJG0XiDw1DYyXlvtcMQi39tcwEMAUO%2BJuGONrYYeZad%2Bwv8OoPgt4j%2BBmufETxfrGl%2BLTe3fiK%2B1C7s1vbvV7m6%2B1Nq4mgto/Ju0lEZiEQS3iEMYWEbRQBofstfF34o%2BOdY%2BInwq%2BNk%2BgXnif4b%2BMIdIu9a8L6VPYWOqwXGl2OpQXCWs9xcyW7Bb0wtGZ5ctAXDAOFX1uuB%2BAX7P%2Bj/AAE03XjH451/xXrnivXzrPinxV4oa0%2B3apd/Zre0RnWzt7e3jWO2tbaFUihjULCCQWZmbvqACsL4kWHxJ1Lwjc2nwk8XaFoeusyG11LxJ4em1WziUOC4e2hu7R3JTcARMu0kEhgNp3awPit4At/iv8L/ABH8LrvxLquixeJNBu9Ll1jQpo476xW4heIz27yI6JMgfcjMjAMASpHFAHzZ4F/aZ/ae8V/8E2Nd/bQg8I%2BFPFHxCGi69f8Aw1HhvwLfmDVdK%2B1uNMlFgt7PdSfbLaC0umghuMt5kaqcqGr2P9kz4wXfxm%2BG13res/FHRvFOqabrc%2Bn6vJpPgDUvC76dOiRyfZLnTNTuZ7q1nEcschErKWSaNwgVlLbUvwXXSvAlv8OPhn8R9e8F6Tpvhq30bQrfw5b6ew0pINgimh%2B12k4MixosW2QPFs6xlvmqt8A/2fdE%2BAlj4ilg8b%2BIPFGt%2BL/EJ1vxV4o8TyWxvdTvBaW1mjMtpBBbxKltZ20KpDDGoWIEgszswB31FFFAHzF%2B0t%2B2H8YP2WPjf4wuvGdr4Y1f4daL%2Bz74s%2BIemaZp2k3MGspNoJ0vzYZrt7l4ZEm%2B3TbVW3Qp5aEu%2BSK6r9mv4m/GvWfjb4t%2BBn7Tdn4MvvGfhHwjoWv2mv8AgzRLiytv7O1mW/hNnsubm5k3x3OiXG6QSBZkEDeXGQVB8Y/2FfDvx0%2BOrfGXx58dvHMumzeCtT8I33w9hg0X%2BxLvRtSW2%2B32khfTWvSJ2tIHZxdB1KEIyIzIdf4J/skWPwTn1PXrb46eOvEniPWX0mHU/FniibTZr%2BfTdO3/AGXSz5VlFCLYCa5ywjE7NdTOZvMYOADzn9nX9sb42fEr4t%2BEn8e6Z4WXwR8Uv%2BEp/wCEGtdJ025i1PSf7IvVih%2B2zyXMkV39qthLOfLhg%2Bzuixfvw3mj6irxn4RfsQ/Dj4OfFr/haejeOfFWpQ2H9s/8In4W1e6tW0zwz/a14l7qH2JYrdJj5syLj7RLN5KFoofKjZkPs1ABXhXib4tftJaT%2B2wfgBp2p%2BB38NeJPhNrniDwf5%2BgXgvrDU9PudHtV%2B2Ti88u4t3fUpGMccMTqsS/vGLHHuteI/FT9jHVPib%2B0HH%2B0VY/tbfE/wAL6ja%2BD9R8N6bo/huLw%2BLKxs74WzXDRNc6TNceaZrO1nV2mbbJCAAI2eNgBn7KnxX%2BJ/xH%2BJnxG8C/Fy68HeJb/wCHGrW2kWvjzwZ4cuNNtLiW5tYrm707ybi7vHjmt2W3Muy4ZW8yIFUeNlHN/sp/tT/F34m/tAeLvhf8c/E%2BiaDc2ev%2BKLfwp4Fm%2BE%2Bt6PfXmmafrT2lrqUOrX121pq0b2gt5ZBaQAK15ESyAbX7X9mb9kVv2W/hPafBvwh%2B0T461jSdPurWXT5Nes9C%2B0QpHOZriNpLXTIPPN2zP9onmElw7SPIsqSsZKueHP2WoLH45W3x58d/G/xr4yv9Ih1GHwppPiE6ZHY%2BH4714zOLdbGyt5JTsiSJXupJ3VAQGy7swB6pRRRQB87fF/8AaA/aW%2BGv7Ues/DLSLTwnrHh2%2B%2BCPiTxb4N0u18PXh1ZNT0qXSYVhuJluzHcxTSajJiKKCNwI0HmMWOL/AOwp8cvE37QHg2fxD8XPF/h/UPHOj29vHrGi2fwp1bwlqHhwXUEUzWs9pq91PcsjvHlZx5cUohG0NsyNP4hfse6n48/aUs/2mrL9qv4k%2BH9Q07wrf%2BH9N8P6Jb%2BHzp1tZ3htXuNv2nSprku01lazhmnba8WFxGzRtpfCv9lpPhhruv8Ajq4%2BO3jbxH4t8T3GlDW/F/iBdK%2B13Fjp8kjwacIrWwhtYrb9/dKxjgWY/a5WEqvsdADzL4DftjfG34gfGLwtJ420zwsvgP4ma14u0zwVZ6XptzFqulyaLdyxQyXlw9y8V0t3b21zMVjhgNu3lx5nyZB9RV4z8Lf2Ifhx8KPjD/wtnSfHPirUILK61u68L%2BEdUurVtK8OT6vdi71KWzWO3SctNNuI8%2BaYQrLJHCIo3KV7NQAV4br/AMV/2i9O/bfX9ny313wVH4W8TfCjW9f8JzP4ZvJNQ03UbC60e1DXcgvkju4HfU5G8mOOBwsKjzssSPcq8k8Rfso3XiH9rPRf2tP%2BGjvHtndaFoN1otn4MtLfRDozWN09pLcwuZNNa8PmzWNtKWF0HVoyEZEZkIBzn7HXxK%2BPXxT%2BJnxUtfjXrXgPxBY/D/xTF4W8MeJ/CPgq60eS6nFnbXWqKVudRvi0STS29v8AI6fvbOYMG2qRkfsp/tT/ABd%2BJv7QHi74X/HPxPomg3Nnr/ii38KeBZvhPrej315pmn609pa6lDq19dtaatG9oLeWQWkACteREsgG1/VvhH%2Bz5oXwQ%2BFlp8K/h/4016COHxDc61f6zcNazX2p3V1qUmo3puGe3MZ%2B0zTTLIUjRgkp8to2CuuV4c/ZagsfjlbfHnx38b/GvjK/0iHUYfCmk%2BITpkdj4fjvXjM4t1sbK3klOyJIle6kndUBAbLuzAHqlFFFABRRRQAUUUUAFFFFAHy7%2B01%2B2N8bfhX8U/GL/DzTPCzeDfhNovhvU/HdtrOm3M2o6xHql9cRTR2M0dzHHaNbWtv54aSK4E8koixCFMhj/bA/at%2BMHwA8Q%2BOLH4EeG/B8Wj/CT4TS/E3x9aa3pM8s2t201zqD/YbF4LiFLS4kXTNRka5lWdfMeHMR3Ow9A%2BM/7EPw4%2BN3xSPxM1zxz4q0uLUbXSLXxf4a0a6tU07xTBpd7Je2MV8stvJMFjmmlz9nlgMschimMsYVBS%2BN37Bvgb4/XEd145%2BLvjeN7/ws/hjxv/Zs%2BnQr4y0N5jMdO1FfsRURZedd1qLaUJczqJMSNQB7hBPFcwJcwtlJEDIcYyCMin0UUAFeD/ta/Gb9oL4DeJPC/i7wZ4g8EXvh7WvF2heHbbwLfeHLyTXNcub2%2BWG5a0vY71YoTBatJdbGtJh5dpMzvGgLx%2B8V4z8Sf2OV%2BIn7TuiftTW/7R3xA0LVfD%2BhjStM0DTIdEuNLggebzblo0vtMuJoZbkCOOaWKVHaOGNFZAOQDif2tv2lfiZ%2Bzh8bfCvhLw7rHh7wP8N73w9qeseLfG%2BtfCLWdesLO9F/agRT3WnXdtb6UsqXF3M91dkpmMsT97P05XkHx0/ZJuv2hPBMvwx8eftLfEOLwxqmj3Gk%2BLtB0xdFhi8SWU5cTQ3Mv9mmeENE7QFrSS3byz13/PXr0caRIsUSBVUAKqjAA9KAFooooA%2Bavjj%2B1P8AF34YftpaZ8J9W8T6J4P%2BGkugeHbgeJdd%2BE%2Bt6rDq2p32qahaT6aNZtruGw0mQR29isRulctJfJhX%2BVDU/a//AGofjN8CvEnivQP2efDng6Kz%2BG3wpvviV40ttf0qeV9ZhNzcsun2bW9xCtpPObO/d7uVZ1VzETC%2B9mHpnx0/Zag/aC1y2Txt8b/Gtv4SWaxm1P4e6YdMj0rVZLW5W5jM8rWTXwDSJHvSK6jR1jClcM4fB%2BOn7CPgr9oNopvG3xg8cW0134Xu/DHi%2BfSLjToG8V6FczCWTTL4fYiqxffRZLYW86JNKFlHmOSAe1aTqdrrelWus2LMYLu3SaEsuCUdQwyO3BqxTY444Y1hhjVERQFVRgADoAKdQAV8%2B/tm/FX9qb4Q%2BKPAh%2BB3jnwAYfGvjvRfDFh4V8R%2BAr69vbmSad5tQuEvYNWt0jWDTILy6CG2c5tCCxD/AC/QVcb4u%2BCHhTxt8ZfB3xs1/UNQkv8AwNZ6pFoemLLGLIT3yQxPeOhQuZ44YpYY2DhVS8uAVYspQA8V/a2/aV%2BJn7OHxt8K%2BEvDuseHvA/w3vfD2p6x4t8b618ItZ16ws70X9qBFPdadd21vpSypcXcz3V2SmYyxP3s/TleQfHT9km6/aE8Ey/DHx5%2B0t8Q4vDGqaPcaT4u0HTF0WGLxJZTlxNDcy/2aZ4Q0TtAWtJLdvLPXf8APXr0caRIsUSBVUAKqjAA9KAFqj4mTxJL4b1CPwbc2MGsNYyjSptTgeW2judh8ppURkZ4w%2B0sqspIyAwPNXqq67p93q%2BiXmlafrt1pc91ayRQanYJE09o7KQJoxNHJGXQkMBIjpkDcrDIIB8hfDn9r/8AbI%2BL3hbwH8L/AAVP8Nbf4ma%2B/wARrnWNc1DwvqDaJJaeFvEKaKEhsl1ETwyXMt3Ytua5lES%2Be22T5Vru9S/a31bWf2LfhV8evgP4Q0jSdZ%2BNcvhhvDVnrdo81lpk2vGK6luLmOB4XuPKimuJiivGZpFCmSPzC65fhb/gl/oXhLwfZ%2BHtM/bB%2BMH9q6bq3iC70zxcsnh6HU7SDXLlrvVrFTDo6Qm3ubpluDuiaWKSGIwyRCNQPSfF37IHw%2B8TfB%2Bw%2BBuk%2BKde8PeH/D1voS%2BB4NCa0STwtPpEiSWdzZvLbyFnBihVkuPPidIthj2vKsgBN%2ByX8Y/G3xh%2BH%2BsL8TrbSk8T%2BEvGer%2BGdfn0K2kgsbyayuWRLqCKWSV4UlgMMpiaSQxs7R%2BZJs3t6jXGfAb4IeG/2fvh/wD8IJ4e1zVdXkuNVvtV1jXddlie%2B1XULy5kubm6nMMcUQd5JGwscaRooVERERVHZ0AUfEyeJJfDeoR%2BDbmxg1hrGUaVNqcDy20dzsPlNKiMjPGH2llVlJGQGB5r5Vsf2pP2sNQ/Yauv2m9W%2BJ/wk8Oal4O1HxlbeMr7VfA2pTadqbaPrV7p1qlpAmqrLaGcWgzulum3yqqRuSBX1drun3er6JeaVp%2Bu3Wlz3VrJFBqdgkTT2jspAmjE0ckZdCQwEiOmQNysMg/Lll/wSrsbPwp4Z8HP%2B3J8abiz8J%2BPNT8Y6XHdW/hORH1a9uZrt5poToPkziK6uLi4hDxnyZZQ6YMUPlAHb/tA/Gb41/DD9iy0%2BMvwh%2BES6X4y1C68OzX/AIYk8IXuvNpB1PVrKPVJH0/TXiub2S2hu7udliZWd4Sx6kHt/wBmL4pD4xfBnTfGs3xJ0bxXdtc3dtqWq6H4UvNCiW5huZInt3069nnubKaEr5UkU0hcSRuSqZCLb8TfCzxrr/hi40DTv2jvGmjXc2n2FvFremWeim6t5bd2aW5RZ9OkhMlyGCyq8TRAIvkxwHcWb8BPgV4b/Z98E3HhDQfEGr61cajrV5rGua/r88T3uq6hdTGWe5m8mOKJSSQAkUccaKqqqKFAoA7aiiigD4x1z9sH9trw38OvG9jeWXhLVPFPg/4/WXg291nwj8I9e1q2ttEn0XTtSkvDpFlfyXlxLEb4xl0mVSFDmNckV6z4l/ab0r4d/sJ6/wDte%2BEtU8OeOL2DwnPq63%2BgaXLpNlrupRxeRGrxSyzzWo8yOOB1leSWERlWyY9opeBv2FPGHw61DxrrPhb9vT4xw33jzxVH4g1i8fT/AAkzR3i2cFkfKU6DsCNb2tshVlf/AFCsu1mdn6bTf2MfhdY/s/XX7MF3r3iC%2B8Gap4d1nTPEGn3t5CZdXn1Sdri71Ka4WJZkvGmluZA0Lxxq11IRHlYjGAQ/syfFz4x%2BI/H3j/4F/H%2B78M6h4m8C3WmTLrnhDR7jTrHULG/tPNib7NcXNy8MqSxXMTDznDLHHINm8xp7FXnfwA/Zz0r4DHxDrFx8SPE3jTxF4r1GG78QeLPGElmb678i2jtoIttlbW1vHFHFGAqxxLlnkdtzyOzeiUAFfMvwx%2BNn7Wfi/wAA/F%2Bz8c/Fr4VeG9e%2BFPxJl0y88Un4eajcaS2jpoOm6o7PaHWI5RMhv2UzfaAhWDPkqW%2BX6ar5007/AIJz6FJ4M%2BLvw%2B8dftRfE/xVo/xruzceM7PWBoMHzPa2tlOsDWOlW7Ik1lZw2rqxceXuK7ZGMhAIvAHxw/aYP/BMHUP2stR%2BGWg3Xxd1L4VX/jGz8NaF4Yuoob/Uv7PkuNOtZLMXMtw8xiSzgkjE7OXVkRwNgHafsd/GvWPjT4E1a68W/FHRvEevaPrZs9WttM%2BGuq%2BEZ9IY28MqW11purXVxdRylZPNEjFFkjljKpgb373xd4K1jxHazWeg/EvXPDaSaLc2MI0OCxP2eWQx%2BXeJ9ptpv30IRhGrZhIlfzIpMIU5v4D/ALO2k/A688S%2BI7n4ieJPGPiTxfqMN54i8U%2BK3sxd3Rht0t4IhHY21tbRRRxoAqxwpks7MWZmYgHodFFFABRRRQAUUUUAFFFFABRRRQAUUUUAFFFFABRRRQAUUUUAFFFFABRRRQAUUUUAFFFFABRRRQAUUUUAFFFFABRRRQAUUUUAFFFFABRRRQAUUUUAFFFFABRRRQAUUUUAFFFFABRRRQAUUUUAFFFFABRRRQAUUUUAFFFFABRRRQAUUUUAFFFFABRRRQAUUUUAFFFFABRRRQAUUUUAFFFFABRRRQAUUUUAFFFFABRRRQAUUUUAFFFFABRRRQAUUUUAFFFFABRRRQAUUUUAFFFFABRRRQAUUUUAFFFFABRRRQAUUUUAFFFFABRRRQAUUUUAf//Z\">"
            ]
          },
          "metadata": {
            "tags": []
          }
        }
      ]
    },
    {
      "cell_type": "code",
      "metadata": {
        "id": "0RqNbmwtU0Hi",
        "colab_type": "code",
        "colab": {}
      },
      "source": [
        ""
      ],
      "execution_count": 65,
      "outputs": []
    }
  ]
}