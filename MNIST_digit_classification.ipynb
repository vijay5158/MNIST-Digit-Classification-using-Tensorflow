{
  "nbformat": 4,
  "nbformat_minor": 0,
  "metadata": {
    "colab": {
      "name": "Copy of Copy of MNIST digit classification.ipynb",
      "provenance": [],
      "collapsed_sections": []
    },
    "kernelspec": {
      "name": "python3",
      "display_name": "Python 3"
    },
    "accelerator": "GPU"
  },
  "cells": [
    {
      "cell_type": "markdown",
      "metadata": {
        "id": "A1cK9A5HCbV4",
        "colab_type": "text"
      },
      "source": [
        "# MNIST digits classification with TensorFlow\n",
        "\n",
        "\n"
      ]
    },
    {
      "cell_type": "code",
      "metadata": {
        "id": "S1XNWfo_0kcN",
        "colab_type": "code",
        "colab": {}
      },
      "source": [
        "import numpy as np\n",
        "from sklearn.metrics import accuracy_score\n",
        "from matplotlib import pyplot as plt\n",
        "%matplotlib inline\n",
        "import tensorflow as tf"
      ],
      "execution_count": null,
      "outputs": []
    },
    {
      "cell_type": "code",
      "metadata": {
        "id": "MQ9WMsff2tL0",
        "colab_type": "code",
        "colab": {}
      },
      "source": [
        "import keras\n",
        " \n",
        " \n",
        "def load_dataset(flatten=False):\n",
        "    (X_train, y_train), (X_test, y_test) = keras.datasets.mnist.load_data()\n",
        " \n",
        "    # normalize x\n",
        "    X_train = X_train.astype(float) / 255.\n",
        "    X_test = X_test.astype(float) / 255.\n",
        " \n",
        "    # we reserve the last 10000 training examples for validation\n",
        "    X_train, X_val = X_train[:-10000], X_train[-10000:]\n",
        "    y_train, y_val = y_train[:-10000], y_train[-10000:]\n",
        " \n",
        "    if flatten:\n",
        "        X_train = X_train.reshape([X_train.shape[0], -1])\n",
        "        X_val = X_val.reshape([X_val.shape[0], -1])\n",
        "        X_test = X_test.reshape([X_test.shape[0], -1])\n",
        " \n",
        "    return X_train, y_train, X_val, y_val, X_test, y_test"
      ],
      "execution_count": null,
      "outputs": []
    },
    {
      "cell_type": "code",
      "metadata": {
        "id": "QHnVY0I-3Fmh",
        "colab_type": "code",
        "colab": {
          "base_uri": "https://localhost:8080/",
          "height": 703
        },
        "outputId": "2c533cb3-8821-4f33-bea1-0fb8c497df9f"
      },
      "source": [
        "X_train, y_train, X_val, y_val, X_test, y_test = load_dataset()\n",
        "print(\"X_train [shape %s] sample patch:\\n\" % (str(X_train.shape)), X_train[1, 15:20, 5:10])\n",
        "print(\"A closeup of a sample patch:\")\n",
        "plt.imshow(X_train[1, 15:20, 5:10], cmap=\"Greys\")\n",
        "plt.show()\n",
        "print(\"And the whole sample:\")\n",
        "plt.imshow(X_train[1], cmap=\"Greys\")\n",
        "plt.show()\n",
        "print(\"y_train [shape %s] 10 samples:\\n\" % (str(y_train.shape)), y_train[:10])"
      ],
      "execution_count": null,
      "outputs": [
        {
          "output_type": "stream",
          "text": [
            "X_train [shape (50000, 28, 28)] sample patch:\n",
            " [[0.         0.29803922 0.96470588 0.98823529 0.43921569]\n",
            " [0.         0.33333333 0.98823529 0.90196078 0.09803922]\n",
            " [0.         0.33333333 0.98823529 0.8745098  0.        ]\n",
            " [0.         0.33333333 0.98823529 0.56862745 0.        ]\n",
            " [0.         0.3372549  0.99215686 0.88235294 0.        ]]\n",
            "A closeup of a sample patch:\n"
          ],
          "name": "stdout"
        },
        {
          "output_type": "display_data",
          "data": {
            "image/png": "[encoded data removed]",
            "text/plain": [
              "<Figure size 432x288 with 1 Axes>"
            ]
          },
          "metadata": {
            "tags": [],
            "needs_background": "light"
          }
        },
        {
          "output_type": "stream",
          "text": [
            "And the whole sample:\n"
          ],
          "name": "stdout"
        },
        {
          "output_type": "display_data",
          "data": {
            "image/png": "[encoded data removed]",
            "text/plain": [
              "<Figure size 432x288 with 1 Axes>"
            ]
          },
          "metadata": {
            "tags": [],
            "needs_background": "light"
          }
        },
        {
          "output_type": "stream",
          "text": [
            "y_train [shape (50000,)] 10 samples:\n",
            " [5 0 4 1 9 2 1 3 1 4]\n"
          ],
          "name": "stdout"
        }
      ]
    },
    {
      "cell_type": "code",
      "metadata": {
        "id": "_WF62eKM5IjM",
        "colab_type": "code",
        "colab": {
          "base_uri": "https://localhost:8080/",
          "height": 51
        },
        "outputId": "4e192f47-b171-4a29-e16b-d8574775448e"
      },
      "source": [
        "X_train_flat = X_train.reshape((X_train.shape[0], -1))\n",
        "print(X_train_flat.shape)\n",
        "\n",
        "X_val_flat = X_val.reshape((X_val.shape[0], -1))\n",
        "print(X_val_flat.shape)"
      ],
      "execution_count": null,
      "outputs": [
        {
          "output_type": "stream",
          "text": [
            "(50000, 784)\n",
            "(10000, 784)\n"
          ],
          "name": "stdout"
        }
      ]
    },
    {
      "cell_type": "code",
      "metadata": {
        "id": "ofeQxrDHg89S",
        "colab_type": "code",
        "colab": {
          "base_uri": "https://localhost:8080/",
          "height": 105
        },
        "outputId": "11a11faa-2835-4702-b188-82fae65de809"
      },
      "source": [
        "import keras\n",
        "\n",
        "y_train_oh = keras.utils.to_categorical(y_train, 10)\n",
        "y_val_oh = keras.utils.to_categorical(y_val, 10)\n",
        "\n",
        "print(y_train_oh.shape)\n",
        "print(y_train_oh[:3], y_train[:3])"
      ],
      "execution_count": null,
      "outputs": [
        {
          "output_type": "stream",
          "text": [
            "(50000, 10)\n",
            "[[0. 0. 0. 0. 0. 1. 0. 0. 0. 0.]\n",
            " [1. 0. 0. 0. 0. 0. 0. 0. 0. 0.]\n",
            " [0. 0. 0. 0. 1. 0. 0. 0. 0. 0.]] [5 0 4]\n"
          ],
          "name": "stdout"
        }
      ]
    },
    {
      "cell_type": "code",
      "metadata": {
        "id": "qrIF8hqNhFCt",
        "colab_type": "code",
        "colab": {}
      },
      "source": [
        "# Model parameters: W and b\n",
        "W = tf.compat.v1.get_variable(shape = (784,10),name = 'weights') ### YOUR CODE HERE ### tf.get_variable(...) with shape[0] = 784\n",
        "b = tf.compat.v1.get_variable(shape = (10), name ='bias')### YOUR CODE HERE ### tf.get_variable(...)"
      ],
      "execution_count": null,
      "outputs": []
    },
    {
      "cell_type": "code",
      "metadata": {
        "id": "mWayYz0lhHly",
        "colab_type": "code",
        "colab": {}
      },
      "source": [
        "# Placeholders for the input data\n",
        "tf.compat.v1.disable_eager_execution()\n",
        " \n",
        "input_X = tf.compat.v1.placeholder(tf.float32 ,shape = (None,784))### YOUR CODE HERE ### tf.placeholder(...) for flat X with shape[0] = None for any batch size\n",
        "input_y = tf.compat.v1.placeholder(tf.float32,shape = (None,10))### YOUR CODE HERE ### tf.placeholder(...) for one-hot encoded true labels"
      ],
      "execution_count": null,
      "outputs": []
    },
    {
      "cell_type": "code",
      "metadata": {
        "id": "K1P9fys9hOpS",
        "colab_type": "code",
        "colab": {}
      },
      "source": [
        "# write the code here to get a new `step` operation and then run the cell with training loop above.\n",
        "# name your variables in the same way (e.g. logits, probas, classes, etc) for safety.\n",
        "### YOUR CODE HERE ###\n",
        "# write the code here to get a new `step` operation and then run the cell with training loop above.\n",
        "# name your variables in the same way (e.g. logits, probas, classes, etc) for safety.\n",
        "### YOUR CODE HERE ###\n",
        " \n",
        "logits = tf.compat.v1.layers.dense(input_X,784,activation = tf.nn.sigmoid)\n",
        "logits12 = tf.compat.v1.layers.dense(logits,256,activation = tf.nn.sigmoid)\n",
        "logits13 = tf.compat.v1.layers.dense(logits12,256,activation = tf.nn.sigmoid)\n",
        "logits2 = tf.compat.v1.layers.dense(logits13,10)\n",
        " \n",
        " \n",
        "probas = tf.nn.softmax(logits2)\n",
        "classes = tf.argmax(probas,axis = 1) ### YOUR CODE HERE ### apply tf.argmax to find a class index with highest probability\n",
        " \n",
        "# Loss should be a scalar number: average loss over all the objects with tf.reduce_mean().\n",
        "# Use tf.nn.softmax_cross_entropy_with_logits on top of one-hot encoded input_y and logits.\n",
        "# It is identical to calculating cross-entropy on top of probas, but is more numerically friendly (read the docs).\n",
        "loss =tf.reduce_mean(tf.nn.softmax_cross_entropy_with_logits(labels = input_y,logits = logits2)) ### YOUR CODE HERE ### cross-entropy loss\n",
        " \n",
        "# Use a default tf.train.AdamOptimizer to get an SGD step\n",
        "step = tf.compat.v1.train.AdamOptimizer(0.003).minimize(loss) ### YOUR CODE HERE ### optimizer step that minimizes the loss"
      ],
      "execution_count": null,
      "outputs": []
    },
    {
      "cell_type": "code",
      "metadata": {
        "id": "SWv7TMAPiOvZ",
        "colab_type": "code",
        "colab": {}
      },
      "source": [
        "from matplotlib import pyplot as plt\n",
        "from IPython.display import clear_output, display_html, HTML\n",
        "import contextlib\n",
        "import time\n",
        "import io\n",
        "import urllib\n",
        "import base64\n",
        " \n",
        " \n",
        "def clear_and_display_figure(fig, sleep=0.01):\n",
        "    img_data = io.BytesIO()\n",
        "    fig.savefig(img_data, format='jpeg')\n",
        "    img_data.seek(0)\n",
        "    uri = 'data:image/jpeg;base64,' + urllib.request.quote(base64.b64encode(img_data.getbuffer()))\n",
        "    img_data.close()\n",
        "    clear_output(wait=True)\n",
        "    display_html(HTML('<img src=\"' + uri + '\">'))\n",
        "    time.sleep(sleep)\n",
        " \n",
        " \n",
        "class SimpleMovieWriter(object):\n",
        "    \"\"\"\n",
        "    Usage example:\n",
        "        anim = animation.FuncAnimation(...)\n",
        "        anim.save(None, writer=SimpleMovieWriter(sleep=0.01))\n",
        "    \"\"\"\n",
        "    def __init__(self, sleep=0.1):\n",
        "        self.sleep = sleep\n",
        " \n",
        "    def setup(self, fig):\n",
        "        self.fig = fig\n",
        " \n",
        "    def grab_frame(self, **kwargs):\n",
        "        clear_and_display_figure(self.fig, self.sleep)\n",
        " \n",
        "    @contextlib.contextmanager\n",
        "    def saving(self, fig, *args, **kwargs):\n",
        "        self.setup(fig)\n",
        "        try:\n",
        "            yield self\n",
        "        finally:\n",
        "            pass\n",
        " \n",
        " \n",
        "class SimpleTrainingCurves(object):\n",
        "    def __init__(self, loss_name, metric_name):\n",
        "        self.fig, (self.ax1, self.ax2) = plt.subplots(nrows=1, ncols=2, figsize=(12, 4))\n",
        "        self.ax1.set_title(loss_name)\n",
        "        self.ax2.set_title(metric_name)\n",
        "        self.train_loss_curve, = self.ax1.plot([], [], 'r', label='train', lw=2)\n",
        "        self.valid_loss_curve, = self.ax1.plot([], [], 'g', label='valid', lw=2)\n",
        "        self.train_metric_curve, = self.ax2.plot([], [], 'r', label='train', lw=2)\n",
        "        self.valid_metric_curve, = self.ax2.plot([], [], 'g', label='valid', lw=2)\n",
        "        self.iter = 0\n",
        "        self.y_limits_1 = [None, None]\n",
        "        self.y_limits_2 = [None, None]\n",
        "        plt.close(self.fig)\n",
        " \n",
        "    def _update_y_limits(self, limits, *values):\n",
        "        limits[0] = min(list(values) + ([limits[0]] if limits[0] else []))\n",
        "        limits[1] = max(list(values) + ([limits[1]] if limits[1] else []))\n",
        " \n",
        "    def _update_curve(self, curve, value, label):\n",
        "        x, y = curve.get_data()\n",
        "        curve.set_data(list(x) + [self.iter], list(y) + [value])\n",
        "        curve.set_label(\"{}: {}\".format(label, value))\n",
        " \n",
        "    def _set_y_limits(self, ax, limits):\n",
        "        spread = limits[1] - limits[0]\n",
        "        ax.set_ylim(limits[0] - 0.05*spread, limits[1] + 0.05*spread)\n",
        " \n",
        "    def add(self, train_loss, valid_loss, train_metric, valid_metric):\n",
        "        self._update_curve(self.train_loss_curve, train_loss, \"train\")\n",
        "        self._update_curve(self.valid_loss_curve, valid_loss, \"valid\")\n",
        "        self._update_curve(self.train_metric_curve, train_metric, \"train\")\n",
        "        self._update_curve(self.valid_metric_curve, valid_metric, \"valid\")\n",
        "        self.ax1.set_xlim(0, self.iter)\n",
        "        self.ax2.set_xlim(0, self.iter)\n",
        "        self._update_y_limits(self.y_limits_1, train_loss, valid_loss)\n",
        "        self._update_y_limits(self.y_limits_2, train_metric, valid_metric)\n",
        "        self._set_y_limits(self.ax1, self.y_limits_1)\n",
        "        self._set_y_limits(self.ax2, self.y_limits_2)\n",
        "        clear_and_display_figure(self.fig)\n",
        "        self.ax1.legend()\n",
        "        self.ax2.legend()\n",
        "        self.iter += 1"
      ],
      "execution_count": null,
      "outputs": []
    },
    {
      "cell_type": "code",
      "metadata": {
        "id": "Rl_7JJElhUMF",
        "colab_type": "code",
        "colab": {}
      },
      "source": [
        ""
      ],
      "execution_count": null,
      "outputs": []
    },
    {
      "cell_type": "code",
      "metadata": {
        "id": "3jUcZD2EhRwq",
        "colab_type": "code",
        "colab": {
          "base_uri": "https://localhost:8080/",
          "height": 329
        },
        "outputId": "86c89ec1-2dfe-4aec-f646-adbb1c341fd6"
      },
      "source": [
        "s = tf.compat.v1.Session()\n",
        "s.run(tf.compat.v1.global_variables_initializer())\n",
        " \n",
        "BATCH_SIZE = 512\n",
        "EPOCHS = 20\n",
        " \n",
        " \n",
        "simpleTrainingCurves = SimpleTrainingCurves(\"cross-entropy\", \"accuracy\")\n",
        " \n",
        "for epoch in range(EPOCHS):\n",
        "    \n",
        "    batch_losses = []\n",
        "    for batch_start in range(0, X_train_flat.shape[0], BATCH_SIZE):\n",
        "        _, batch_loss = s.run([step, loss], {input_X: X_train_flat[batch_start:batch_start+BATCH_SIZE], \n",
        "                                             input_y: y_train_oh[batch_start:batch_start+BATCH_SIZE]})\n",
        "        batch_losses.append(batch_loss)\n",
        " \n",
        "    train_loss = np.mean(batch_losses)\n",
        "    val_loss = s.run(loss, {input_X: X_val_flat, input_y: y_val_oh})\n",
        "    train_accuracy = accuracy_score(y_train, s.run(classes, {input_X: X_train_flat}))\n",
        "    valid_accuracy = accuracy_score(y_val, s.run(classes, {input_X: X_val_flat}))  \n",
        "    simpleTrainingCurves.add(train_loss, val_loss, train_accuracy, valid_accuracy)"
      ],
      "execution_count": 55,
      "outputs": [
        {
          "output_type": "display_data",
          "data": {
            "text/html": [
              "<img src=\"data:image/jpeg;base64,/9j/4AAQSkZJRgABAQEASABIAAD/2wBDAAIBAQEBAQIBAQECAgICAgQDAgICAgUEBAMEBgUGBgYFBgYGBwkIBgcJBwYGCAsICQoKCgoKBggLDAsKDAkKCgr/2wBDAQICAgICAgUDAwUKBwYHCgoKCgoKCgoKCgoKCgoKCgoKCgoKCgoKCgoKCgoKCgoKCgoKCgoKCgoKCgoKCgoKCgr/wAARCAEgA2ADASIAAhEBAxEB/8QAHwAAAQUBAQEBAQEAAAAAAAAAAAECAwQFBgcICQoL/8QAtRAAAgEDAwIEAwUFBAQAAAF9AQIDAAQRBRIhMUEGE1FhByJxFDKBkaEII0KxwRVS0fAkM2JyggkKFhcYGRolJicoKSo0NTY3ODk6Q0RFRkdISUpTVFVWV1hZWmNkZWZnaGlqc3R1dnd4eXqDhIWGh4iJipKTlJWWl5iZmqKjpKWmp6ipqrKztLW2t7i5usLDxMXGx8jJytLT1NXW19jZ2uHi4%2BTl5ufo6erx8vP09fb3%2BPn6/8QAHwEAAwEBAQEBAQEBAQAAAAAAAAECAwQFBgcICQoL/8QAtREAAgECBAQDBAcFBAQAAQJ3AAECAxEEBSExBhJBUQdhcRMiMoEIFEKRobHBCSMzUvAVYnLRChYkNOEl8RcYGRomJygpKjU2Nzg5OkNERUZHSElKU1RVVldYWVpjZGVmZ2hpanN0dXZ3eHl6goOEhYaHiImKkpOUlZaXmJmaoqOkpaanqKmqsrO0tba3uLm6wsPExcbHyMnK0tPU1dbX2Nna4uPk5ebn6Onq8vP09fb3%2BPn6/9oADAMBAAIRAxEAPwD9/KKKKACiiigAooooAKKKKACiiigAooooAKKKKACiiigAooooAKKKKACiiigAooooAKKKKACiiigAooooAKKKKACiiigAooooAKKKKACiiigAooooAKKKKACiiigAooooAKKKKACiiigAooooAKKKKACiiigAooooAKKKKACiiigAooooAKKKKACiiigAooooAKKKKACiiigAooooAKKKKACiiigAooooAKKKKACiiigAooooAKKKKACiiigAooooAKKKKACiiigAooooAKKKKACiiigAooooAKKKKACiiigAooooAKKKKACiiigAooooAKKKKACiiigAooooAKKKKACiiigAooooAKKKKACuN%2BOP7QHwm/Zx8JW/jT4veJ5dPtL7U4dN0u2stLub%2B91K9lDGO1tLO0jluLudlR2EUMbvtR2xhWI7KvFv2u/gP8VPiX4h%2BGfxl%2BBd14fl8X/CrxjPrWmaJ4tu57bTdYhudLvdMubaW4ghmktH8q9aSOdYZtrR7TGyu2ACjpH/AAUr/Y71rxm3w8tvHviCDW7fSodU1bTtR%2BHOvWkmi2EhuAt3qXn2SDTIAbWcNLdmFEKYYqWUGbwn/wAFH/2NfGfg/wAQ%2BOtM%2BLFza6f4Y0e11fVBrnhPVdMuJNPuXMdreWtvd2sU19bzyAxwy2ySpM5CRlmIB86vP2GPjP8AHW0/aRP7Qt74V8My/tB/CPTvBskfgrWLrUzo7RWusWsr%2BbcWtqZ1VNRiZDsXeyygogxuy9Y/Y2/at%2BM%2Btaz8UP2lPh38G9X1e0%2BE6eBtB8E6d4n1QaRrSy6jaXt5fXd2bBJ9PYmyg%2BzxQw3BtnDP50hIwAeyX/7fP7N2k%2BAbH4h6tdeOLSHVPED6Jpeh3Xwj8SR67e3yW5uXjh0dtPGoShYAZTIluUCKzFsA49P8JeOfDfjbwTY/EPRbi5i0rULBbyCTVNPnsZY4iu7MsFykcsDAfeSRVZSCGAIIr41tv2Gf2tJfgpJ4W8feGPCnjS%2Bh%2BIcut%2BC9B1n9ofxXb3fgOxOmxWoi0/xbHp7atcSGUXcreZDGBHeGENsjGfUvB/7Bmq%2BKfgJo3hb9pz46%2BOPEfj5PhtdeFtf8Q6T8Q9at9Muhc2tzbyTPpa3SWN5MiXTBbq4tmmdoopWKuibADc8Mf8FJP2MvF/h7xJ4s0b4tXK6Z4W8GXni6/vr7wlqtpFe6BaruuNU09p7VBqtogK5nsvPQmSMAkyIG4n40f8FdP2YfAf7M/wATf2gfhW%2Bs%2BM7v4b%2BDYfEjeGW8L6xps2r2Nw7R2t3avNYFrixlkRh9vgjmtkVWdnCqSPHfC/8AwSh%2BNC/BPxf8LPFnh3w9J4h/4UL4j8A%2BC/Hmo/tD%2BNvECSXGpWEdp5h0jVUkttGtpDDE8scEl0yeVGqFggz6P%2B1L/wAE5vih%2B0BYeKtE0Pxj4d0q2179le%2B%2BGlrLM87GDVpLiOWGdo1iANqNhBIbzBnhO9AHqkv/AAUU/ZZt/E3hrwJeav41tvEni7TpdQ0HwpefCTxLDq8tnFd/Y5LmSwk08XNvCkxG6SaNEVGWUkRsrmXwN/wUT/Y7%2BJGqarpXhD4tyXB0rQ9Q1lbufw1qVvaapp1iwS8u9NuZrdYdVhhYqHeyedVLqCfmGcXwR8APjz4x/apsf2oPjn4f8HeH5JPg5f8Ag/VNE8J%2BK7vVTBcy6tHcpJDcz6fZl4mgiUsTGjJIdoV1USHwGb9hz9pf4bfs8%2BF/Cnxo1rwIPCP7N3wP8SaB4L1PwrfXcmpeKd2hHTLe4vbeW2ii04JZozSQxS3QknZXDxqgQgH0D4U/4Kl/sL%2BNPBus/ELQ/jLdrouheDj4tutRv/BmsWcdzoIKB9Vs/PtEN/ZxmRBJPbCWOLcPMZc167a/GD4c3vxcuPgVZ%2BIxN4qtPDUGv3emRWsrCHTp55beGd5QnlL5ksE6ohfe3kyEKQjEfFX7I/7P3xC8WfBL4Q/Hb9t/Uvhlovww%2BG/7L9z4fgk07W5wmr6bqmnaWby%2B1X7VBDDpkEVppyq0CS3CZleRplWNVrsP%2BCK3wr8d6P8As76n8evit4tbxFrHjW%2Bg03w54hlgaOS%2B8I6JF/ZWiXBD8/6VDDNqhPd9WcgKCFAB9lUUUUAFFFFABRRRQAUUUUAFFFFABRRRQAUUUUAFFFFABRRRQAUUUUAFFFFABRRRQAUUUUAFFFFABRRRQAUUUUAFFFFABRRRQAV4jpH/AAUY/Y91K716z1P4pXnh5vDnhy58QahJ418I6roMc2k27pHPf2smpWsC31ujyRK0tsZUBljGcuufab2K5ms5YbO6EEzxMsUxj3%2BWxHDbT1wecd6/MTV/%2BCOX7cvxf1bwvrnxu%2BOOhvrfhrwfqFnqHijUPit4m8TjxDrf2zSr611E6XfRQ2Wk20lzpi%2BfYWQCiOTassgVAoB9sv8At/8A7MNr8NG%2BLGseIPFWlaW2uQaNY2eufDLX7DVNTv5kMkMFlptxYpe37SIGdfs8MgZUdgSEYjovAf7VnwP%2BI%2Bv2XhPw54h1SHV7/wAKT%2BJIdI1rwrqWmXaabDd/ZJZZYby3ikgdZ/kMMirL32bea8m%2BJ3wc/bd%2BMTfD342654N%2BFWh/EP4UeOptY8P%2BGbXxxqV/ouuWdxpN3plzHcXz6VDNYzFL2SSN0tbgRmIKfMEjYq/En4Dftwa/8ZfDv7TXgfRvhXaeLL74Yar4L8Y6FqXivUpLDSFuL%2BG6tb%2ByuE04SagYhG6yW8sVoJS4xLFjkA7jSf8Ago3%2ByB4j17wL4W8K/EbVdZ1P4k%2BDdK8W%2BDdO0TwPrN7PeaHqL7LXUZEgtGa1t92PMknEa24ZTN5QYE7Hw1/bc/Zu%2BK/xGufhP4Z8X6tZ6/b6Xc6nDZeJ/BmraIt/Y28iRz3dlLqNrBHfwRvLEHltmkRfMQkgMpPlH7Cn7CXxY/Zh1/4caz488QeGrs%2BDv2UvCPwxv30i5nlZtW0t5muZovMgj3Wrb02MxV22/NGmBXjXw0/4JV/tjeJ/ij4X8TftTfGGz1SLT/AHivwv408TQfF/xJrV54il1exS2/tO10y%2Bhj0/QjlSxtLRSi5UCZxGq0AfUvhP/gov%2ByP410WPxVoPjvXP7DuNV0vT9P8AEt78P9btdK1GXUr2OyspLS%2Bns0tryCW5mijFxBI8IMqFnCsCfS/C3xd%2BHnjX4geKfhd4X8Q/a9c8FyWcfie0S0mC2Ml1B9ogjMrII3doSshRGZkWSMsFEibvmHxx4E%2BIvhX/AIJ7eNPgR/wUM8T/AAq8EeAtB%2BGkWgW3xM8O%2BLbsM06RpbWupPaXVnAmmzLMLeSGCO4umM5REcnaG7X/AIJX/D74seG/2RNK%2BKv7RVglv8TvixfS%2BOviJCtu0X2e/v1jMNpsb5k%2By2MdlZ7TkgWuDQB9G0UUUAFFFFABRRRQAUUUUAFFFFABRRRQAUUUUAFFFFABRRRQAUUUUAFFFFABRRRQAUUUUAFFFFABRRRQAUUUUAFFFFABRRRQAUUUUAFeL/Hrx/8AtF/8NF%2BBfgR8BfGfgrw%2Bmv8AgrxLr2r6n4v8F3etEnTrvQ7eGGGO31Kx8sN/akrMzM%2BfLQALyT7RXg/xL8RwaZ/wUu%2BDmgXGAdT%2BC/xDELZ5Lx6p4OfH/fO8/wDAaTairsunTnVlaKu7N/JK7/A0v%2BEH/wCChf8A0dB8Gf8Aww%2Brf/NRR/wg/wDwUL/6Og%2BDP/hh9W/%2BaivZqKZB4z/wg/8AwUL/AOjoPgz/AOGH1b/5qKP%2BEH/4KF/9HQfBn/ww%2Brf/ADUV7NRQB4z/AMIP/wAFC/8Ao6D4M/8Ahh9W/wDmoo/4Qf8A4KF/9HQfBn/ww%2Brf/NRXs1FAHjP/AAg//BQv/o6D4M/%2BGH1b/wCaij/hB/8AgoX/ANHQfBn/AMMPq3/zUV7NRQB4z/wg/wDwUL/6Og%2BDP/hh9W/%2Baij/AIQf/goX/wBHQfBn/wAMPq3/AM1FezUUAeM/8IP/AMFC/wDo6D4M/wDhh9W/%2Baij/hB/%2BChf/R0HwZ/8MPq3/wA1FezUUAeM/wDCD/8ABQv/AKOg%2BDP/AIYfVv8A5qKP%2BEH/AOChf/R0HwZ/8MPq3/zUV7NXn3xA8f8AwM%2BGg1Pxh8ffHHhTw/p51qLT7LUvGGqW1pB5htI5VgjkuWVd5AlfaDkhWOODiZzhTi5TaSXVuy%2B92Rth8PiMXXjRoQlOcnZRinKTfZRipSb0eiTemxzX/CD/APBQv/o6D4M/%2BGH1b/5qKP8AhB/%2BChf/AEdB8Gf/AAw%2Brf8AzUVX/wCGv/8AgnB/0dF8Ef8AwttH/wDjtH/DX/8AwTg/6Oi%2BCP8A4W2j/wDx2ub6/gP%2Bf0P/AAOH/wAke1/qlxZ/0LsR/wCE9f8A%2BUFj/hB/%2BChf/R0HwZ/8MPq3/wA1FH/CD/8ABQv/AKOg%2BDP/AIYfVv8A5qK7D4aeJP2cvjRoUvin4O6/4J8WaZb3bWs%2Bo%2BGrqzv4I51VXaJpICyhwroxUnIDqcYIryf4g/ts/snfCH41/ET4RfFjwPqGh2nw08Dad4p8Q%2BLZPh/f3GlRWVyL5mLXMFo8UflpZE5Z/wB4ztHHueGVV6YThUipQaafVO6%2B9XR4uIw%2BIwleVGvCUJxdnGScZJ9nGSjJPVaNJ67HUf8ACD/8FC/%2BjoPgz/4YfVv/AJqKP%2BEH/wCChf8A0dB8Gf8Aww%2Brf/NRUTftN/soW03huPWPCevaVD4ruIbfSL/XPg/rdhaLNNevZW8dzc3FgkNk81woSJbh4ml82FkDLNEz8zrv7dP7FPgK0J%2BJM1jb3bXvitYbXw34H1bWCLPw/qp03UbqUW%2Bm74UglaITMy%2BUhdiks0SidqMTq/8AhB/%2BChf/AEdB8Gf/AAw%2Brf8AzUUf8IP/AMFC/wDo6D4M/wDhh9W/%2Baiu%2B0CP4MeK7ie08Lx%2BGNRmtoYJrmGxW3leGOdPMhd1XJUSJ8yk43LyMivD/wBn79qrRPjR8UtG8L65%2Bzdomh%2BGPHOm67qHwz8SQ6ql3Pq1vpV7DazG7tTaRixaZJ47mBUluN0IfzDC6iMgHZf8IP8A8FC/%2BjoPgz/4YfVv/moo/wCEH/4KF/8AR0HwZ/8ADD6t/wDNRXG%2BLP2qtE8NfHjUfA9v%2Bzdodz4E8PfETRfAfifxq2qpHeWmv6raWdxaJFp/2QrPa51LTYXnNyjLJdECJxE7Vx2i/wDBRP4e2PhC4%2BKnxR/Zk0zRvCWtfDTV/Hnwyv8ATNVhvbzxHpFhdWluUuIJLaBLC6n/ALS054YvOnRlujvkjMTgAHsf/CD/APBQv/o6D4M/%2BGH1b/5qKP8AhB/%2BChf/AEdB8Gf/AAw%2Brf8AzUV5ppf7Xl1r3gDwbqHhT4IfBbxJ4m%2BIPj%2B48M%2BFofCPxbTUvD6tBpdxqMz3erR6SGhmVLO4j%2BzxW07F/L%2BbaztHk%2BOf%2BCg/gHw7%2Bz54E/ad8OfBj4b33h3xev2c6LqPjyK01691NLo2s%2BmaLZpp8setXCyJIqKs8HmkLjAbcAD2H/hB/wDgoX/0dB8Gf/DD6t/81FH/AAg//BQv/o6D4M/%2BGH1b/wCaiuO%2BFP7UPh34rftj/EH9lqw%2BGnwls4/h/rY0%2B6juPiEh8TXqHSbC/F5Hoo03i1336weabrrE7YJwlcT8Qf22fiJ8Gbf4xt8W/wBjn4ZW7fCH4f6Z4jvbvQPiZNd2U9xf3FzHDYzz3Gh2xtWWK2aeSQJLsjlhJU%2BYMAHs/wDwg/8AwUL/AOjoPgz/AOGH1b/5qKP%2BEH/4KF/9HQfBn/ww%2Brf/ADUVzDfGrxPqP7MH/DSHg34VfAHXLSzivb7Wb7S/i7NcaDBpltG7yXMOpwaDI07r5bB4/s6KuG/eMRg5nh79pPxzcj9nXUfGv7GPhrQrD45LDba4svipZL3wpqUuhahrC2gg/s5RehY9PeKSQyW%2B15BtVwDQB3X/AAg//BQv/o6D4M/%2BGH1b/wCaij/hB/8AgoX/ANHQfBn/AMMPq3/zUVm2vxiOnftS%2BLPgH45/Zy8PWGiaJ4DXxTofiTTdUF7d6pbiYwyxyWP2NBbsHVtm2eYuByEziuF%2BA37X%2BrfHuxOhaB%2By34At/F%2BufDbR/HvgLQf%2BE9Sa21HQ9QnaFXvbmPTSbGaLAaRIorqM7gIpZiG2gHpn/CD/APBQv/o6D4M/%2BGH1b/5qKP8AhB/%2BChf/AEdB8Gf/AAw%2Brf8AzUV5npf7YGs%2BK7HTfAXgj9knwhf/ABOvPHuu%2BGLjw7P4vEWhxNpEHnXl4mqrpryywjfbwAfY1k%2B0TGN1jEcjrx3iD/gqT8JbbxJ8O9M8N/s8eGjD498L%2BGdZtNL8ReJYNO13UG1e/ksnstHsBaSrq9zYtGXu0E8KxI8bBmD5AB77/wAIP/wUL/6Og%2BDP/hh9W/8Amoo/4Qf/AIKF/wDR0HwZ/wDDD6t/81FcR%2Bz7%2B1Jp37Qnxs%2BI/wAJPDvwq%2BD8EngLWtX0pNMX4lCbxBNLZ3HkRT3Wlrpf%2BhWszZIm86UqCuEctgR/D/8AaontdV%2BMVt%2B0d%2BzX4K8N2PwhXSYLrUPBHieXxANV1O9tvtI0uKOfS7F/tYjn03ZGocyvqUKLhuCAd3/wg/8AwUL/AOjoPgz/AOGH1b/5qKoeB/HH7Vng79qzw58Efjd8R/h74m0bxN8PfEOuQzeFfh5faLdWl1pt9oluis9xq98ksbpqkpKhEYNEhDYyDJ%2BzV8UrX9ov9lSD48ax8FdO8Ea5MNYgutEs76O9bTbuwvrqzYLdJDF5nz2pYMEUfNjkDJt%2BOP8AlIX8L/8AsjPjz/07eEKAPZqKKKACuF/aJ/aR%2BEP7Kfw1n%2BL3xx1vUtN8PWsuy7vtN8N3%2BqNbgRvI0kkVjBNIkSpG7PKyiNApLMoruq8K/wCClvhn4qfEH9hr4l/Cf4LfB3WfG/iTxl4Q1HQdL0jRdQ021aKW6tZY1nlk1G7tolhVioba7SfMNqNzgA9O%2BL3xj%2BHnwJ8FSfED4m6zPZ6cl3b2kS2WmXN9dXVzPKsMFvb2trHJPczSSOqrFEjuxPANef8Aij/goL%2ByR4N8DaB8SNe%2BKFwukeJLO/vLGa18L6ncS21rYyrDf3N7DDbNLp0FpK6xXMt2sKW0jBJmjbisH9oi0%2BNHxf8AB3gP4m%2BFv2b/ABRb6v8AD74gaV4om8Eavq2ipe6rAba6tbm1hki1CS1FxAl20oEs8cTyQqqy4O8eAz/ssftceBvDeveONB/Z4l8Q6v8AFLwh8RNLvvCsfiPTIj4Sute8QTapp5u5JrlYpbcRXLLeNaNcOssQMMdwrbgAfoEjpIgkjcMrDKsDkEetfOXwm8Vft3/HXR9e8d%2BF/jf8JNA0u3%2BIXirQ9L0q/wDg/ql/cRWul69f6ZC0twniKBZZHjs1dmWKNdzkBQAK9g0f4Z6xo3wR034R6R8R9V0m907w9a6ZF4o0mC1a8iaGJI/PjS7hnhLHZnEkci/MeD1rzn/gnTpN/oP7N19omq%2BJ77W7mz%2BLfxDhuNY1OOBLm%2BdfGetAzSrbxRQh3I3ERxomSdqqMAAF7/hB/wDgoX/0dB8Gf/DD6t/81FH/AAg//BQv/o6D4M/%2BGH1b/wCaivZqKAPGf%2BEH/wCChf8A0dB8Gf8Aww%2Brf/NRR/wg/wDwUL/6Og%2BDP/hh9W/%2BaivZqKAPGf8AhB/%2BChf/AEdB8Gf/AAw%2Brf8AzUUf8IP/AMFC/wDo6D4M/wDhh9W/%2BaivZqKAPGf%2BEH/4KF/9HQfBn/ww%2Brf/ADUUf8IP/wAFC/8Ao6D4M/8Ahh9W/wDmor2aigDxn/hB/wDgoX/0dB8Gf/DD6t/81FH/AAg//BQv/o6D4M/%2BGH1b/wCaivZqKAPGf%2BEH/wCChf8A0dB8Gf8Aww%2Brf/NRR/wg/wDwUL/6Og%2BDP/hh9W/%2BaivZqKAPGf8AhB/%2BChf/AEdB8Gf/AAw%2Brf8AzUUf8IP/AMFC/wDo6D4M/wDhh9W/%2BaivZqKAPGf%2BEH/4KF/9HQfBn/ww%2Brf/ADUUf8IP/wAFC/8Ao6D4M/8Ahh9W/wDmor2aigDxn/hB/wDgoX/0dB8Gf/DD6t/81FH/AAg//BQv/o6D4M/%2BGH1b/wCaivZqKAPGf%2BEH/wCChf8A0dB8Gf8Aww%2Brf/NRR/wg/wDwUL/6Og%2BDP/hh9W/%2BaivZqKAPGf8AhB/%2BChf/AEdB8Gf/AAw%2Brf8AzUUf8IP/AMFC/wDo6D4M/wDhh9W/%2BaivZqKAPGf%2BEH/4KF/9HQfBn/ww%2Brf/ADUUf8IP/wAFC/8Ao6D4M/8Ahh9W/wDmor2aigDxn/hB/wDgoX/0dB8Gf/DD6t/81FH/AAg//BQv/o6D4M/%2BGH1b/wCaivZqKAPGf%2BEH/wCChf8A0dB8Gf8Aww%2Brf/NRR/wg/wDwUL/6Og%2BDP/hh9W/%2BaivZqKAPGf8AhB/%2BChf/AEdB8Gf/AAw%2Brf8AzUUf8IP/AMFC/wDo6D4M/wDhh9W/%2BaivZqKAPGf%2BEH/4KF/9HQfBn/ww%2Brf/ADUUf8IP/wAFC/8Ao6D4M/8Ahh9W/wDmor2aigDxn/hB/wDgoX/0dB8Gf/DD6t/81FH/AAg//BQv/o6D4M/%2BGH1b/wCaivZqyPG/j/wL8M/Ds/i74jeM9K0DSrYZuNT1rUI7W3j/AN6SRgo/OlKUYRcpOyRpSo1sRVjSpRcpSdkkm229kkk22%2BiSb8jzD/hB/wDgoX/0dB8Gf/DD6t/81FH/AAg//BQv/o6D4M/%2BGH1b/wCaivNPEf8AwVu%2BEvizWrjwT%2Bxr8IfGvxx16B/KkPg3SXh0m2k9LjUJ1WONTx86q689aih%2BPX/BYKOIahc/sEfD2VJRvXT4viiiTwA8iN3KlGYdCV%2BUnpXlPOsBJ2pOVS3WEJTX3pW%2B5s%2B8j4ZcV0qaljlSwjlqo4mvRw9RruqdSftEvOcKafS56h/wg/8AwUL/AOjoPgz/AOGH1b/5qKt/srfEb40%2BMNY%2BKHgT46a/4X1bVPAPxCi0Oz1Xwn4audJt7q1l0HR9TVnt7i9vGWRZNRlQsJdpWNDtU5z5N/w11/wVG0rjWv8Agkql2g%2B9PpXxw0k/kjR7jXQ/8E7PHPj/AOJWt/Hnxr8UfhHd%2BBNevfjNB9v8KX2pxXktiU8I%2BG40zNDhH3oiyDHQSAHkGujDZhQxU3CCkna/vQnH8ZRS/E8fO%2BEM2yDCxxOJqUJwb5V7LE4es7tN6xpVZyS0erilsm7tJ/SdFFFdx8uFFFFABRRRQAUUUUAFFFFABRRRQAUUUUAFFFFABRRRQAUUUUAZvjPxj4V%2BHfg/VviB451%2B10rRNC02fUNY1S9lCQ2drDG0ks0jHhURFZiewBrkfhh%2B1J8D/i74G174i%2BE/FtzbaZ4Wlkj8TDxLoV7otzpBS2juibq11CGCeBTbyxzBnRVaORXUlSDVD9tT4Q%2BKvj5%2ByZ8Q/g74Fe1Gt%2BIPCl5a6PHfSlLea6MZMUUrAErE7hUdsHCsxwcYPkXh7wD%2B0p4%2BT48fEC4/Z9n8Ia18V/DA0rwnoXjO90m/trCWy0d4IZtVSzu543S4urqSMRwmfMFspl8suIwAe1fAr9qX4KftIPqVt8Kdf1Oa50i3tLm/0/XPC2o6PdJbXYkNrciDULeCV7ebyZvLnVTG5hkCsSjAfP37XnixvDH/AAWB/Y9tGk2Raz4T%2BJunytnjm20OVR%2BLwqPrWn/wTd/Zz%2BIfwR8Z%2BM9d1f4SeMfBnhzU/CPhfTNP0z4j%2BObfxHrU2pWK6gt5Kl5FeXhj0/y57NYLYzKkci3Tx21uJW8zwr/gptpvib4W/wDBVr9j34k6r8XPEOt2Wq%2BMdbtLTRdUttOS00KO5utCtnS2a2tIp2R/OG43Ms5GxdpXLbuDM6vscFKp2cX/AOTw/wAz63gfArM%2BJqWEtf2kK8V6/VsS1%2BMEfpLRRRXefJBRRRQAUUUUAFFFFABRRRQAUUUUAFcT4r%2BEXwn%2BNEGr%2BFvjF8MPDvizTLfxBFdQad4m0WC/gjnWyhRZVjnRlDhXdQwGQHYZwTXbV5P8d/2rfgF%2Bx94a1H4l/tF%2BPf8AhHdEvvFcOmWt7/Zd1d77p9PSVY9lrFI4ykMp3FQvy4zkgHHETw9OhKVdpQS15rWt530t6jWPllT%2BtxrOk6evOpODj0upKUXHfdSW%2B%2Bon/DA/7Cv/AEZZ8Jf/AA3Omf8Axij/AIYH/YV/6Ms%2BEv8A4bnTP/jFeSf8Pzf%2BCWX/AEdF/wCWTrn/AMhUf8Pzf%2BCWX/R0X/lk65/8hV4v17hX/n5Q/wDKf%2BRp/wARSxP/AEPZ/wDhZV/%2BaD6S%2BGnwi%2BE/wX0KXwt8Hfhh4d8J6ZcXbXU%2BneGtFgsIJJ2VUaVo4EVS5VEUsRkhFGcAV4r%2B0r%2Bwv4r%2BPHi74lan4f8AjPpuhaP8VfhfYeEPEunXvhCS%2BuIWspdTktru2nW9hVBnU5BJE8Um8RJteMlifSf2aP2rfgF%2B2D4Eu/iX%2Bzp49/4SLRLHV5NMur3%2By7q02XSRRStHsuoo3OEmiO4KV%2BbGcggY/wASv2y/hh8K/FniXwL4l0HXn1jw5L4Yjj0%2B1tYGk1b%2B3799O09rTdMocG7imicuY9nkux%2BQBj7WHnh6lCMqDTg1py2tbytpb0M3j5Zq/rcqzquprzuTm5dLuTlJy23cntvoeVftff8ABMeX9qz49W/xlufil4ds4oZfDE1vHr/w7TWNS0eTR9WOoEaTevdxjTUu8iK42wu7hQQ4wFGx4d/4J2LoOu6rrZ%2BL4m/tPQfiZpvl/wDCPbfK/wCEu8RQ6zvz9oOfsnleRt48/dvzFjYea%2BPX/BWP4d%2BDvDfx78DfDTSreP4l/CP4S%2BLfF%2Bk6ZretaTqFpqB0WH5zNDpepTXVsnnS2uYbpbSZ0mOwZSTy%2B81b9vDQfD/xH8SfCnTfh14r8a%2BJdP8AiBc%2BH9L8M%2BE9Gs4Low22iaZql1cmW81BIZYYl1GEGVmgdnnjhSB2USS7CPVPgz8PvEfws8CaR8O9T8U2WqWGg%2BH9O0zTZINJe2mP2e2WGSSVjPIr72QMqqqbAdpMn3q8c%2BDv7Cvjn4P%2BNbPxBZfHTTNQ0zwVoXiLTfhFo114MdRoQ1a7iuWbUJFvgdTFuIIreJYxZnyPMDs8jCZey/Yg/aR1T9p79mX4efF3xZo5s9c8W%2BAdN8RajFY6JeW9hGbpCdkUkwZQwKtmEyNKgKlwAyk%2Bd%2BCf2xvjZr3x50GXVtN8LD4beMfjF4k%2BG2g6fb6bcrrVnf6PaapK%2Boz3TXJhlhln0S/iFutujIstu5lf51ABueKP2G/EHiP46X/jdfjJbQeB/EHxC0Tx54p8Gf8ACMFru88QaVaWdvayQ3/2oLb2pOm6bM8Bt5HaS1JEyiVxXERf8Eo7DxF8Pr/4NfFb40Ra54Q0v4X6x4A%2BGmm2nhRbafw/pGoXNpcE3UslzNHqU8P9m6dHG/lQJstmDxuZXatv9pr9sb42/Cv4p%2BMX%2BHmmeFm8G/CbRfDep%2BO7bWdNuZtR1iPVL64imjsZo7mOO0a2tbfzw0kVwJ5JRFiEKZDwdh/wU7%2BJ/h39oTxZ4e%2BJHh/SF8I%2BG5/HButNtfCGo208FpoCSSR3Ftrk1wdP1m4uI498lhaxrPZmV1mINrLkA9Cvv2DviJr3g7xz/wAJv4/%2BFPijxP8AELxPp%2Bp%2BIf8AhKfgm994a8mysI7OCOLSH1beJwIo5DcSXchyoUIFVFQ8Vf8ABP8A8dT/ALLdn%2BxT8O/jtoui/Du88LS6P4va98BNda1fSXM0st7fWV3FfQW%2BnzytNI6H7LMsEhV4wNoUYvwG/wCCguv%2BJfgprnxH8eeLvDHibxVLZaLL4Z%2BHPhnwRq2g3f2vVfNSwtFn1SZzqdtPMpSPVIYYbZktrmbaEjfy8fxH%2B15%2B2c3/AATcs/2wND8U/DDTvGOn2OqW2qeHp/h/qOoWfiDWl1N9N02yscaxbSWguLlY4cyNOS1yhG3aQwB7P4v/AGa/ij8Sv2hfCPxR%2BIXxc8OSeF/APim48QeFfD%2Bi%2BBZLTU/tcum3WnhLrUpL%2BVZohFeTsVitoGcrEGYqrLJc8D/s6eNvhlovxL1nwZ8TdJl8bfEXxzceI5PEWu%2BFpLq0tRst7WytXtI7uJ5o7ews7a3ys8W90eYCMuUHlOq/t0eMrH9rdf2b9d%2BJHg7w3D4Tm8NaZ40vL34d6zqEWsavqkaSC3t72G5S10SOTzYYrZr1p2uJ5miVCYv3vOfB3/gqS9x8b5vB/wAffG3gXTdNn03xfe6n4c0vTbqLV/AC6HdKqprMslzIspubTzZ1YQW3%2Bq/dLcRt5qgHolx%2BwNrfiT4BfEb4P%2BPPjJZXV/8AGDx7b%2BIPiPqGj%2BEzZWF3ZkadbXumWtk11K1tFdafp/2d5HnmbzLqedt5bZXS/tSfs7fHf41/Ej4X%2BNvhT8bvCPhWz%2BG/i1/EX9n%2BIPh5daxJqN02m3%2BmlPNh1WzEMX2fUZzt2O3mLG27aGRvN/hF%2B3j8c/Efw/8Aipe/Er4UaTp/jXSvi1a%2BEPhb4IgE0VxdPqHhzRtZsLbUS0kmLiFNTle8khAjhhs53VWERZ%2Bc8c/t3/tPeG/%2BCdXw9/bes7jwidW1bwHDq2v%2BGLf4X61qFpqmovbiYQpf29/5fh60Yq6NfX4mggDq8j4QhwD2tP2d/jwv7cbftRt8b/CJ8Jt4SHh3/hCx8PLr%2B0fsoc3Af%2B0/7V8rzftR35%2Bx7fK/d7d376vOfD3/AATl%2BI/gvSfiP4w%2BGfxp%2BH/gT4meN/Dsei6R4u%2BHvwYTSrDRITcme6vDp41GR7u/nLYa5kuQqmC3Kxjy3EtLWP29fjTp/wC3wv7OI0bQo/DX/CxLTwwltN4S1EtPbzeH11Q3/wDwkAuP7NhuhMxhXR2iN5JGizA7JVYcl8Mf%2BCpnjz4o/s5eI/2kPC2v%2BFL2S98GQeJvBvgST4d63ZXGl6VPeQw/2jc6hPP5Wt29pDOst59ghjWF0aLzMlWIB6non7DXxX8HfDT4daV8O/jN4G8O%2BL/hfe36%2BGdX0z4Z3raTNp15bNDc293Yz6zJcXE0khW5a6%2B2q7zxq7h8yiTmbn/glZe6X4ds/hl4G/aBS28IXvgzwr4d8YWut%2BERfarex6Hdy3UdzY3q3UKafNPJPI8haC4VZD5kSxNknlP%2BHkHxx8W%2BBZofg/4p8H%2BLp/Dvxvj8IeKviZ4H%2BEmu%2BJtGl0aTwvJrSana6Vpd/JckC5e2sHdbqaJX3vnDhUm/ai/4Kka7%2Bz/oVp8QrH4p/DS68KaV8HNO8dLq93oN4D8TXeW6F9YaAq33%2BhywQWqTssn21o11G33qEjklIB72P2avij4p/aY8P/HT4q/Fzw5f6V4IutYm8E6D4c8Cyabdw/b4zCUvr2W/uBdqkJPyxQ2yvKElYEoiiloP7BPwy1H4R6n8MvjNrur%2BJLrW/iXf%2BOdU17RNa1Dw9dPqk19JcWrRy6fdpPELWH7NbR4mPyWkRPI446H9sz44H46RXr6R4Vf4aXvxivvhtZ6aLC4TWkvbbTJ5zqT3ZufIMLXtrLbfZvs4ZY3SfzyQYazf%2BCb37dvxl/a08T32ifFXS9DgVvh/o3iWKKw8Halocmn3F5LcpLYxG/uJRrltH5K7dXswlpMT8mdw2gHp37Nf7K2ifsbfstar8FNB8a6zr8K3mvaq2o65q17dyk3t1cXQjDXlzcOoRZVQ4fEjq8pUPK%2BZPHH/ACkL%2BF//AGRnx5/6dvCFepeOf%2BRJ1j/sFXH/AKLavLfHH/KQv4X/APZGfHn/AKdvCFAHs1FFFABRRXO/Ff4r%2BAfgj4CvfiZ8TdcbT9HsHgjmmis5rmWSWaZIIIIoIEeWeaWaWOKOKNGkkkkREVmYAgHRUV53ZftW/AS%2B%2BBd1%2B0injpofCFjJPDfXt5pF3b3Ntcw3JtJLSSyliW6S6Fypg%2BytEJjLiMIXIU4t5%2B3T%2BzTZeB7Hx3L4o1549R16bRLXQrfwFrUuunUIYWuJbZtHS0OoI6QKZmDW42xFZDhGViAevV4z%2Bwf/AMkQ1z/ss3xH/wDU11uvU/BfjLwt8RfB%2BlfEDwNrtvqmi65p0F/pGpWj7orq2mQSRSoe6sjKR7GvLP2D/wDkiGuf9lm%2BI/8A6mut0AezUUUUAFFFFABRRRQAUUUUAFFFFABRRRQAUUUUAFFFFABRXhf7XP7efwz/AGW7ix%2BH2maLfeNviV4gGzwr8NvDI83UL9znbJJgH7NAMEmVx0ViobaQPMrH9qD/AIKt/Cezi8QfHr9gfw94v0u5jE84%2BE/ivN/paMM%2BTJa3LMbqVfukwtsJBIOMV5lbNsHQrOn70nH4uWMpKP8AicU7Py1dtWkt/t8t8PeJMzy2njV7KlGrf2SrVqVCdZLRujGrKHPFPTmvCDl7sJzkmo/YNFfMnw5/4K6/sU%2BMddXwV8QfGmqfDHxLx53hz4p6JLotxCTx88koMA54/wBZmvVvF37X37KHgGxTUfGv7THgHS4ZIxJC994vs4/NUjIKAyZfI6YzmtaWZ5dXg5wrRaW/vJW9btNfNI4MfwRxlleKjhsVl1eM5fCvZVJcy7wcI1IzXnCU11vbU9For5d8Uf8ABZj/AIJ0eHb7%2Bx9N%2BP3/AAkOoHIi0/wt4ev9QeU/7LRQGM/99ViS/t6ftfftCu2l/sQ/sLa7FZudo8d/GRjommxH%2B%2BlqCbi6TPdCCMHisJZ3ld%2BWnUVSXaF5v7op/i0vM9aj4X8dOCq4vBywtLf2mJccNTS781aUG/SFOcn0i2fXpIAyTXzt8eP%2BCn37L3wZ8Tf8Kw8LavqPxH8eSsUtfAvw2sTqt%2B0g42yGI%2BXDgkbg7BgDkKa4n/h3F8ev2h/9O/b%2B/bT8SeJ7Kbmb4f8Aw9/4kOhBT1hlMf767TrhnKP719C/An9mT9n/APZk8Nnwp8BPhLovhezcATnTbQCa5I6GaZsyTEersx96n2ub4vSnBUY952lP5Qi%2BVf8Ab0n6G6wHh5w/72MxM8xrL/l3QUqNC/8AexFWPtZrv7GhC/Sa3PnX/hEf%2BCpn7ZP7zx14t039nDwRc8nRvDMy6p4quoj/AAyXfEVmSMENFiRDkMprn/BWseNP%2BCTvxysPhd8VPiJr/ij4C/EXUVi8PeNfFWoG6u/CevOPnt72cgD7PcsC4kwFVixIUCRm%2B5K5n4x/B/4efH34Y6z8Hvit4ch1XQNesmttQs5h1U8h1PVHVgHVxyrKGHIrKpk8or21KrJ146qUpNp94uKtFQls1GOmjTute3BeItCtUeW4/BUYZXVXLOjQpQjKP8taFWfPWnXpP3oyq1mprnpygoVHy9MCCMg5B6EUV8e/sa/GD4h/so/GGP8A4JuftU%2BI5tQkjtnm%2BC3j294XxLpMfSxlboLy3XClf4lA9EaT2z9sX9rPwL%2Bx38Hp/iT4qtJtT1O7uE0/wn4Ysctd67qcvENpCoBJLNyxAO1QTgnCnro5nh6mDliKnucl1NPeLW6f4Wt8ScWr3R8/mfBGcYTiOjlODX1h4jllh5wXu16c78lSN9lZNVFJp0ZQqxqcvs5M4/8Abw/a/wDEfwMsNG%2BBn7P%2BixeIfjL8Q5Gs/A%2BgcMlovIk1O67JbQgM2W4YoR91XK%2Be%2BD/%2BCVHxN8LeGbLUtP8A%2BCkvx0sPGEsAm8QX9v4qFxpd3ev80sq2UyEKpcnAL/dxnnNdp%2Bwd%2ByZ468AahrP7WH7U93Dqvxo%2BIMaya5MnzQ%2BHbHhodItOSEjjAXeVJ3uoyX2h2%2BlK46WBeZv6zjYtX%2BCF5Lkj3fLKPvy3er5VaK2k39Hj%2BKo8EU1kvDVWEuR3xGI9nSqLEVdnGHtaVRfVqWsadoxdWXPXk7SpRj8k/wDDPX/BXD4cc/D79vnwR46iT/U2fxD%2BG6WWB2VprBi7/wC91pRon/Bbrxb/AKLqnjb9nTwjCPlN1o2m6xfzse7hbg7MHqAefWvrWit/7IpLSNaql2VSVvxUn/5MeX/xEXHT96tl2BqT/nlgqSl90JU6b%2BdJnyV/wxb/AMFF/GXzfFD/AIKsatbQv96w8F/DTTtO8v1Cz7mc/Uir/g3/AIJF/syjxLF49/aJ8QeMfjT4hgOYNQ%2BKfiKTUIbcf3I7YbYdnA%2BV1cV9TUU1kuW8yc4ObX88pT/CUmv/ACUip4ncaezlTwteOGjJWf1ajQwzs91z0KUKln1XtVfrco%2BHPDPhvwfotv4b8I%2BH7HStOtE2Wthp1okEEK/3URAFUewFXqKK9RJRVkfBznOrNzm229W2222922222%2B7bfmFeM/sv/wDJb/2jv%2ByzWP8A6hXhevZq8Z/Zf/5Lf%2B0d/wBlmsf/AFCvC9Mk9mooooAKKKKACiiigAooooAKKKKACiiigAooooAKKKKACiiigAooooAKKKKACvzl/wCC7f8AxJPiF8JPin0/4QXQNY17zP8Ann5fibwZDu9v9f8ArX6NV8I/8FnvCX/Ca6beaN5W/wAn9m7x/f4x/wA%2But%2BDLrP4eTn8K8zOoOplGIS35JNeqV1%2BMT7jwyxNPCeIuUVKnw/WaMZf4ZzVOX3xqtfM%2B7gQRkGiuT%2BAni3/AIT/AOBfgvx35u/%2B2/CenX%2B/P3vOtY5M/wDj1dZXoU5qpTU1s0n96T/U%2BPxeGqYPF1MPU%2BKEpRfrGUov8YsKKKKs5wooooAKKKKACiiigAooooAKyvD/APyFtc/7Cif%2BklvWrWfe%2BGNIv7t7%2BQXMUsgAke1v5oN%2BBgFhG6hiBxk84oA0KKy/%2BEP0n/n71X/weXf/AMdo/wCEP0n/AJ%2B9V/8AB5d//HaANSvKfir%2Bx58KvjB%2B0b8Pf2nPFF/rMWufDkXn9n6fY3caWGqGaMrEb6Jo2af7MzSSwbXTy5JGb5uMehf8IfpP/P3qv/g8u/8A47R/wh%2Bk/wDP3qv/AIPLv/47QB81ah/wSS%2BCGsaX4h8M6x8aPiTc6Hrfw98Z%2BDNO0J9S01bbQdL8TzRTal9k2WIkeYSQoY5rl7hl5DmQYA7XxV%2BwT4B1nx9qvxZ8JfFjxv4S8Wap4zufER8ReHbuwM9s1zpNhpVzZRpdWc0RtZYNNtHZXjeRZYw6SIQoX2D/AIQ/Sf8An71X/wAHl3/8do/4Q/Sf%2BfvVf/B5d/8Ax2gDk/2cv2ePD/7MXwr8LfBXwH418QX3hvwh4TstB0ix1ua2mby7YMq3MkqQJJJO6lVclvLIjUqisWZuX0D9h74deHfjmvxqs/HviuS3tPEmo%2BJNE8FTXVodG0jXb%2B1ktbzVLdRbC58%2BWK4uwUkneFWvLhliVpCa9U/4Q/Sf%2BfvVf/B5d/8Ax2j/AIQ/Sf8An71X/wAHl3/8doA8h%2BJH7B/gT4q%2BNLPxr4t%2BLPjVnm0rRNP8b6fbT6fFa%2BNY9Ju3u7I6ki2eVKzyzM/2M2qyrK0UgaILGtXR/wDgnb8HrHxvJruu%2BNvFuu%2BG49b8RaxpPw81i6s30XS7/XBdjU7iHy7VLtzKNQv1CT3EscYvJRGiDYE9o/4Q/Sf%2BfvVf/B5d/wDx2j/hD9J/5%2B9V/wDB5d//AB2gDxTwb/wTa/ZzsbS%2BsvjdZ3HxkiutI0rSLSH4uaVpeqQ6fp2mm6NlbQwpZxRHyzeXJ8%2BRJLhzL%2B8mfauLPw5/4J1fs3/Cb4P%2BC/gP8PNHudI8LeCfiCvjG20rTbeztotT1FJ57iEXaw26LJHFcSwzIECOGsbXLsqMr%2Bxf8IfpP/P3qv8A4PLv/wCO0f8ACH6T/wA/eq/%2BDy7/APjtAHlnxR/Yg%2BHPxV%2BKsvxL1Px34q0201PUdE1DxV4S0m4s00zxFd6Rcrc6fPd%2BZbPcq0UkcORBPCsqQRpKJEG02Lj9jPwD4u%2BIurfED47eMNa%2BJ0F/pepaXpnhjx5Y6XcaRo%2BnX80Ut1ZwW1vZQidHEFvHvuzcSiOEKJMPLv8AS/8AhD9J/wCfvVf/AAeXf/x2j/hD9J/5%2B9V/8Hl3/wDHaAPD/A3/AASq/wCCe3gQ%2BNrOz/ZD%2BHF/pXjrxdZ%2BI7/w9qngDSZdPsbq10uHTYEtYBahYo1jjnlAO5hNqF64YCdlqnpn/BMz4V%2BFP2adF/Y8%2BGPxe8beD/hrp/hebQNb8LeF4dFto/EdpMGFy13KdNaaOaZXkEk1o9s7eYzZDbWHvn/CH6T/AM/eq/8Ag8u//jtH/CH6T/z96r/4PLv/AOO0AeQL%2BwP8Mofi/wD8LLtfiH4vh0U%2BM7fxdJ8O47qzGiPrkFnHaRX3Nr9sBVYYn8lbkQGWMSGItkmH4bfsBeCvhLfnUvA/xr8eWsuk%2BEL3wv8ADwPLpbp4F0m6uLa4lttNQ2G2Rd9lZAG%2BF2QlpEmdu4N7L/wh%2Bk/8/eq/%2BDy7/wDjtH/CH6T/AM/eq/8Ag8u//jtAHl2jfsgXvhPwVqGheBf2ofiPoniHXvEz674t8fWsehT6tr90bWO0AuFudLls0RIILWJFgtodi2sYXHz7qOq/sFeAb/4U%2BGv2fbH4seN7D4daHpMWnax4GtrqwktPFECy%2Ba41GeazkvG81t3nCC4gEqu6uCrEV6//AMIfpP8Az96r/wCDy7/%2BO0f8IfpP/P3qv/g8u/8A47QB5JefsFfCbU/jPc/FfVfF3ii60u58RXPiI/D6W7tf7DTW7jTH0ybUVUW4uvNe1klBjNwYBJK8wiEx8wWv2bf2KfBv7NuuweI7T4qeM/F11pnhC18K%2BGn8YXdk/wDYeiW7747KD7Ja25kBIj3TXHnTv5Me6U4OfUf%2BEP0n/n71X/weXf8A8do/4Q/Sf%2BfvVf8AweXf/wAdoATxz/yJOsf9gu4/9FtXl3jj/lIX8L/%2ByM%2BPP/Tt4Qr1E%2BDNDfCztfTJkExXGrXMiN7MrSFWHsQRXl3jj/lIX8L/APsjPjz/ANO3hCgD2aiiigAryD9tf4b%2BPviH8J9Ivvhl4ZbXdY8J%2BP8Aw74nh8OpdwwPq0Wn6nb3E9tHJO6RLMYUkMXmukZlWMO6KS6%2Bv0UAfJ/hX4E%2BO/E/7O3xQ8PfGT9n7xnbXfjvxveeONP0Dw5r%2BjLqWl3CX8EmnW8M7Xv2ZdSiNha3pLObQSybPOlAbPn/AIT/AGRPjl4O8Ga/8ePEXhb42an8RvEnxln8UaC3h/xN4Q/4SfRbaTw5ZaI/9oNdMmiuk0enKXhtklEIntxEC0DSD7wooA8X/ZQ/Zu8b/BH9h7wZ%2BzZqnxH1HR/EWj%2BFIbO%2B8Q6FNBeT2N237yXyJL%2BCaOYI7MivNC25VDFATgU/%2BCdOk3%2Bg/s3X2iar4nvtbubP4t/EOG41jU44Eub518Z60DNKtvFFCHcjcRHGiZJ2qowB7pXjP7B//JENc/7LN8R//U11ugD2aiiigAooooAKKKKACiiigAoorifj/wDtGfBf9l34dXXxU%2BOnj2y0DR7b5VluXJkuZMEiGGJcvNIcHCICeCegJEVKtOjTdSpJKK1bbskvNnVgsFjMyxdPC4SnKpVm1GMIpylJvZKKTbb7Jfq12xIAyTgDqTXA2X7Vf7L2pXsmmad%2B0j4BuLmGUxzW8PjGyd0cHBUqJcgg8EHmvmIeHv2vf%2BCpBFx41TXPgn8BLnmLQo38nxR4ytz0Nwwz9htXX/lmMsykg71ZXX1%2BP/glr/wTwj0O18Pj9kHwQYLS3WGKVtIUzsqjALzZ8yRuOXZixPJJNeVHG5hjHz4SmvZ9JVHKPN5xildLzla/RW1f31bhjg/h2Kw/EONqPFP4qeEjRqqj/dq1ak1TlUvvTouap2anUcrxj7TovjXwb4lAPhzxbpmoBhwbK/jlz/3yxqfWfEOgeHbf7X4g1yzsYv8AnreXKRL%2BbECvmrW/%2BCL/APwTJ18k3v7KumxE97HXdStsfTyblag0b/gil/wTM0e4%2B2H9miK9m/56an4n1S54HQbZLorgfSq9rnm3safr7SX5ezv%2BJz/UPCx%2B9/aGMX936pQb/wDAvrfL/wCSnsPiT9sT9kjwbuHi39qP4d6YV%2B8t941sYm%2BmGlBz7V4D8RP27/it%2B1f4vu/2ff8AgmDZWery27iHxV8adShL6B4dVgCVtiRi%2ButpyqrlAdpw67inrHhv/gmz%2BwD4U2nSf2O/h25X7rX/AIWt7sj3zOrnPvXrXhDwV4N%2BHugw%2BFfAPhLTND0u3LGDTdHsI7a3jJOTtjjUKuScnAqZUM4xS5Ks404vfk5nJrspS0jfq0m%2B1nqtqGa%2BHWRSeJy/C18XXj8H1r2EaEZfzypUW51eXeNOdSNNuznzRXJLyb9kb9hX4T/smW9/4msr2%2B8V%2BPfEB8zxb8RvEsnn6pq0pwWG9iTDFkDESnGFXcXI3V7ZRRXo4fDUMJRVKjFRiui/Pu2%2Brbbb1bPjM4znNeIMwnjsxrSq1Z2vKXZKySSSjGMVZRhGMYxilGMUlY5/4j/Cb4W/GHQm8L/Fj4caF4m05s5sde0qG7iBPcLKrAH3HNeW%2BD/%2BCZ//AAT/APAt21/4f/ZC8BmYyFw%2BoaBFe7GJzlftAfZ7bcY7V7lRU1cHg69RTqU4ykurjFv72mb4HiTiPK8JLC4LG1qVKW8YVasIv1jCpFfh63Mzwv4J8GeB7L%2BzPBXhHS9HtsAfZ9LsI7dP%2B%2BY1ArToorojGMVZKyPIq1atao51JOUnu222/Vttv5thRRRTICiiigDyb9sv9knwX%2B2J8H5fh7r9/NpGtafcpqPg/wAVWOVu9C1SLmG6iYEEYbAZQRuUkAg7WHjP7Iv7Hv7TPjH4y2/7V3/BR/W9I1rxn4Ts/wCx/h9oWjur6dpcSKEm1baPlN1csC%2BcAoD0X5Eh%2Bv6K86tleEr4yOJmndW0v7smvhcls3G75W9r9bK32WW8ecQ5Tw5VybDzj7OfMlJxTq0o1LKtCjU%2BKnCuoxVaMfjUdOVym5lFFFeifGhRRRQAUUUUAFFFFABXjP7L/wDyW/8AaO/7LNY/%2BoV4Xr2avGf2X/8Akt/7R3/ZZrH/ANQrwvQB7NRRRQAUUUUAFFFFABRRRQAUUUUAFFFFABRRRQAUUUUAFFFFABRRRQAUUUUAFfMH7a3hL/hP/jtY%2BBPK3/21%2BzD8UrAJjO7zrrwrHj/x6vp%2BvF/H0UU//BQb4YwTRhkf4L%2BPVdWGQQdW8IZFZ1aaq0pQezTX3pr9TqwGLqYDHUcVD4qc4TXrCUZr8Yoy/wDglt4t/wCE1/4J4fB/WfN3%2BT4ItLDOf%2BfUG1x%2BHk4/CvfK%2BTP%2BCKcsmmfsI6d8N55C0vgvxh4g0OUMclTHqc8mD9BMK%2Bs64cmqOrlGHk9%2BSN/VJJ/ij6zxKwlPA%2BIeb0afwrE1nH/DKpKcX841E/mFFFFekfEhRRRQAUUUUAFFFFABRRRQAUUUUAFFFFABRRRQAUUUUAFFFFABRRRQAUUUUAFFFFABRRRQAUUUUAFFFFABRRRQAV4z44/5SF/C/wD7Iz48/wDTt4Qr2avGfHH/ACkL%2BF//AGRnx5/6dvCFAHs1FFFABWb4w8ZeEPh54Xv/ABx4/wDFem6Houl2zXGp6xrF9HbWtnCoy0ksshCRoB1ZiAK0q8Q/b%2B8N%2BItd%2BCejatonhTUtftPDfxL8K6/4g0PR9OkvLq802x1q0ubgxW0StJcvCsf2kQorSSfZ9qK7lVIB6Zpnxh%2BEetfDIfGvR/il4cu/Bp0978eLbbXLeTTDaICXuPtSuYvKUK2X3bRtOTxWJf8A7Vv7LmlfCm1%2BO%2Bp/tJeAbbwPe3P2ez8ZT%2BMbJNKnm3MvlpdmXyXfcjrtDE5Rh2NfNnhr4e2nxJ/ZP%2BLfh7xfoXjrwjp3if4l3/jzwnbf8Ky1S6u7O1i1mC7tZX00W/mTNcXtm95Jp2FuXhuyHjjaQ48jHw0/aKmuI/j58RtW%2BJekWXiL9ovUvE%2Bn%2BPPh38H7qPXNBsv%2BELttGWWLw1dW2pT2sF3dW90hF1b3EiJIkziKS482IA/STRda0fxHo9p4h8PatbX%2Bn39tHcWN9ZTrLDcQuoZJI3UlXRlIIYEgggivIv2D/wDkiGuf9lm%2BI/8A6mut1R/Yu8CfFrwZ/wAE/Ph38O7DRNN8D%2BLNM8C2VnbWmu6NPeQ6fIkYVDc2gu45S5QBnh%2B0Bkd2XedvJ/wTpt/Etp%2BzdfWvjLVrG/1eP4t/ENdTvtM057S2uJx4z1rzJIoHmmaFC2SEaWQqCAXbGSAe6UUUUAFFFFABRRRQAUUV5b%2B13%2B1r8Nv2O/hRL8SPHiz317dTrZeGfDOnDffa7qD8RWlugBLMxxkgHaMnB4Byr16WGoyq1ZWjFXbf9f1stWd%2BV5ZmGdZjSwGBpOpWqyUYxirtt/gurbbSSTlJqKbWZ%2B2l%2B2R4R/ZC%2BH9rftos/iPxn4kuv7O8BeB9N%2Ba813UGwFjVQCViUspkkxhQQBlmVT5v%2BzZ/wT%2B1/XfGth%2B1h%2B374lX4gfFVkE%2Bm6TOA2ieDgxDC2sLblDInGZzkllDL8wMj2v2Lf2SviTcfEG6/bk/bTaDUPi54itPK0nRkO%2Bz8EaY2Smn2oyQJdrHzZRkksygndI8n1HXlUMNUzKosTi42itYQfTtOa2c3uk7qC/vXa%2B/zTOsJwXgp5Jw/WUq8k44rFQ3m2rSoYefxRw8dYzqRcZYmV22qChCZRRRXtH5iFFFFABRRRQAUUjukal3YKqjJJOABWT4M8f8AgT4j6U%2Bu/D3xrpGvWMdw9vJeaNqUV1EsyHDxl4mYBlPBXOQetJyipJN6slyipKLer6dTXoooplBRRRQAUUVFe3tnptnLqOo3cVvbwRtJPPPIESNFGSzMeAABkk9KNgbSRLRXyb8Rf%2BCn1p478XXfwY/4J7/Ce8%2BNHi%2B3fyr7WNPl8jw1ozH%2BO61BsJJj7wSIneAQHDcVa/ZJ/a3%2BPWm/HXU/2MP29dO8P6Z8R3tTrHg3WfDSSJpXiXTmG6SK2MuGM1uwdWU4ZkQtj5C7eXHOcBOvGnCTab5eZJ8nN0jz7Xdna11fS97J%2BLHP8sqYmNGEnJN8vOk3T5ukef4eZ2aSV1dW5k7J/VFFFFeoe0FFcx8Z/jH8Ov2fvhfrPxi%2BLHiSHStA0Gza51C8mPQDhUReryMxCKg5ZmAHJr5e8H/8FFP24PFXhmz%2BItv/AMEm/F83hjWIRd6Jf2Pj7T5Lyezc5ikks2RZIWZMNsJ78EjBPDicxwmEqKnUb5mr2UZSaW13yp2V9E3u9jzcZm2BwNZUqrfM1e0Yym0r2u1CMrK%2Bibtd3tezPsiivkn/AIeuyeHfk%2BKX/BPf9o7w9t/1l2vw6%2B2Wif8AbaKbn/vmtLwt/wAFmP8Agnxrupjw/wCJvjHd%2BENU43ab4z8NX2nOg9WeSLyx/wB91is7yluzrRT/AL14/wDpUYnPHiLI3LleIjF/3rw/9LjD8z6korjvhv8AtDfAP4xIsnwm%2BNnhPxNvGVXQfEVtdt%2BIidiD7HpXI/tSft0fs3/shWMEXxY8amXXb/A0XwdocBvNY1N2OFSG1Q7vmPAd9qZ43ZrsqYzCUqDrSqRUF1urffd/hd%2BR31cfgaOGeInViqa%2B1zK33pteiV2%2BiZ6/WTdePvAljcyWd7410mGaJyssUupRKyMOoILZB9q%2BRv8AhE/%2BCjH/AAUA/eeP9WvP2cvhZddNB0adZfGGsQHtNcY26crDB2qPMXlWVwc11mkf8EXv%2BCael6ZBp9x%2BzLZX8kUYWS%2B1HWr6We4bvJI3njcxOScADJ4AHFcCxuPxPvYWj7neo3C/pFRcrecuW/RHmxzHM8Z72Dw65P5qsnDm/wAMVGUreclG/SJ9E/8ACyPh3/0Pui/%2BDSH/AOKry39k7UtO1f4x/tF6jpN/BdW8nxmsvLnt5Q6NjwX4YBwykg4II%2Borkf8Ahzd/wTO/6NP0X/wZ33/x%2Brv/AAT8%2BDfwz/Z%2B8T/Hz4RfB3wnDofhzSPjNb/2dpdvLI6Qeb4Q8NTSYMjMxzJI7ck/e9OK6sNPMZTf1iEEv7spN39HFafM7MJPNpVGsVThGNvszlJ39HCKt8z6NooortPRCiiigAooooAKKKKACiiigAooooAKKKKACiiigAooooAKKKKAOd%2BLnxS8G/A/4W%2BIvjH8Q797XQvC2i3OqatPFC0si28ETSPsRctI5CkKigszEAAkiuS%2BD/7VPhD4oaH4tv8AxV4L8QfD/UfAcqjxfoHjj7FHdaZC9ol5Hcu9nc3Fu8LwPuDpMwBSRG2vG6rf/ar%2BCt1%2B0Z%2Bzd42%2BB2na9HpV54n8OXVjp2pzQmWO0umQmCZ0BBdFlCMyAgsoIyM5ryvwp%2BzB8c/iFD8Xbz9orTPCOlXPxp0E6DrVt4O8T3d9HoenQ6YbODyZLiwtzeSyS3N7K5ZYBErQoBMVZyAeqfs%2B/Hi9/aA8OP4xj%2BB/jTwjpFxbW91oN94vi0%2BI6zaTqzx3EMNtdzzQDaFYx3UcEy%2BYoMYO4LzPjj/lIX8L/wDsjPjz/wBO3hCuK/YA/Y5%2BI37MPiDXta8WeGvA/hexv/CWg6Kvh34f6rdXdrql/YG8%2B06/dG4trcpe3a3MKOu2V9tqnmXM52%2BXqX/wx8N%2BDv8Agpt4L8Z6TqXiGa88Q/B7xxJfw6r4u1G%2BtIimreEsC2tbmeSCyB3HK26RhsDcDtXAByP/AAS3/wCKZ8YftJ/CtuP7H/aH1q/to/8Annb3scEsaj2%2BVsfWvrWvkr9kf/ikv%2BCn37U3gZvlh1aLwjr1hH679Pkinb8ZAtfWteTknu4BQ/llUj91Sf6NH6B4nfvOLZYr/n/QwlX/AMGYTDN/%2BTQlfzuFFFFesfn4UUUUAFFFFABRRRQAUUUUAFFFFABRRRQAUUUUAFFFFABRRRQAUUUUAFFFFABRRRQAUUUUAFFFFABRRRQAUUUUAFeM%2BOP%2BUhfwv/7Iz48/9O3hCvZq8Z8cf8pC/hf/ANkZ8ef%2BnbwhQB7NRRRQAUUVm%2BMPGXhD4eeF7/xx4/8AFem6Houl2zXGp6xrF9HbWtnCoy0ksshCRoB1ZiAKANKiuc0z4w/CPWvhkPjXo/xS8OXfg06e9%2BPFttrlvJphtEBL3H2pXMXlKFbL7to2nJ4rnNW/bC/ZI0H4daZ8X9d/al%2BHNl4S1u6e20bxRd%2BN7CPTr%2BZCweKG5aYRSupR8qrEjY2ehoA9Grxn9g//AJIhrn/ZZviP/wCprrdepeCPHPgn4meEdO%2BIHw38YaV4g0HV7RLrSdb0TUI7u0vYGGVlhmiZkkQjkMpIPrXlv7B//JENc/7LN8R//U11ugD2aiiigAooooAKKK%2BUfjv%2B31428efEi%2B/ZT/4J4eErTxz8QLZvJ8R%2BLLtj/wAI74OBJUvdTrkTTrg4gTJ3KQdzI0Z5cXjcPgqalUer0SWspPtFLVv8Fu2lqe/w9wzm3E%2BLlRwUVywXNUqTahSpQ2c6tSXuwittbyk7RhCc2ov079rX9tr4Mfsf6BaP44ubvVvE2tP5PhTwN4fg%2B06trdwTtVIIF527sAyNhR0yWIU%2BYfsrfsrfF34p/GY/t3/t2aVbx%2BNvLaH4efD%2BO4FxZ%2BBrBvQj5ZL1x9%2BUdO2OFj6/9kr9gPwX%2Bzzr938aviV4rvPiL8W9cTPiD4i%2BIUDTjIwYLOPlbO3A%2BUInO3AJ2hVX6ArhpYXE42rGvjFZRd401qk%2BkpvaUl0S92L25pe8vqMbn%2BScMYCtlfDcnUqVYuFbFyTjKcX8VLDwfvUaMtpzk/b14q0vZUm6ciiuJ%2BPf7RvwR/Zg8BzfEr47/EfTvDmkQ5CTX0v7y4cDPlwxLl5pMfwIrN3xivm%2BH9rL/goL%2B15Eq/sZ/sy2/wAPPCd2MwfEr4xkxzTwnpLa6ZFmQ5HzI8haNgRnbXTicyw2Gqeyd5T/AJYrml62Wy85OK9T8lxmbYPB1fYu86j1UIJylbu0vhXnJxXmz608W%2BMfCPgHw/c%2BLfHXinTtF0qzTfd6nq17HbW8C%2BrySEKo9ya8Otv%2BCrX/AATourl7SL9r3wcHjcoxkvmRSQccMyhSPcEg1yHhH/gk98P/ABh4htviN%2B3F8YvFHx08S27%2BbDF4puDbaJZyd/s%2BmQERIvJyrF1P90V7837N37Oz2EWlP8BPBbWsESxwWx8LWhjjQDAVV8vAAHAArBVM6r%2B9GEKa7SblL58lor0Tl6nMqvEOJ96EKdJdFNynJ%2BvI1GPonJ%2BZx2mf8FFf2CNWx9k/bM%2BGK56C48bWUJ/8iSLXSaN%2B1p%2Byr4iIHh/9pn4fX2en2PxnYy5/75lNUdT/AGJP2Mdaz/bH7I3wxus9TceAtOc/rDXNaz/wTI/4J8a7n7b%2Bx18P0z1%2Bx%2BHIbb/0UFxT/wCF1dKT/wDBi/zHfiWPSg//AAcv8z1/RvHXgjxHj/hHvGOlX%2B77v2LUYpc/98sa8b/ah/4KI/AT9mfXIfhmkmo%2BNfiLf4TSPhv4JtTfarcSEZXzETIt06EtIQduSqtjFcxrP/BGH/gmRr2ft37KWlx7uv2LWtRtv/RVyuK9O/Zr/Yq/Zc/ZC026079nj4O6b4ea%2BYm9v1eW5vLgZzse5uHeZkB5CF9o7AUm88q%2B5anD%2B8nKbXpFxir%2BsrLqmTJ8SVv3fLSp33mpSm16QcYq/ZylZdU9jwJP2WP21P29XGsft1%2BPX%2BG/w9uDui%2BC3w/1M/ab2I8hNV1FeZM9Gii%2BQjBHlsK1/Gv/AASo8L/DXVk%2BKH/BPH4k3/wU8Y21tHE9rp7vd6FrSRjCx31nKzB8gY81fmBJcq7819cUUlkmAlFuqnOb%2B22%2Be/lJW5bdFHlXk%2BouHMslFusnOo/%2BXkpP2l%2BjjJWcLdFBRiuz6/Ingn/gpR4s%2BB/iiz%2BD3/BS/wCE3/CsdbupRb6X4/01nufCetv/AHo7rk2jHr5c33Ry7JkCvrTS9V0zXNNg1nRdRgvLO6hWW1u7WZZI5o2GVdWUkMpByCDg1R8beBvBfxK8L3ngj4heFNO1zR9QiMV9peq2aXEE6HsyOCp/KvmK4/4Iif8ABN17iSex%2BCmp2IkkZ/KsfG%2BrRxoSc4VRc4Uc8AcChQzjC%2B7BxrR6OT5JLybUXGXraL73CNPPsF7lNxrw6OcnCa8m4wlGfryxfdPc%2Bsq4H44ftS/s6fs2aV/a/wAdvjR4e8LxmMvFBqmpItxOP%2BmUAJllPsisa8J/4cm/sEx/8efhXxfb%2Bnk/ELVBj85zXa/BT/gl3%2Bwv8BtZPinwl8BNN1LWzL5n9u%2BKpZNXu1YcBke7aTyiAAAUCnApurnc9FSpx83OUkvkoRb%2B9DdbiKp7qo0oebqSkl/27GEW/wDwJLzOAb/gqD4%2B%2BORNh%2BwP%2Bxd45%2BI8UpxB4w8Qwjw/oBB/5aJcXQ3zAdSgVGIwByarw/sC/tJftdakniT/AIKV/HWK70FZVktfg58NLiex0IYOV%2B2XBInvD6gkBWHyuQcV9iqqooRFAAGAAOlLS/suWI/32q6i/lsow%2BcVrL/t6TXdMTyWeL1zCtKqv5LKFP5wjrJeU5yXdMxPh38Nfh78I/CNp4B%2BF3grS/D%2Bi2KbbTS9Iskt4Yx3IVABk9STyTySTXl37c/7IFj%2B1r8Lra18Pa%2B3h3x94UvRq/w68Y2/yzaRqceGQ7gCTDIVVZF5BGGwWRa9sorvrYXD18M6E4%2B41a23pa1rW0atazSa2PTxGCwuJwjw1SK5GrWWll0ta1mrJpq1mk1ax4L%2BwZ%2B1/fftNeB9T8HfFPQF8OfFXwFeDSfiR4Vf5TbXaghbqIZO63nCl0YEjqoLABm9x1jWNJ8PaTda/r2p29lY2Nu9xe3l1MI4oIkUs8jsxAVVUEkngAZr5b/bz/Z5%2BJfg7xxpn/BQj9kbR/O%2BJHguzMPifw5BlU8aaACGmsZAo%2BadFG%2BJsFsqAAzLGB5fqnxr1L/gtH4m0/4L/A59a0P4EaVDaX3xa8RzQva3WtXTIsy%2BHoD1AUkee6kjjg7dnneMsyr4FPCVk51todPaLpK%2By5f%2BXna3MviijwFm%2BJy6LwNdOpiFpT6e1T2k3a0eX/l9/LbmStOKNrwDpGr/APBWr46Wvxv8babcQ/s6/D/WGbwDoF5EyL451aJijapcRt960iYMsaMPmOQesqV9xgADAFUPC/hfw74I8N2Hg7wholtpulaXZx2unafZwiOK2gjUKkaKOFUKAAPar9engcG8LBym%2BapPWUu77LtGK0iui822/Xy3L3gqcp1Jc9WbvOXd9Eu0YrSMei7tybKzPFXgrwb46006N438JaZrNm2d1pqthHcRH/gMikfpWnRXbKMZKzV0ejKMZxtJXR88fEj/AIJO/wDBOv4pO0/iH9lHwxZTMdwn8NxSaS6t13D7E8Qznnn8a3P2aP8Agnt%2Byh%2BydrF14r%2BEvw0U%2BILwkT%2BJtdvJNQ1EJjaIkuJyzRoFAXam0EKN2SM17XRXFHK8thXVaNGCmuqik/wX42v5nnQybKKeIVeGHgprZqEU/wAEtfO1/NBRRRXcekFeM/sv/wDJb/2jv%2ByzWP8A6hXhevZq8Z/Zf/5Lf%2B0d/wBlmsf/AFCvC9AHs1FFFABRRRQAUUUUAFFFFABRRRQAUUUUAFFFFABRRRQAUUUUAFFFFABRRRQAV4z44/5SF/C//sjPjz/07eEK9mrxnxx/ykL%2BF/8A2Rnx5/6dvCFAHmGnf8Uf/wAFt9RtPuW/jH9nWG53f37q01fy9vviI5r61r5K/aY/4pD/AIKx/s1%2BKx8sfifw34u0G5k7fubSO6jU/Vice9fWteTlfu1MTT7VZP8A8CjCX6s/QOO/3%2BDyTF/8/MDSj86NXE0H/wCkx%2B5BRRRXrH5%2BFFFFABRRRQAUUUUAFFFFABRRRQAUUUUAFFFFABRRRQAUUUUAFFFFABRRRQAUUUUAFFFFABRRRQAUUUUAFFFFABXjPjj/AJSF/C//ALIz48/9O3hCvZq8Z8cf8pC/hf8A9kZ8ef8Ap28IUAezUUUUAFeIft/eG/EWu/BPRtW0TwpqWv2nhv4l%2BFdf8QaHo%2BnSXl1eabY61aXNwYraJWkuXhWP7SIUVpJPs%2B1Fdyqn2%2BigD4u8NfD20%2BJP7J/xb8PeL9C8deEdO8T/ABLv/HnhO2/4Vlql1d2drFrMF3ayvpot/Mma4vbN7yTTsLcvDdkPHG0hxl/D2y/a88N/sl/tC/ETRbbXL/xp8YPiYqfDaeH4f3mhy2H27S9F0BNVfSZ3kudOtoLqC5vXW4feIIWnlZWlbH3LRQBxvhz4UyfCX4D6T8E/2fr3S/D6eGPDdpo3hSXWNJkv7WyhtoUhhElvFPbtMojQDassZPXNee/8E6bfxLafs3X1r4y1axv9Xj%2BLfxDXU77TNOe0triceM9a8ySKB5pmhQtkhGlkKggF2xk%2B6V4z%2Bwf/AMkQ1z/ss3xH/wDU11ugD2aiiigAoorj/j98c/h9%2BzX8Hdf%2BOHxR1UWmieHbBrm6YY3ytwscMYJG6SRyqKvdnAqKlSFKm5zdkldt9EtWzpweDxWYYunhcNBzqVJKMYxV3KUmlGKS3bbSX9W8U/4KLftFfEDw5p%2Bgfsgfs03YPxa%2BLEj2OjTox/4kGmAEXerSleUWOPeEPUuCV3GMqfWf2Xf2afhn%2ByT8FNF%2BCPws0pIbHSrZRdXpiVZ9SuiB5t1OR9%2BSRskk9BhRhVAHjP8AwTp%2BBnxB1nUNf/b4/aX0ow/En4pxo9jpU2T/AMIv4fBDWmmxgjKMVCSScAltu4B1YnV/aF/4KXfC74beOJPgN8AfCOp/F/4ptuSPwV4LIkSycHBa/u8GKzRTwxbcy8blUHNeFQr0YN5ljHyuelNPdQ3SUdW5z%2BKSSbtyx6M%2Bx48zvK%2BFMsp8L4atH2VGXNiJxd1iMXblahy3dSnh1ejRSUlKSrVkv3kZL6L1XVtL0LTLjWtc1K3srO0haW6u7uZY4oY1GWd2YgKoHJJOBXyT42/4KM/EH9oPxTe/Br/gmN8MYfH2p2sxt9Y%2BJ2tl4PCmhv3PnAbr2QdQkXBBDKZACKq6V%2BwP%2B0H%2B2Bqdv46/4Ka/FdbrSEmW40/4J%2BBbuS10K0IO5Pts6sJL6Qd/m2qwO1yp219aeC/BHg34b%2BF7PwT8PvCunaJo%2BnQiKx0vSrNLe3t0H8KRoAqj6Cui%2BZZhtejT76e0fotVT%2BfNPyifk3Nm%2Ba/DfD0u7t7WS8lrGmn3fNPyi9vnb4C/8E0vCHh3x5D%2B0L%2B1p4%2BvfjJ8Uhh4tf8AE0K/2fo7Z3eXp1iP3VuqtyGwWBG5dmSK%2BnaKK78Lg8NgqfJRja%2Bre7b7tu7b8238tj08FgMJl9JwoQtfVvdyfeUndyfm2/ktAooorpOwKKKKACiiigAooooAKKKKACiiigAooooAKKKKACs/w14R8KeC7CTSvB3hjTtJtZbqW5lttMso4I3mkYvJKVQAF2YlmbqSSTk1oUUrJu9tROMW07aoKKKKYwooooAKKKKACiiigArxn9l//kt/7R3/AGWax/8AUK8L17NXjP7L/wDyW/8AaO/7LNY/%2BoV4XoA9mooooAKKKKACiiigAooooAKKKKACiiigAooooAKKKKACiiigAooooAKKKKACvGfHH/KQv4X/APZGfHn/AKdvCFezV4z44/5SF/C//sjPjz/07eEKAPMP%2BCl3/FL/ABq/Zd%2BKn3fsPx3s9EaX%2B6upW8sJz6A%2BXX1rXyV/wWg/4kn7IWmfFPp/wgvxN8N695n/ADz8u/SHd7f6/wDWvrWvJwnuZtiod1Tl98ZRf4xP0DiD/aPD/IsR/I8ZRf8A27WpVor5RrP7wooor1j8/CiiigAooooAKKKKACiiigAooooAKKKKACiiigAooooAKKKKACiiigAooooAKKKKACiiigAooooAKKKKACiiigArxnxx/wApC/hf/wBkZ8ef%2BnbwhXs1eM%2BOP%2BUhfwv/AOyM%2BPP/AE7eEKAPZqKKKACiivn7/gpcdMH7Ndr/AMJp5f8AwhX/AAsLwv8A8LI%2B0f8AHv8A8I9/bNp9t%2B1Z4%2Bx%2BX/x87v3f2bz/ADP3e%2BgD6Bor4L8EWnwv8ffsBfFr4X/D/wCMvgrwt4Ej8d6lq3gJtW1qO10Q%2BEYdYikeJ2Rv3Oh3U8GoWYmjBhFrMfKDRhFPiSN4k1b4V2a6vJ8E/CX7P%2BsftOXpsWu0k1T4cWOjJ4Oj8pQpOnxX2mvr0V5tLG2t5L90dQR5SSAH6w14z%2Bwf/wAkQ1z/ALLN8R//AFNdbpv7KPj3xf4y/Yg8G%2BOPhv8ABbwzoeqTeF4hofg5bubSNGVIyY4vIdLWaS1s5I1WWEeQ7LFJGCveqf8AwTpuPEt3%2BzdfXXjLSbGw1eT4t/ENtTsdM1F7u2t5z4z1rzI4p3hhaZA2QHaKMsACUXOAAe6UUUUAFfE2tun/AAU2/bNbw5uFx8CfgRrYk1aQnNt4s8VxjKw5%2B7JbWgOW7MzEEMsikep/8FO/2otQ/Zd/ZW1TUvBmoRQ%2BMvFtzH4c8ELJcLHsv7oFftBZiAiwx%2BZMXb5QY1DEA18sfszfC/xv%2B118F9B/Y2/Zl1rUfCX7OfhO3Nl48%2BJ1rE1vqHxFv9xa9h0/cN0drJMZN8zDJU7OQpjb5jOMbGrjYYGK57Wk4reTv7kX0UdOebenKorXms/uMvzSHAXC0s%2BhFyzDFyqYfBQXxRUY2xOJX8vIqkaEKjsoTqVZRbnCCXrfxW/aP%2BMf/BQX4g6n%2By3%2Bwb4ol0PwPpdybP4mfHG2XMcX/PTTtIYcTXBU4adThAcqQCjt9Ifs1/ss/A39kr4d2/w0%2BBngW10myjRftl2Iw13qMoGDPczY3TSHk5PAzhQqgAdD8KfhR8Ovgf8AD7TPhZ8J/CNnoegaPbCDT9NsY9qRr1JJPLsxJZnYlmYlmJJJroa9XCYGUKn1jEtTqvr0iv5YJ7Lu/ik9ZPZL8wwGWyp1ni8XJTrtWv8AZgv5aae0e7%2BKb1k9ooooor0j1wooooAKKKKACiiigAooooAKKKKACiiigAooooAKKKKACiiigAooooAKKKKACiiigAooooAKKKKACvGf2X/%2BS3/tHf8AZZrH/wBQrwvXs1eM/sv/APJb/wBo7/ss1j/6hXhegD2aiiigAooooAKKKKACiiigAooooAKKKKACiiigAooooAKKKKACiiigDz/9qv41XP7Of7N/jb446foKareeGPDl1fafpksxiju7pUPkQu4BKI0pRWcAlVJODjFcd8Dv2hfiBpOrfFHwB%2B1f4m8ILqHwuhstT1Pxd4c0yfS9Lm0m6sTcid4Lm6uXt2heG7R8zOrJEknybzGnp/xc%2BFng344fCzxF8G/iHYSXWheKdFudK1aCGZopGt54mjfY64aNwGJV1IKsAQQQK4D4b/sZ%2BD/Bln4ltfHXxH8SfEU%2BOBJH49bx/Z6TdJ4ltzZxWUVrdQwWEMIt4oIyqxRJGjmeZpRK0jNQBh/sPftO/GH9pDXfilF8WPAVh4bg8M%2BMLODwppUVrNFfRaTd6PY6jbf2gJZGAvCt3mREVFiJ8rDmMyPVv/i58KPHP/BTbwX4C8E/E7w9rGu%2BGPg944i8S6LpWtQXF3pLyat4S8tbmGNy8BbY%2BA4UnacdDXV/s3/sNfsv/sk%2BNvHHjr9nn4RaB4Un8fX9nc6vaaDoFlY28AtrSK2jggS2gjKQ/u2mKMW/fTzOCN%2BBV8cf8pC/hf8A9kZ8ef8Ap28IUAc1/wAFbfCX/Ca/8E3/AIuaN5W/yfC5v8Y/59Z4rrP4eTn8K9i%2BBni3/hP/AIJ%2BDvHfm7/7b8Laff7853edbRyZ/wDHqzP2pvCX/Cf/ALMfxG8C%2BVvOs%2BBNXsQmM5MtlLGP/Qq4L/gl94t/4TX/AIJ6fB/WfN3%2BV4FsrEtnPNqn2Yj/AMg4ryV7mev%2B9S/9Jqf5SP0CX%2B0%2BFMe9DHv5KvhE/wAZUPwPeaKKK9Y/PwooooAKKKKACiiigAooooAKKKKACiiigAooooAKKKKACiiigAooooAKKKKACiiigAooooAKKKKACiiigAooooAK8Z8cf8pC/hf/ANkZ8ef%2BnbwhXs1eM%2BOP%2BUhfwv8A%2ByM%2BPP8A07eEKAPZqKKKACiiigAooooAK8Z/YP8A%2BSIa5/2Wb4j/APqa63Xs1eM/sH/8kQ1z/ss3xH/9TXW6APZqoeKfFPhvwP4bvvGHjHXrTS9K0y1e51HUb%2BdYobaFAWaR3YgKoAJJNXpJI4Y2llkVUVSWZjgADqSa/KX9t/8AaA%2BJn7c3wP1H49XNtd6Z8Fxr66B8HvAsEgF98TPEjztbwXF0oPFnFKkkgt85fyGB5wy%2BVm2aQyzDuSjzTabS9N230SuvNtqMU5NDwuHzDNc4wuT5bT9pi8VNQpxbtG7avOcvsU6ablUk9oxdk3t0Vt4NsP8Agu5%2B13J8Sry91Kx/Z6%2BEcraZpkYLwT%2BKtQl2vcbehgjdBEHJIkEXlABWmcx/pV4W8LeGvA/hux8HeDtBtNL0rTLVLbTtOsIFihtoUAVY0RQAqgAAAV5p%2Bw1%2By/o37Hn7LvhT4EacY5bzTbATa9fR8/bNSlPmXM2TyQZGIXPIRUHavWqzybL5YWi69dXr1fem/PpFdoxVkl5N6t3OnMsHh8LmlSFLEyxKp/u41ZLl5oQbt7OG1KlKTnOFNa2mpVJTqynIKKKK9k5QooooAKKKKACiiigAooooAKKKKACiiigAooooAKKKKACiiigAooooAKKKKACiiigAooooAKKKKACiiigArxn9l/8A5Lf%2B0d/2Wax/9QrwvXs1eM/sv/8AJb/2jv8Ass1j/wCoV4XoA9mooooAKKKKACiiigAooooAKKKKACiiigAooooAKKKKACiiigAooooAKKKKACvGfHH/ACkL%2BF//AGRnx5/6dvCFezV4z44/5SF/C/8A7Iz48/8ATt4QoA9juIIbqB7a4jDxyIVdGHDAjBFfKH/BFGeaw/YJ0f4d3Uhafwb4r1/Q5tx5Bi1O4kAP0EoH0xX1lXyV/wAEsR/wjXiT9o/4Vvx/Yv7ROu3drH/zztrxIJYl%2BnDH8a8nFe5m%2BGl3VSP4Rl/7afoGRf7R4d53Q/591MFWX/gyvQb%2B6qr%2BqPrWiiivWPz8KKKKACiiigAooooAKKKKACiiigAooooAKKKKACiiigAooooAKKKKACiiigAooooAKKKKACiiigAooooAKKKKACvGfHH/ACkL%2BF//AGRnx5/6dvCFezV4z44/5SF/C/8A7Iz48/8ATt4QoA9mooooAK%2Bfv%2BClx0wfs12v/CaeX/whX/CwvC//AAsj7R/x7/8ACPf2zafbftWePsfl/wDHzu/d/ZvP8z93vr6BooA%2BC/BFp8L/AB9%2BwF8Wvhf8P/jL4K8LeBI/Hepat4CbVtajtdEPhGHWIpHidkb9zod1PBqFmJowYRazHyg0YRT5LpXw9%2BFXxN%2BA0/ib4ufE/wDZt%2BHHw18O/tO3PiL4S6N4r06LXPh9qtgPBR0yex09bibTUuof7SvtSulmjVFNxbzSRxMhU1%2Bp1FAHk37OfxB8d%2BO/2L/BHxH8EfBDRfDuu6j4H0%2B503wFfXs2ladYMYE22okS0kktoFXhB9mLKgUGNTkDE/4J03HiW7/ZuvrrxlpNjYavJ8W/iG2p2Omai93bW858Z615kcU7wwtMgbIDtFGWABKLnA90rxn9g/8A5Ihrn/ZZviP/AOprrdAFH/gpf8Z5PgJ%2Bwl8TPiHZXDR33/CNS6dpLR/fF5elbSEqByWV51bH%2Bya%2BZP2L/gzH8Vv2mvA/wqNusvgP9kjwfaaZKF5g1Hx1cwK15L6N9mPmcdY5QCOHrr/%2BCyHxF09dT%2BD/AMFb0rJYyeKb3xz4ntyflk0nw9ZSX00Unokh2gerJgc16V/wSI%2BGV18OP2BPA2p64hfW/GVvN4q1%2B%2BlH729udQla4WaQ/wATeQ0C5PZBXyVZf2jxN7F/BTim/OzUrfOcoN/4Ej6ng2SyrA51xIv4sI08voP%2BWeIhOviqi/vRw0Y0lbVe3kz6Wooor60%2BWCiiigAooooAKKKKACiiigAooooAKKKKACiiigAooooAKKKKACiiigAooooAKKKKACiiigAooooAKKKKACiiigArxn9l/wD5Lf8AtHf9lmsf/UK8L17NXjP7L/8AyW/9o7/ss1j/AOoV4XoA9mooooAKKKKACiiigAooooAKKKKACiiigAooooAKKKKACiiigAooooAKKKKACvGfHH/KQv4X/wDZGfHn/p28IV7NXxX/AMFIPj38Vf2Xf2yPgr8e/A3gWbxJ4c0D4ceOW%2BJOl2abrqLQn1Hwost3AM8vBL5MhHQoHyVXc644ivTwtCVWfwx1dlfTq7eW78k30OfF4qlgsNKvUvyxV3ZXstLuy1st35JvofalfJX7IP8AxSX/AAU2/ap8Bt8sOpHwlr1gnr5mnSJO3/fwLX058O/iH4K%2BLPgbSviV8OfEdtq%2Bha3ZJd6XqNo%2B6OeJxkEdwexU4KkEEAgivkv4peONF/ZL/wCCs9p8X/iys2keBvix8M7Xw1Z%2BKpY/9Bh8QW96zx29xJnEO63xtZsAlvRXK%2BZmdSnB4bE392NRXfS04yje%2B1ruOu2q1P0vw9hLNMHnGXYdc88Rg5OnFaucqNWhiEoJfFJwhUaUbtpSsnax9m0UdelFeyfngUUUUAFFFFABRRRQAUUUUAFFFFABRRRQAUUUUAFFFFABRRRQAUUUUAFFFFABRRRQAUUUUAFFFFABRRRQAUUUUAFeM%2BOP%2BUhfwv8A%2ByM%2BPP8A07eEK9mrxnxx/wApC/hf/wBkZ8ef%2BnbwhQB7NRRRQAUUV4h%2B394k8RaF8E9G0jRPFepaBaeJPiX4V8P6/rmj6hJZ3Vnp19rVpbXAiuYmV7Z5lk%2BzCZGV4/tG5GRwrAA9vor5B8IRftA%2BOP2Nfiv8L/gv4/17VdR8L/FfUtA8Jaze%2BKpP7V1HRbXVLdruwj1S4cyfaxEb/TYruWTzEkijZ5d6NJXiHiX9qX49eGv2dPi78H7Twx8ZvDmkxfFPVNB0bxPax6t4y1zwpoVv4b0zULuKbUtLOoSC7fULm6tI7hrhxaebJiffYhCAfpbXjP7B/wDyRDXP%2ByzfEf8A9TXW6k/ZZ%2BLWu%2BJ/2Ffh58XrLwx4r8W6pdfDrSrqXTpoPsmrapcfZYhISNVkth5jvuffM6Bwd4YhgTi/8E//ABWD%2Byzq/jfxZod34dA%2BKfxGvdS07V5YGn00DxlrbyRzNbyywlk5DGOR0yp2swwSNpK7E2krs%2BGv%2BCnXirVvjB%2B018ZV8NTb59A8L%2BGPhL4WzzG%2Bra7fLeXRT1cWsc8LAdARmv1P8GeFdJ8CeD9J8EaDD5djo2mwWNlH/dihjWNB/wB8qK/Kb9lHStR%2BPfxq%2BA2q69aObn4pfGXxb8Z/EEMw%2Be1trHdb6UpH9zzEk2egk461%2BtdfJ8NJ4itiMY/ttW%2Bd5/lKCPp2ngfDLJKD0li5YrHz9K1VUKF/Shhrrylpowooor6w%2BZCiiigAooooAKKKKACiiigAooooAKKKKACiiigAooooAKKKKACiiigAooooAKKKKACiiigAooooAKKKKACiiigArxn9l/8A5Lf%2B0d/2Wax/9QrwvXs1eM/sv/8AJb/2jv8Ass1j/wCoV4XoA9mooooAKKKKACiiigAooooAKKKKACiiigAooooAKKKKACiiigAooooA8i/b6%2BIXjT4UfsUfFP4kfDzWZNM1nRfA2o3Vlq8MYZ9NKwNuvFDAqTAu6YbgVzHyCMiuK/ZfsG0L4ifHL9nez%2BKvivVfBfhyTSP7K1vXvGl5qeoaTNfaSst3bpqV3LJcfIvkXa75GMRvflKx%2BWq/Rt7ZWepWcunajaRXFvcRNHPBNGHSRGGGVlPBBBIIPBBriPDP7LP7MXgvwiPh/wCDv2cvAek6CIL2AaJpnhCygsxFeII7xPJSIJtnRVWUYxIqgNkCgDyv/gn4mpa1e%2BPPiF4B8W%2BL9S%2BEOsX1jH8MJfG/iy/1q61AQRSJe6rb3OozTXIsLmRoRAryFXFs9xGBHcoWm1fxZrniz/gpd4P8JeIfg5r2j6dp3wb8cxWmtazPpstlrqPqvhIMbdLe7mnVVAAYXMUJO8bQ3zY9W%2BDv7OH7PH7PFte2XwA%2BAvgvwNDqXlf2jF4O8LWmmLdeUGEfmC2jQPsDuF3Z27mxjJrjfHH/ACkL%2BF//AGRnx5/6dvCFAHz%2Bpv8A/gkJ8dNhMz/szfEXW/lPLL8Otanbp/safO34Rt6Efvvrv4wfB/4WftH/AAs1L4VfFTw3aa94b16z2XNtIcq6n5kljcco6nDJIpBUgEGtH4jfDvwT8W/AmrfDP4j%2BHLbV9C1yxe01TTrtMpPE4wQe4PcMMFSAQQQDXxf8Nfjn49/4JO313%2Bzv%2B1VpnivxB8GLKVW%2BG3xastJkv10axckDTdU8oF4zDwsbhTuXAChQFj8CSp5S3Sqq%2BGnfdXVNveL0f7uWtm9Iu8XaLi14ODxuI4Px8K1Ko6dFSUoTi2nQmnzLVaxg3rCWipyvFtRcWtb4JfGj4l/8E5/ifpP7Hf7Xviq41n4c61cC0%2BD/AMXNRP8Aq/7mj6m/RJVHEcpwGUf3ciL7Ury/VoP2Wf2/vgJqHhmPW/D/AI/8E%2BILfybp9NvknVG6qQyHdBOhww%2B66MB0Ir5v8A/tCfFn/gl5qY%2BAv7aL6/4m%2BEsMqQ/D/wCNUGnvdf2fbMdqWGsCMFo3j4VJgDuGMDGfLKWIWUpRnLmwz%2BGd78naMnreH8s%2Bnwye0j9wnhsJ4pYb6/lUYrNLXq0Ycqji11r4dJqPtutbDw/iO9ahFt1aK%2B4KKy/BXjjwb8SPC9n43%2BH3irT9b0fUYRLY6ppV4k9vcIf4kdCVYduD1rUr3oyjKKcXdM/MatKrQqyp1YuMotppppprRpppNNPRppNPdBRRRTMwooooAKKKKACiiigAooooAKKKKACiiigAooooAKKKKACiiigAooooAKKKKACiiigAooooAKKKKACvGfHH/KQv4X/9kZ8ef%2BnbwhXs1eM%2BOP8AlIX8L/8AsjPjz/07eEKAPZqKKKACs3xj4M8H/ETwtf8Agf4geFNN13RNUtmt9T0fWLGO6tbyFhho5YpAUkQjqrAg1pUUAcVb/s1/s52ngt/hva/AHwVF4dk0P%2BxZNAj8K2a2Tab5jSfYjAI/LNvvd38rGzc7HGSTWv4S%2BFnwx8A%2BAofhV4E%2BHOg6L4Xt7aS2g8N6TpENtYRwuWLxrbxqIwjFmyoXB3HPU1vUUAVtF0XR/Dej2nh3w7pNtYafYW0dtY2NlAsUNtCihUjjRQFRFUABQAAAAK%2BFfjp8VdR%2BFH/BJf4uT%2BHt76z4k%2BK3xD8NaJbxHEk1xqPjrWbTan%2B0I5ZHH%2B5X3nX5uXEsXxg%2BMfwK/ZbMivYW37SHxS%2BIHidWPyQ2%2Bk%2BL9cNqZPVHmd0weMgZrzM5qShltSMHaU7QXrNqP4Jt/I8fP6lSGU1IU379S1OPrUagvuUpP5He/sH/AAp07Sv%2BCgvjXR9M2zab8B/gz4X%2BG%2BmXCj5JZ5Yxe3Tr/t%2BYhDHrlvevuavkn/gj1FJ41%2BB/jn9p%2B8jYy/F34s694itZZBhhZC4NtBH/ALq%2BQ%2BPZq%2BtqxyGnGOWRnFWU3KS9G3y/%2BSRgfq3iVTp4Hij%2ByKatDAUcPhEuzw9GnCa/8GyrX80wooor2T4EKKKKACiiigAooooAKKKKACiiigAooooAKKKKACiiigAooooAKKKKACiiigAooooAKKKKACiiigAooooAKKKKACvGf2X/APkt/wC0d/2Wax/9QrwvXs1eM/sv/wDJb/2jv%2ByzWP8A6hXhegD2aiiigAooooAKKKKACiiigAooooAKKKKACiiigAooooAKKKKACiiigAooooAK8Z8cf8pC/hf/ANkZ8ef%2BnbwhXs1eM%2BOP%2BUhfwv8A%2ByM%2BPP8A07eEKAPZqZcW8F3A9rdQJLFIhSSORQyupGCCD1BHan0UAfL3xX/4JTfAfW/Fs3xb/Zq8Sa58EvHb/N/wkPw5ufsttctnO25sciCeMkksoCFifmY1zFz8Uf8AgqP8ANNufBfx9/Zc8O/tA%2BGGhaKXxT4Dv4NPv7i3IIYXWl3ClJpGGcpCAmDjJr7Ioryp5Rh1Jzw0nSk9%2BS3K/WDTg/WyfmeM8koUqvtsFOWHne96bSTfdwacG79Uoy/vH5Mah8b/ANnX4B%2BP5/HH7IHxN8Y/su%2BMr6czap8JPjL4MvYPCuuSj7wZEEiWRPQSxsoC4CiPJNfTX7NH/BaH9n34hXlv8P8A9pW5034ceK2YRRXza1DfeHdVYYzJaapCzQbe5WRl2khdzEGvr/xH4X8M%2BMdIl8P%2BLvDtjqthOMTWWpWiTwyD/aRwVP4ivnf4l/8ABHr/AIJt/FW9k1PxB%2ByvodjcSZ/eeHLm50pVPqI7OWOP81NeSsqzzL6nNgatNx6xalGL%2BSclF%2BcOVd4n3s%2BNs/zTCfV%2BJKFLMXFWhXvLDYyNlZKVaMa1PERWi5cRTlJJWjWS0X0hp%2BoWGrWMOp6VfQ3NtcRrJb3FvKHjlQjIZWHDAjkEVNX5/wDxI/4Ig658PNEnu/8Agnx%2B2h8R/hffb2lTQJ/FNy2lTt2XMBSWLPdm87/drwy7%2BJ3/AAVV/Y2vHs/2kv2hviR4ZtbQgDxVqPgm18aeGLxB/HNdwKl1ZAnovlvJgHOK2r59i8A0sZhJRX80ZRlD79Gv%2B3kvU8/K%2BHOKs%2BpynleEjiJJ/wAKniKDxFvKjUdCVT0pTqN9IdD9c6K%2BCPgd/wAFC/29vGWlf2r4O%2BGXwW%2BPunwx77ib4SfEI6XqMMX9%2Bay1IeYr45KbFyeld%2Bn/AAV8%2BGXg3Nn%2B0X%2By98afhtcx8Tya94Amns/do57Yv5i/7QUV2Us/yypBTlJwT6yi0v8AwJKUf/Jj5vHZjDKMVLC5pSq4WrHSUK9KpSkvXmhb8bdmz64or5t8F/8ABXv/AIJt%2BPGWPR/2sfD1q7HBTXIbnTdp9CbuKMCvT9P/AGu/2T9W0v8AtzS/2nvh5c2R/wCXuDxpYvH/AN9CXFdtLMcurq9OtB%2Bko/8AyQUc2yrEq9LEU5ek4P8A9uPQ6K8g1v8A4KC/sJ%2BHsjVf2x/hijL96OLxxYyuP%2BApKT%2Blchrf/BXX/gm34fz9v/a38Mybev2Fbi5/9ExNmpnmeWU/jrwX/b8f/kiamc5PR%2BPE016zh/8AJH0dRXyZN/wW8/4Jwzym38MfGPV9elU4MWjeBtWkOfT5rZQfzph/4LQ/skWv%2Bm634P8Ailpul/xa5ffDW%2BW0X6sqlv8Ax2sP7dyb/oIg/R3/ACTX4nN/rLw/0xUH6Sv%2BKTX4n1tRXzx4C/4Kyf8ABOT4kbB4f/a48J2xfouvTyaUR9ftqRY/GvTpv2nv2arbw4fGFx%2B0N4Gj0hfvao/i2zFsOM/60ybf1rqpZhgK8eanWg15Si//AG47aOaZZiYc1KvCS8pxf/tx3NFfMXjj/gsT/wAE9vB2o/8ACP6T8dV8V6sxIg0rwTo91qsk5HZHgjMR/wC%2BxWKn/BTv4qeJ86j8MP8AgmV8eNV0v%2BC%2B1fQINMaX0ZI5ZCzKezfpXNLOsqjLlVVSf928/wD0hS/M5JcQ5LGTjGupNdIXnb15Izt82fW9FfJX/DyD9olP9f8A8ErfjUP%2BucNo3/tSg/8ABTj4saZ/pHiT/gl1%2B0LFbj77aX4YgvZB9I0mBP50v7by3rJ/%2BAVP/lZP%2BsWU9ZyX/cOr/wDKj61or5J/4fIfs86R/wAlI%2BBfxs8G4/1n/CT/AAuuovL%2BvlGStLw9/wAFpP8Agmf4hn%2Bxp%2B05aWNwDiSDV/D%2BpWZQ%2BhM1sq/rTWd5O3b6xBPzfL/6UojjxHkEnb61BPzlyv7pKLPqSivIPC3/AAUE/YY8Z7V8O/tffDeaR/uQS%2BMbOGU/8AkkVv0rf8a/tXfsyfDrwfJ4/wDGv7QHg7T9Gj4/tCbxFblJGxnam1yZGPZVBY9hXXHG4KUHNVYtLrzRt/6Ud0cxy%2BdNzjWg4rVvnjZer5j0CivkC4/4KheM/jvcPon/AAT1/ZJ8W/E4M5jTxtrkJ0Lw5Gc4Li4uQHn29TGFRiMYJzRF8Cv%2BCxniLPxJ1b9t74eeHtbHMPw%2B0n4fi60IIeSkl5MftW7p8wBxg4ODXF/bFGr/ALtTnVXeK935Sk4qXpG/qef/AG9h63%2B50p111cI%2B78pTcIy9I81%2B59f0V8h/8Nf/APBRr4Bjyv2ov2Az4x02H/X%2BKvgbrH2/cB1K6bckXPTnJYCtLSf%2BC03/AATtm0ya48Y/Gi88J6jaMEv/AA/4o8Lahb39q%2BM7WiWFtx/3CwHrTWdZanarP2b7TTg//Jkk/lJjjxFlCfLWqeyl2qJ03/5Mkn/27KR9VUV8k/8AD6b9jXW/%2BSWaT8SPHWf9X/wiXw31CbzP93zo46P%2BHmvxf8U8fCj/AIJffHzUC3%2BqfxPoMGiRv77ppXwPej%2B3MqfwVVL/AAqUv/SYtfiH%2BseSP4Kyn/gU5/8ApEJL8T62or5J/wCGl/8AgrN4yOPCH/BNvwz4Wjb/AFdz4w%2BLVrc5Hq0dogZfp1psmvf8FwdNH/CT3XgP9nDUrdPveGNO1PWYbuRf9m4l/dB%2B3Py4NH9r0nrGlVa7qnL9XF/cg/t2hLWFCtJd1Rmv/SnF/cn6H1xRXyL/AMPLvjb8Kf3H7W3/AATj%2BKXhRI%2BJ9a8GLB4m02If89JJrYqY1PXoxGcV1HhL/gr1/wAE4/F%2BlNqlv%2B1LoWnGJtk9nrsFxYXET91MVxGjEgjBKgj3qoZzlcnyyqqL7TvB/dNR/C5VPiDJpy5ZVlCXad6b%2B6ah%2BFz6Srxnxx/ykL%2BF/wD2Rnx5/wCnbwhXJ6h/wV9/4Jr6Zn7T%2B1r4dbH/AD7wXU3/AKLiNcv8If22P2YP2wv%2BCh3guL9m/wCKsPic%2BG/gz4z/ALaMGm3VuLb7Rq3hXyebiJA%2B7yJfu5xt5xkZ2pZnl1eqqdOtCUnslKLf3Js6KOcZTiayo0cRCU3slOLb66JNvY%2BuqKKK7T0QrxD9v7xJ4i0L4J6NpGieK9S0C08SfEvwr4f1/XNH1CSzurPTr7WrS2uBFcxMr2zzLJ9mEyMrx/aNyMjhWHt9ZvjHwZ4P%2BInha/8AA/xA8KabruiapbNb6no%2BsWMd1a3kLDDRyxSApIhHVWBBoA%2BU/CEX7QPjj9jX4r/C/wCC/j/XtV1Hwv8AFfUtA8Jaze%2BKpP7V1HRbXVLdruwj1S4cyfaxEb/TYruWTzEkijZ5d6NJXN/BCx%2BMXx1%2BCnxj%2BHlv4S8Yxz%2BAvi/JY/Dfw74u/aK1nR9QFoNE0me4t7/xBo097cXPk3d7f/IZLpEdUgZgYNyfVtv%2BzX%2BznaeC3%2BG9r8AfBUXh2TQ/7Fk0CPwrZrZNpvmNJ9iMAj8s2%2B93fysbNzscZJNUdd/ZE/ZP8UfDrSPhB4m/Zg%2BHmo%2BEtAlaXQvC994KsJtO0123bnt7Z4jFCx3vkooJ3N6mgDlf2Pfiz4t8Tf8ABP8A%2BGvxduB4g%2BI%2Bu3Xw40q6u5LaKytdR167%2ByxiWQCe5jtld33NkziM5yrsCCfzk%2BAfxQ8RW2kftoftl%2BK/Dd94fm%2BH8fjDwN4VstUlge4sLzVPFWr3ksMjW8ssPmxXV3ArGKR1O75XYEE/sFpum6do2nW%2BkaRYQ2tpawpDa2ttEEjhjUBVRFUAKoAAAHAAr8vvGfwt0tPgFpn7OelMs1z8f/28fGV94mhVfv6da%2BLtT%2B0H/a2RWVqcdOteDxDCo8Cpw%2By21/icXCH/AJNUT%2BR9HwRklHPfEDJ6WJ/gUsQq1X/r3QhOtL/yWlL5tdz72/Yl%2BEv/AAor9kP4b/CaW28m40XwbYRagmMf6W0KvcHHbMzSH8a9Roor2aFGGHoRpQ2ikl6JJfoeVmmYYjN8zr4%2Bu7zrTnUl/inOU3%2BMn8kgooorU4QooooAKKKKACiiigAooooAKKKKACiiigAooooAKKKKACiiigAps88NtC9xcSqkcalndjgKAMkk%2BlOrL8c/8iTrH/YKuP8A0W1ACL4z0Z1Dx2%2BpspGVZNEuiCPUER80v/CYaT/z6ar/AOCO7/8AjVeG/HP/AIKsfsD/ALNnxT1T4K/Gr48/2L4m0XyP7T0z/hF9VufJ86COeP8AeQWrxtmKWNvlY43YOCCByX/D8v8A4Jaf9HQ/%2BWTrf/yFXmVM6yelNwniIJp2ac4ppro9T7jCeGXiPj8LTxOGybFVKdRKUZRw9WUZRkrqUWo2aa1TWjWqPp//AITDSf8An01X/wAEd3/8ao/4TDSf%2BfTVf/BHd/8AxqvmD/h%2BX/wS0/6Oh/8ALJ1v/wCQq%2BoPG2o67pHgzV9W8L2Vrc6na6XcTadb3ty0MMs6xsY0kkVJDGhYAFgjkAkhWxg9GFx%2BBxt/q9WM7b8rTtfa9jx894T4p4X9n/bGBrYb2l%2BX2tOdPm5bc3LzpXtdXttdX3E/4TDSf%2BfTVf8AwR3f/wAao/4TDSf%2BfTVf/BHd/wDxqvlH9lb9u79qf4leGfgV4a%2BIvwI8EvrPxD%2BD1v488V%2BKIfiLNBZafpaf2Uk9wIjpYJupBqDyragiFDCUN1giQZXhf/gqzefEjQ9ZsJvhhc6Lf6brfw%2Bn0rUfD9/qH2LWtI8Q%2BJ4dIS4guNa0K086MYkZ2gglilikUQXaSN5kPWfPn2H/AMJhpP8Az6ar/wCCO7/%2BNUf8JhpP/Ppqv/gju/8A41Xzv8E/2/viF8T/AIjab4d8Tfs2waToXiXWvG2keENR03xqt7f3954c1OeylWa1ktYIrZblLeWWJvtD7SNkgQEOe0/a9%2BJvxI8N/D3wT4f%2BHeuXfg/WfiB4/wBG8PS62bW0ubrQoLgvNcOiSrPbNceVBJAhdZYlllVtsoXawB6p/wAJhpP/AD6ar/4I7v8A%2BNUf8JhpP/Ppqv8A4I7v/wCNV4D8NvjD%2B014i/Yk%2BKOpeC5ofGXxT8C3/jTQPCN9fWcEI8Q6hplzeQabJPFEIYRLJ5dukwTyojKJNoiUhU8U0T9q/wDak1k%2BNPhP4L8bfGDVtM8Ma94QvNZ%2BIGs/CG3t/F%2Bn6JqceoLe/ZdGXS41uDDc2EagmwkcRXcrqk4jjkYA%2B6f%2BEw0n/n01X/wR3f8A8ao/4TDSf%2BfTVf8AwR3f/wAar85vGn7d37anjT4MaJdfCbWPHkuraRpPxMfVG8O%2BGtBh1y6bw/ri6bpmp6ra6rCIYLNo1k%2B2W9nGl8bhtlvABHJHH6L4p/bC/aX8IfHjw94o1rxF4ovPDfiP4h%2BDNG8KaP4f8BI/hLXfDus2Wnw3GsPqslq00N1HqN3d7Lc3UbiK2hzbOjvPQB9sWXifSL%2B7SwjNzFLICY0urCaDfgZIUyIoYgc4HOK8p/Zf/wCS3/tHf9lmsf8A1CvC9eo%2BIP8AkLaH/wBhR/8A0kuK8u/Zf/5Lf%2B0d/wBlmsf/AFCvC9AHs1FFFABRRRQAUUUUAFFFFABRRRQAUUUUAFFFFABRRRQAUUUUAFFFFABRRRQAV4z44/5SF/C//sjPjz/07eEK9mrxnxx/ykL%2BF/8A2Rnx5/6dvCFAHs1FFFABRRRQAUUUUAFBAYFWAII5BoooA8A%2BOH/BMH9ij48ap/wlet/Bq10DxGshlg8VeCpm0jUIpf8Anr5lsVEj%2B8ivXBR/spf8FLvgDmL9mj9urT/HWjxf8evhv446K11KgHZtStMTyZGByoAx719eUV5lXKMBOo6kIuEn9qDcG/Xl0fziz7jA%2BIvFmFwscJiK0cVQjoqWJhHEwS7R9qnOH/cOtT9D4i8afHf9pfRFaD9tz/gkHB41sUGJ/EHw4Nj4kWcdythOvnqP95ua4vw18V/%2BDf8A8b%2BIzb%2BM/gt4G8Da%2BhAudB8bfD19Ge3J/vo0Qtx36MelfojWP4x%2BHfw/%2BIlh/ZfxA8DaPrtrgj7NrOmRXUeD1%2BWRWFcdXKMS3dVIVP8Ar7ThJ/8AgUVGX3pk18x8M87d82yFU5/z4Wry/P2WJhiIfKNSK9EeKfCP4If8EsPHCRy/BD4UfAbXCRlJPDui6NdyH/gUSs35165onwU%2BDXhnH/CN/CTwxp%2B37v2HQbeLH/fKCvHfiF/wSZ/4J0fEt2m179k/wxZSsciXw7HLpLK3Zh9ieIA59q5Mf8Ei/Afhfj4Kfth/H7wHEv8AqtO0D4lSNZr6AxTxuWHsWqoQzDDf8wlJ/wCCSj%2BE6a/MdPh7wmr64TH1sM%2B1bBU5pf8Ab%2BFqr7/Zo%2Bs4YYbeMQwRKiKMKiLgD8BTq%2BS/%2BGGP29/C3Pwy/wCCs3iyJU%2B5D4s%2BHum6vuHozyFT%2BI5o/wCFX/8ABZ3wx%2B70P9qL4LeKFXpJ4l8FXdkzfUWjED8K3/tLEw%2BPCVF6ckvymn%2BB0/6l5HW/3XP8HLyn9Zov/wAqYaUf/JmfQvj39nv4CfFQOPid8EfCPiPzPvnXfDdrdlvr5sbV5fF/wSv/AOCdkPiMeKU/Y/8ABRul6RNpe62/8ByfJP8A3xXFDxB/wW80L/kJfD39m3XlX/oEatrVqzD/ALbggGg/tGf8FcfDvz6z/wAE5PB/iIL95fD/AMXba0LfT7TGa5auJyytLmr4Sd%2B8qF/yUv1OKt4URxk%2BaOKy6s%2B/1vD3%2B%2BrTpfiz6Z8D/DP4b/DHTf7H%2BG3w%2B0Pw9aYA%2By6HpMNpHgdPliVRW3XyX/w8H/a78O/8lF/4JQ/E%2B12/6z/hGtdsNYx9PKKbqB/wVw8G6T8nj79iP9o/w2y/fbVfhVJ5f1DRzNke%2BK6Y5zlVOPLzci7OE4/%2B40jrh4V8aqKjhcLCounsq%2BEqL5KGK/KJ9aUV8l/8PsP2DdO/5HXxL4w8N4%2B//bnw91SPZ9fLgetjR/8Agsp/wTN1xA9l%2B1dpCA9Ptmk39ufylt1xVxzzJpOyxEP/AAJL87E1fC3xKox5pZNimu6oVJL74Ka/E%2BnKzfEHg7wj4th%2BzeKvCum6nHjHl6hYxzLj0w4NeL6b/wAFRP8AgnlquPsv7YPgZM9PtOtJD/6M24rctf8AgoF%2BwjeR%2BbD%2B2h8KgD2l%2BIGnIfyaYGtlmOWVFb20Gv8AFD/5I8ivwRxlS92tleJXrh6//wApZP4p/YS/Yo8a7m8Ufsk/De8kf707%2BC7IS/8AfxYgw/Oub8K/8Euf%2BCe/gvxfF468Pfsl%2BEI9RgOYGuLE3EMbZyGWCVmiDA8hguR2Irov%2BG9/2Fv%2Bj0fhN/4cbTP/AI/Utp%2B3V%2BxFfzC3sf2x/hXNIekcXxC01mP4CeuaUcgnNSfsW/8AuFf8zyanh9m0pe0nk1W61u8JV087/Vj1G3t4LSBLW1gSKKNAkccahVRQMAADoAO1PrkNH/aE%2BAfiLH/CP/HDwhfbvu/Y/EtrLn/vmQ10%2Bn6rperRfaNK1K3uY/79vMrj8wa9SFSlUXuST9Gn%2BTZliMDjcG7V6U4f4oyj/wClRiWKoX/hTwvqupxa1qnhuwuby3TbBd3FmjyxrnOFYjIGewNX6KppPc5HGMlZq4AADAFFFFMYUUUUAFc14o%2BC/wAHfHGrDXvGnwn8NaxfKu1b3VNCt7iUD03yITj8a6WipnCFRWkk15pP87kTp06itOKa80n%2BaZzmn/B74SaRj%2Byvhb4ctcdPs%2BiW6Y/JBXmvirTNN0v/AIKD/DCLTdPgt0PwZ8eZWCJUB/4m3hDsBXtteM%2BOP%2BUhfwv/AOyM%2BPP/AE7eEKIwhD4Ul8l/kEadOHwxS9El%2BSR7NRRRVFhRRXiH7f3iTxFoXwT0bSNE8V6loFp4k%2BJfhXw/r%2BuaPqElndWenX2tWltcCK5iZXtnmWT7MJkZXj%2B0bkZHCsAD2%2BivkHwhF%2B0D44/Y1%2BK/wv8Agv4/17VdR8L/ABX1LQPCWs3viqT%2B1dR0W11S3a7sI9UuHMn2sRG/02K7lk8xJIo2eXejSVwPgL4k6ZffBP4qaZ8fl%2BMemaX4N%2BNzeHPhP4N0z4w6i/inWbmbQtLnTSG1PTtRaS/nF/dX42veTQ26xsJpAlm7RgH35X5w/spf8Xh/4KS%2BGvCQ/e2Pwhvvi14jlbqkd/qfjvWbFYz/ALfkqHHtzX2t8H0%2BN/wr/ZR8J23xgsb/AMe/EPQ/BWnQ%2BKYtAntFuNZ1WO3jW5aGS6ktoCWlDtud4lbrhcha%2BQP%2BCHvhXWPEvxU/al/aN8S%2BGdQ0m41n4%2BeItCtNK1Z4HuNMW01jULie3ZreSWIsJL0BzFJJGXjO12HJ8vMoSrTw9JbOom/SClP81E%2B74JxFHLsLm%2BYSdp08JUhD/HiZ0sPp5qnKq/mz9B6KKK9Q%2BECiiigAooooAKKKKACiiigAooooAKKKKACiiigAooooAKKKKACiiigArL8c/wDIk6x/2Crj/wBFtWpWX45/5EnWP%2BwVcf8AotqANSivnj45/wDBQn/hR3xT1T4W/wDDD37Q/jD%2By/I/4qPwL8NP7Q0q78yCOb9xcfaE8zZ5nlt8o2ujrzjNcl/w9h/6xqftaf8Ahm//ALqrzamcZbSm4SqWa0fuz/Sm1%2BLPHq5/lFGpKnOrZp2fu1N16UmvubXmfWlI6JKhjkQMrDDKwyCPSvkz/h7D/wBY1P2tP/DN/wD3VX1R4gTXpNBvo/CtzZw6o1nKNNm1CF5LdLjYfLaVEZWdA2CyqykjIBB5rfDY7C4y/sZXtvpJb/4ox/C51YPMsFmHN9Xnzctr6SW%2B3xQj%2BF/kec/CX9i/9nH4IppsPw%2B8E3yRaN4ZufDmkwax4o1LVI7LR53t2k0%2BJL24lWO2BtLcJEAEjWPbGEVmB53wT/wTb/Y4%2BH6TL4e%2BGWpyGeHQIDLq3jfWdQkjg0TUV1LSbeN7q7kaKC1u1EkcKFYwMoVKEofFfD//AAU4%2BKfxP%2BG1/wCKvAfh3SdP1LT9M8K%2BHZ9NXw0%2BrXC/ETULiQahoAifUrCLFpEkIYy3MIDXSu0uI9knmvjX/goH8b/Hfwut/jpqFu%2Blarof7PPx0OveF7LWLi00681jw54k8O6bBdOunahIY3AW4KtBeSPALyZIrlgTK/Wdx9y6T%2Byn8B9BGkHRPBk9m%2Bgalr1/o01trd6klpc61NPPqUqOJt26WW5mYc/ui/7ry9q41/iX8EPht8X/AIa/8Km%2BImkXmoaMr2kkRGtXcN5BPayxzW9zHexSrcxXEcsUcizpIJQ6ht%2Bea%2BTfHH7Uf7Q/jz9p34ZpaeOfDeheB/8AhqLU/AzeFNPW7g1u8XT9A1iR5by4F15NxBNLCs62n2ZdsZtZjK54r2n9uLx58TPBf7Gmp%2BIhqa%2BFdZvdR0HTNe1Pw/qzy/2LZX2sWVnqF1b3TxRMpgtLi4lWcxoUMYfC7aAO88G/s4/Cb4eeCLP4c%2BCdM1bTdHsdO1KzjtbXxTqKtL9vm8%2B7uJpPtHmXF3JNul%2B2Ss9wskszrIrSyFsbR/2NfgV4e%2BH2r/DjQ4fF9pb6/qkeo63rUHxM15dcvbmNI0jeTWBe/wBoPtjijjCm42iNRGBs%2BWuO/Y%2Bm8X2cnx0%2BDfh3x5q%2Bq6b4F%2BJr6L4D1fxXrd1rFzbxS%2BHdHv3hlu7qSSe7WG/vrtd0kjsqqISf3WB8e3nxK/a2%2BD/g7xl8FPEmseP9A12X4X%2BChr%2BqeKPim2sNd%2BLNQ8SQ6V59neQXc76Lp%2BpmWaETR/Z2t44XuI7OBoMSAH3B4u/4J/8A7J/jTwnoHgnU/hve2mn%2BG9HvNJ00aD4s1TS5pLC8dJLy1uZ7O5ilvYbiSNJJo7hpVmkG%2BQMxLHoZP2VfghN8UNJ%2BLlx4d1OXU9AWP%2BwdPm8U6i%2BkaY8dsbZJrbSmuDYQTLAzRiZIFkCuwDfMc/F3wg1X4l%2BNviRp/wCyJ8c/i94z8N6RYfFDxhba9DoHxd1e4ks7i00LSdQ0/SrfxK8kGo39uLfUri/YzeU4lt5Ld0MVqVbz6w/aH/ak%2BJGg%2BAfj3qnxX1yS38OfDv4R6h4z1O18c32jzaZPqmok3U8OhwAWevnUYGjWRbwxC3BxbieRTCAD9QvEH/IW0P8A7Cr/APpJcV5b%2By//AMlv/aO/7LNY/wDqFeF69S8Qf8hbQ/8AsKv/AOklxXlv7L//ACW/9o7/ALLNY/8AqFeF6APZqKKKACiiigAooooAKKKKACiiigAooooAKKKKACiiigAooooAKKKKAPHv%2BCg58cj9hz4sH4b/ANp/2x/wgWp/Z/7E3/btn2d/N%2BzeX8/n%2BV5nl7Pn37dvzYr5s%2BEXiX4ead8Mf2nvDX/BOTX/AA1B4d1LwtM/wVsPAt1brYXXiWLw7m8OkpCfLcJK%2BmmUwAqty0u/Eplr70ooA%2BN/%2BCZZ/Z8Pxj8e/wDDFp0j/hU//Ct/BXmf8I5t%2Bw/8JVv1n%2B0vM2cf2j9j/sj7Xu/e7vJ8z95vr0G/1L4r3f8AwU28F2fjbwX4e0/Qrf4PeOB4a1HSvE895d36HVvCXmNc20llCloRhMBJrgNuOSu0bvoevnD9o/V/jXo/7eHwnn%2BB3w/8LeItSb4R%2BO1u7TxX4wudFgjg/tTwkS6S2%2Bn3rO%2B7aNhjUYJO/ICkA%2Bj6K8Z/4Tj/AIKF/wDRr/wZ/wDD8at/8y9H/Ccf8FC/%2BjX/AIM/%2BH41b/5l6APZqK8Z/wCE4/4KF/8ARr/wZ/8AD8at/wDMvR/wnH/BQv8A6Nf%2BDP8A4fjVv/mXoA9mor5x1b9o79u3R/jPoHwOuP2UPhI2qeIvC%2Br67Z3KfHXVPIjg065023mRyfDG4OzapAVAUghJMlSFDdR/wnH/AAUL/wCjX/gz/wCH41b/AOZegD2aivGf%2BE4/4KF/9Gv/AAZ/8Pxq3/zL0f8ACcf8FC/%2BjX/gz/4fjVv/AJl6APZqK8Z/4Tj/AIKF/wDRr/wZ/wDD8at/8y9cvq37R37duj/GfQPgdcfsofCRtU8ReF9X12zuU%2BOuqeRHBp1zptvMjk%2BGNwdm1SAqApBCSZKkKGAPo6ivGf8AhOP%2BChf/AEa/8Gf/AA/Grf8AzL0f8Jx/wUL/AOjX/gz/AOH41b/5l6APZqK8Z/4Tj/goX/0a/wDBn/w/Grf/ADL0f8Jx/wAFC/8Ao1/4M/8Ah%2BNW/wDmXoA9mor5x1b9o79u3R/jPoHwOuP2UPhI2qeIvC%2Br67Z3KfHXVPIjg065023mRyfDG4OzapAVAUghJMlSFDdR/wAJx/wUL/6Nf%2BDP/h%2BNW/8AmXoA9morxn/hOP8AgoX/ANGv/Bn/AMPxq3/zL0f8Jx/wUL/6Nf8Agz/4fjVv/mXoA9morxn/AITj/goX/wBGv/Bn/wAPxq3/AMy9cvq37R37duj/ABn0D4HXH7KHwkbVPEXhfV9ds7lPjrqnkRwadc6bbzI5PhjcHZtUgKgKQQkmSpChgD6OrH1j4e%2BAfELmTX/A%2Bj3zN95rzTIpSf8AvpTXmP8AwnH/AAUL/wCjX/gz/wCH41b/AOZej/hOP%2BChf/Rr/wAGf/D8at/8y9KUYyVpK5pSrVqEuanJxfdNp/emjrNS/Ze/Zn1nP9sfs7%2BBbvPX7T4RspM/99RGsO6/YR/YfvZTNefsbfCqVz1eT4eaax/MwVn/APCcf8FC/wDo1/4M/wDh%2BNW/%2BZej/hOP%2BChf/Rr/AMGf/D8at/8AMvXPLB4OfxUov/t2P/yJ61HiTiPDq1LHV4%2BlasvyrIuf8MC/sK/9GW/Cb/w3Omf/ABiorv8A4J9fsH3sJgm/Yv8AhWqnvD4A06M/msINchq37R37duj/ABn0D4HXH7KHwkbVPEXhfV9ds7lPjrqnkRwadc6bbzI5PhjcHZtUgKgKQQkmSpChuo/4Tj/goX/0a/8ABn/w/Grf/MvU/wBn4B/8uYf%2BAQ/%2BRN1xdxbF3WZYj/wor/8Ay8wdZ/4JRf8ABOfXc/bf2RPCCZ6/Y7R7b/0U64rl9Q/4Ikf8Exb%2Bb7Sn7M62sv8ADJY%2BLdXhK/QJdgfpXo3/AAnH/BQv/o1/4M/%2BH41b/wCZej/hOP8AgoX/ANGv/Bn/AMPxq3/zL1hPJsnqfFh6b/7cj/kerh/EvxGwitRznFx9MRW/WozzH/hyr%2Bw9af8AIu2PjnR8fd/s34iaku36bpmo/wCHPPwMt/l0j9or466enaOy%2BKdyqj/vpTXp3/Ccf8FC/wDo1/4M/wDh%2BNW/%2BZeuX1b9o79u3R/jPoHwOuP2UPhI2qeIvC%2Br67Z3KfHXVPIjg065023mRyfDG4OzapAVAUghJMlSFDZ/2Fk3ShFeia/KSOr/AIit4kP4s1rS/wAUoz/9LpTOZ/4dEfDtP%2BPX9sz9o6D/AK5fFqUfziNH/DpHwr93/hvD9p3Z/wA8/wDhbr7f/RFenf8ACcf8FC/%2BjX/gz/4fjVv/AJl6P%2BE4/wCChf8A0a/8Gf8Aw/Grf/MvR/YeU/8APpffP/5MP%2BIqeIXXMJfOnh3%2BeFZ5l/w6G%2BGUn/H7%2B2B%2B0Vc%2Bvn/FmY5/KIUf8Oe/giPnT9pL48LJ2mX4qXO4f%2BO16b/wnH/BQv8A6Nf%2BDP8A4fjVv/mXo/4Tj/goX/0a/wDBn/w/Grf/ADL0f2FlH/PlffL/AOTD/iKniJ0zKa9I0V%2BWHR5l/wAOkPCFv/yCP26v2mtP9PsXxdkXH/fUBoH/AASs1qD5LL/gpj%2B1Kqek/wAUVkP5m2rpdW/aO/bt0f4z6B8Drj9lD4SNqniLwvq%2Bu2dynx11TyI4NOudNt5kcnwxuDs2qQFQFIISTJUhQ3Uf8Jx/wUL/AOjX/gz/AOH41b/5l6P7DyrpSt/29Nf%2B5A/4inx%2B/ix1/WlhZfng2/xPMj/wSx8Sn/nJp%2B0//wCHKT/5Hql8Ff2WNS/Zn/4KF%2BC/7R/aa%2BKHxG/tv4M%2BMtn/AAsjxKNR/s/ydW8K5%2Bz4jTy/M80b%2Bu7yo%2Bm3n1r/AITj/goX/wBGv/Bn/wAPxq3/AMy9UPA/gf8Aas8Y/tWeHPjd8bvhx8PfDOjeGfh74h0OGHwr8Q77Wrq7utSvtEuEZkuNIsUijRNLlBYO7FpUAXGSNqGVYDDVVUpwtJf3pv8ABza/A8/NOPeLc6wE8HjcQp0p2uvZYeN7NNe9DDU5LVLaa7O6un7rRRRXoHx4Vm%2BMfBng/wCInha/8D/EDwppuu6Jqls1vqej6xYx3VreQsMNHLFICkiEdVYEGtKigDirf9mv9nO08Fv8N7X4A%2BCovDsmh/2LJoEfhWzWybTfMaT7EYBH5Zt97u/lY2bnY4ySazfEP7HP7Ivi7wDonwp8V/sr/DjU/C/hmd5vDfhvUfA9hPYaVI4YO9tbvCY4GYO4JRVJDtnqa9HooAz/AAp4T8K%2BA/DVj4L8D%2BGdP0bR9LtUttM0nSbJLe2tIEGEiiijASNFAACqAAOgrxT/AIJ0%2BD9G8J/BfxjdaTEVk1n49/ErUL92xmSZvGWrx5/BI0X6KK97r5K/ZK8Wftnaf8PfFFn8MfgH8MNX0JPjT8Rf7P1HXvi7qOm3cy/8JnrJYyW0WgXKRENuAAmfIAOQTtCcU2m%2BhpGrUhCUIuyla672d1f0evqfWtFeM/8ACcf8FC/%2BjX/gz/4fjVv/AJl6P%2BE4/wCChf8A0a/8Gf8Aw/Grf/MvTMz2aivGf%2BE4/wCChf8A0a/8Gf8Aw/Grf/MvR/wnH/BQv/o1/wCDP/h%2BNW/%2BZegD2aivnH4RftHft2/GXwpd%2BL/Dn7KHwktrez8Ua3oUkd78ddUVzPpeq3WmTuNvhhhsaa0kZDnJRlJCnKjqP%2BE4/wCChf8A0a/8Gf8Aw/Grf/MvQB7NRXjP/Ccf8FC/%2BjX/AIM/%2BH41b/5l6P8AhOP%2BChf/AEa/8Gf/AA/Grf8AzL0AezUV4z/wnH/BQv8A6Nf%2BDP8A4fjVv/mXrl/hF%2B0d%2B3b8ZfCl34v8OfsofCS2t7PxRrehSR3vx11RXM%2Bl6rdaZO42%2BGGGxprSRkOclGUkKcqAD6Oorxn/AITj/goX/wBGv/Bn/wAPxq3/AMy9H/Ccf8FC/wDo1/4M/wDh%2BNW/%2BZegD2aivGf%2BE4/4KF/9Gv8AwZ/8Pxq3/wAy9H/Ccf8ABQv/AKNf%2BDP/AIfjVv8A5l6APZqK%2BcfhF%2B0d%2B3b8ZfCl34v8OfsofCS2t7PxRrehSR3vx11RXM%2Bl6rdaZO42%2BGGGxprSRkOclGUkKcqOo/4Tj/goX/0a/wDBn/w/Grf/ADL0AezUV4z/AMJx/wAFC/8Ao1/4M/8Ah%2BNW/wDmXo/4Tj/goX/0a/8ABn/w/Grf/MvQB7NRXjP/AAnH/BQv/o1/4M/%2BH41b/wCZeuX%2BEX7R37dvxl8KXfi/w5%2Byh8JLa3s/FGt6FJHe/HXVFcz6Xqt1pk7jb4YYbGmtJGQ5yUZSQpyoAPo6ivGf%2BE4/4KF/9Gv/AAZ/8Pxq3/zL0f8ACcf8FC/%2BjX/gz/4fjVv/AJl6APZqzfGME114R1W1tomeSTTZ1jRRksxjYAD3zXlf/Ccf8FC/%2BjX/AIM/%2BH41b/5l6P8AhOP%2BChf/AEa/8Gf/AA/Grf8AzL0Aeor478Euob/hLtMGRnD30akfUE5B9qX/AITnwT/0OGlf%2BDCP/wCKrwX4RftHft2/GXwpd%2BL/AA5%2Byh8JLa3s/FGt6FJHe/HXVFcz6Xqt1pk7jb4YYbGmtJGQ5yUZSQpyo6j/AITj/goX/wBGv/Bn/wAPxq3/AMy9AHqX/Cc%2BCf8AocNK/wDBhH/8VR/wnPgn/ocNK/8ABhH/APFV5b/wnH/BQv8A6Nf%2BDP8A4fjVv/mXo/4Tj/goX/0a/wDBn/w/Grf/ADL0Ab2pfCj9kHWfB%2Bv/AA81j4a/Da70DxVrUmseKNDudG0%2BSz1jUZJEkkvLqFlKXE7PHG7SyBnLIpJyAajs/g7%2Bxvp3hxfB2n/Cz4ZwaQmlalpiaVDoenLbLY6jLFNqFqIgm0Q3MsMMk8eNszxIzhioIxf%2BE4/4KF/9Gv8AwZ/8Pxq3/wAy9cv4B/aO/bt%2BInivxv4Q0f8AZQ%2BEkNx4D8URaFqslz8ddUCTzyaVp%2Bph4tvhgkp5OowqSwU70cYwAzAHo1x8Kv2RLv4qL8dbv4b/AA3l8bq6MvjKTR9PbVQyRGFCLsr52VjZowd3CsVHBxW3Ha/AqLwK3wvitvCS%2BGX05rBvDqpaixNoylGtzb/6vyipKlNu0gkYxXDf8Jx/wUL/AOjX/gz/AOH41b/5l6P%2BE4/4KF/9Gv8AwZ/8Pxq3/wAy9AHUeC/Av7Lvw20DRPCnw68HeAdA0vw1dzXXhzTdF06ytbfSp5Uljllto4lVYHdJ5lZkALLNICSHbOb4T%2BCf7F3gLwJrPwt8DfCT4X6L4Z8RFz4g8OaToGnW1hqZZQjfaLeNBHPlQFO9TkDHSsn/AITj/goX/wBGv/Bn/wAPxq3/AMy9H/Ccf8FC/wDo1/4M/wDh%2BNW/%2BZegDQvfgH%2Bw/qXwstvgXqPwW%2BFNx4Is737ZaeDp/DmmPpUFxuZvOS0MfkrJl3O4LnLMc8mtHxH8Mf2SvGHjnQ/if4t%2BHvw61TxL4ZjSPw34h1HSbCe%2B0lEYsi207qZIArEkBGXBJIrzbwD%2B0d%2B3b8RPFfjfwho/7KHwkhuPAfiiLQtVkufjrqgSeeTStP1MPFt8MElPJ1GFSWCnejjGAGbqP%2BE4/wCChf8A0a/8Gf8Aw/Grf/MvQB6Pd69omu65o9voer2148N88swtZ1k8tPs0y7m2k4G51HPc15x%2By/8A8lv/AGjv%2ByzWP/qFeF6P%2BE4/4KF/9Gv/AAZ/8Pxq3/zL1b/ZW%2BHPxp8H6x8UPHfx00DwvpOqePviFFrlnpXhPxLc6tb2trFoOj6YqvcXFlZs0jSadK5URbQsiDcxzgA9booooAKKKKACiiigAooooAKKKKACiiigAooooAKKKKACiiigAooooAKKKKAPMP2tvjJ4y%2BDHwwsL74a2emS%2BJfEnjDRfDWgSa3BJLZWtxqF/DbG6njikjeWOGOSSbylkjMpiEYePfvXy2f8Aa4%2BJOg/sz%2BMfiR4o8JeFtQ%2BJ/gf4hH4dW15Z2E1vpl1qN9q1jY2VyI3lkngtZPtunzzQCZ2UxugkfYsle3/Hj4JeGv2gfh1L8O/E2sanpe3UrHU9L1rRJo473S9QsrqK7tLuBpY5I98c8MbbZEeNwCjo6MynhbH9hf4fR/BbX/gdrnxJ8Yavp/ieafUNa1S%2BuLFL%2BfWpb4339tCaC1jEd2k4hMaoq28S20KpAqpggGl%2Byt8Xvib8Qbr4h/DX4zy6FdeKPhp45Xw/qWseGdMmsbHVUm0nTtVguYrae4uJLc%2BTqUcTxtNJ%2B8gdg21lA9arg/gF8AtF%2BAei63bW3jXXvE%2Bs%2BKPEEmt%2BKfFPid7U32rXzW8FqssotIILdAlta2sCJFDGqx26DGck95QAVz3xQtfije%2BDbi1%2BDniXw9o%2BvNJH9n1PxRos%2Bo2cEe8GRnt4Lm2eU7NwUCaMbiCTgYPQ15/%2B1F%2Bz7p/7U3wO1v4D618SvFHhTT/EEcUOp6p4PuLWK9ktllV5LbddW88ZimVTFKpjO%2BKR1yNxoA8b0n9qX45eLv8Agnx4s/ax8GeANA8SfEHw/ZeJLXwVeaF4Yvbux8TRWt/LBbXtnZxzNdva3i2sE6wRzuZBs2Syr5cjeq/smfGC7%2BM3w2u9b1n4o6N4p1TTdbn0/V5NJ8Aal4XfTp0SOT7Jc6ZqdzPdWs4jljkIlZSyTRuECspafw18A/GPhf4b/wDCu7P9qHx05i0r7Fp%2BsjSvDsFzY4kDRywxwaTHbBo0AhVGhaLy/vRs3zVa%2BAf7PuifASx8RSweN/EHijW/F/iE634q8UeJ5LY3up3gtLazRmW0ggt4lS2s7aFUhhjULECQWZ2YA76iiigDyn9tf4q/F74K/s7al8QvgX4dXU/EcGu6FaRQv4Rv9eEFpdaxZ2l7df2fp8kdzd%2BRaT3Fx5cTqx8n0BB4nWv2qbnRP2Kp/wBpvQPEHhbx74vs5n0DTdTtPCd5oNquq3erRadHaXFjdzz3lgIrlrZLmGSXzN1uxKodqJ7d8SfB%2Bu%2BO/CNx4b8N/E/XvB15NJG0XiDw1DYyXlvtcMQi39tcwEMAUO%2BJuGONrYYeZad%2Bwv8ADqD4LeI/gZrnxE8X6xpfi03t34ivtQu7Nb271e5uvtTauJoLaPybtJRGYhEEt4hDGFhG0UAaH7LXxd%2BKPjnWPiJ8KvjZPoF54n%2BG/jCHSLvWvC%2BlT2FjqsFxpdjqUFwlrPcXMluwW9MLRmeXLQFwwDhV9brgfgF%2Bz/o/wE03XjH451/xXrnivXzrPinxV4oa0%2B3apd/Zre0RnWzt7e3jWO2tbaFUihjULCCQWZmbvqACsL4kWHxJ1Lwjc2nwk8XaFoeusyG11LxJ4em1WziUOC4e2hu7R3JTcARMu0kEhgNp3awPit4At/iv8L/Efwuu/Euq6LF4k0G70uXWNCmjjvrFbiF4jPbvIjokyB9yMyMAwBKkcUAfNngX9pn9p7xX/wAE2Nd/bQg8I%2BFPFHxCGi69f/DUeG/At%2BYNV0r7W40yUWC3s91J9stoLS6aCG4y3mRqpyoavY/2TPjBd/Gb4bXet6z8UdG8U6pputz6fq8mk%2BANS8Lvp06JHJ9kudM1O5nurWcRyxyESspZJo3CBWUttS/BddK8CW/w4%2BGfxH17wXpOm%2BGrfRtCt/Dlvp7DSkg2CKaH7XaTgyLGixbZA8WzrGW%2Baq3wD/Z90T4CWPiKWDxv4g8Ua34v8QnW/FXijxPJbG91O8FpbWaMy2kEFvEqW1nbQqkMMahYgSCzOzAHfUUUUAfMX7S37Yfxg/ZY%2BN/jC68Z2vhjV/h1ov7Pviz4h6ZpmnaTcwayk2gnS/Nhmu3uXhkSb7dNtVbdCnloS75Irqv2a/ib8a9Z%2BNvi34GftN2fgy%2B8Z%2BEfCOha/aa/4M0S4srb%2BztZlv4TZ7Lm5uZN8dzolxukEgWZBA3lxkFQfGP9hXw78dPjq3xl8efHbxzLps3grU/CN98PYYNF/sS70bUltvt9pIX01r0idrSB2cXQdShCMiMyHX%2BCf7JFj8E59T162%2BOnjrxJ4j1l9Jh1PxZ4om02a/n03Tt/2XSz5VlFCLYCa5ywjE7NdTOZvMYOADzn9nX9sb42fEr4t%2BEn8e6Z4WXwR8Uv%2BEp/4Qa10nTbmLU9J/si9WKH7bPJcyRXf2q2Es58uGD7O6LF%2B/DeaPqKvGfhF%2BxD8OPg58Wv%2BFp6N458ValDYf2z/wAIn4W1e6tW0zwz/a14l7qH2JYrdJj5syLj7RLN5KFoofKjZkPs1ABXhXib4tftJaT%2B2wfgBp2p%2BB38NeJPhNrniDwf5%2BgXgvrDU9PudHtV%2B2Ti88u4t3fUpGMccMTqsS/vGLHHuteI/FT9jHVPib%2B0HH%2B0VY/tbfE/wvqNr4P1Hw3puj%2BG4vD4srGzvhbNcNE1zpM1x5pms7WdXaZtskIAAjZ42AGfsqfFf4n/ABH%2BJnxG8C/Fy68HeJb/AOHGrW2kWvjzwZ4cuNNtLiW5tYrm707ybi7vHjmt2W3Muy4ZW8yIFUeNlHN/sp/tT/F34m/tAeLvhf8AHPxPomg3Nnr/AIot/CngWb4T63o99eaZp%2BtPaWupQ6tfXbWmrRvaC3lkFpAArXkRLIBtftf2Zv2RW/Zb%2BE9p8G/CH7RPjrWNJ0%2B6tZdPk16z0L7RCkc5muI2ktdMg883bM/2ieYSXDtI8iypKxkq54c/ZagsfjlbfHnx38b/ABr4yv8ASIdRh8KaT4hOmR2Ph%2BO9eMzi3WxsreSU7IkiV7qSd1QEBsu7MAeqUUUUAfO3xf8A2gP2lvhr%2B1HrPwy0i08J6x4dvvgj4k8W%2BDdLtfD14dWTU9Kl0mFYbiZbsx3MU0moyYiigjcCNB5jFji/%2Bwp8cvE37QHg2fxD8XPF/h/UPHOj29vHrGi2fwp1bwlqHhwXUEUzWs9pq91PcsjvHlZx5cUohG0NsyNP4hfse6n48/aUs/2mrL9qv4k%2BH9Q07wrf%2BH9N8P6Jb%2BHzp1tZ3htXuNv2nSprku01lazhmnba8WFxGzRtpfCv9lpPhhruv%2BOrj47eNvEfi3xPcaUNb8X%2BIF0r7XcWOnySPBpwitbCG1itv390rGOBZj9rlYSq%2Bx0APMvgN%2B2N8bfiB8YvC0njbTPCy%2BA/iZrXi7TPBVnpem3MWq6XJot3LFDJeXD3LxXS3dvbXMxWOGA27eXHmfJkH1FXjPwt/Yh%2BHHwo%2BMP/AAtnSfHPirUILK61u68L%2BEdUurVtK8OT6vdi71KWzWO3SctNNuI8%2BaYQrLJHCIo3KV7NQAV4br/xX/aL079t9f2fLfXfBUfhbxN8KNb1/wAJzP4ZvJNQ03UbC60e1DXcgvkju4HfU5G8mOOBwsKjzssSPcq8k8Rfso3XiH9rPRf2tP8Aho7x7Z3WhaDdaLZ%2BDLS30Q6M1jdPaS3MLmTTWvD5s1jbSlhdB1aMhGRGZCAc5%2Bx18Svj18U/iZ8VLX41614D8QWPw/8AFMXhbwx4n8I%2BCrrR5LqcWdtdaopW51G%2BLRJNLb2/yOn72zmDBtqkZH7Kf7U/xd%2BJv7QHi74X/HPxPomg3Nnr/ii38KeBZvhPrej315pmn609pa6lDq19dtaatG9oLeWQWkACteREsgG1/VvhH%2Bz5oXwQ%2BFlp8K/h/wCNNegjh8Q3OtX%2Bs3DWs19qd1dalJqN6bhntzGftM00yyFI0YJKfLaNgrrleHP2WoLH45W3x58d/G/xr4yv9Ih1GHwppPiE6ZHY%2BH4714zOLdbGyt5JTsiSJXupJ3VAQGy7swB6pRRRQAUUUUAFFFFABRRRQB8u/tNftjfG34V/FPxi/wAPNM8LN4N%2BE2i%2BG9T8d22s6bczajrEeqX1xFNHYzR3Mcdo1ta2/nhpIrgTySiLEIUyGP8AbA/at%2BMHwA8Q%2BOLH4EeG/B8Wj/CT4TS/E3x9aa3pM8s2t201zqD/AGGxeC4hS0uJF0zUZGuZVnXzHhzEdzsPQPjP%2BxD8OPjd8Uj8TNc8c%2BKtLi1G10i18X%2BGtGurVNO8UwaXeyXtjFfLLbyTBY5ppc/Z5YDLHIYpjLGFQUvjd%2Bwb4G%2BP1xHdeOfi743je/8ACz%2BGPG/9mz6dCvjLQ3mMx07UV%2BxFRFl513WotpQlzOokxI1AHuEE8VzAlzC2UkQMhxjIIyKfRRQAV4P%2B1r8Zv2gvgN4k8L%2BLvBniDwRe%2BHta8XaF4dtvAt94cvJNc1y5vb5YblrS9jvVihMFq0l1sa0mHl2kzO8aAvH7xXjPxJ/Y5X4iftO6J%2B1Nb/tHfEDQtV8P6GNK0zQNMh0S40uCB5vNuWjS%2B0y4mhluQI45pYpUdo4Y0VkA5AOJ/a2/aV%2BJn7OHxt8K%2BEvDuseHvA/w3vfD2p6x4t8b618ItZ16ws70X9qBFPdadd21vpSypcXcz3V2SmYyxP3s/TleQfHT9km6/aE8Ey/DHx5%2B0t8Q4vDGqaPcaT4u0HTF0WGLxJZTlxNDcy/2aZ4Q0TtAWtJLdvLPXf8APXr0caRIsUSBVUAKqjAA9KAFooooA%2Bavjj%2B1P8Xfhh%2B2lpnwn1bxPong/wCGkugeHbgeJdd%2BE%2Bt6rDq2p32qahaT6aNZtruGw0mQR29isRulctJfJhX%2BVDU/a/8A2ofjN8CvEnivQP2efDng6Kz%2BG3wpvviV40ttf0qeV9ZhNzcsun2bW9xCtpPObO/d7uVZ1VzETC%2B9mHpnx0/Zag/aC1y2Txt8b/Gtv4SWaxm1P4e6YdMj0rVZLW5W5jM8rWTXwDSJHvSK6jR1jClcM4fB%2BOn7CPgr9oNopvG3xg8cW0134Xu/DHi%2BfSLjToG8V6FczCWTTL4fYiqxffRZLYW86JNKFlHmOSAe1aTqdrrelWus2LMYLu3SaEsuCUdQwyO3BqxTY444Y1hhjVERQFVRgADoAKdQAV8%2B/tm/FX9qb4Q%2BKPAh%2BB3jnwAYfGvjvRfDFh4V8R%2BAr69vbmSad5tQuEvYNWt0jWDTILy6CG2c5tCCxD/L9BVxvi74IeFPG3xl8HfGzX9Q1CS/8DWeqRaHpiyxiyE98kMT3joULmeOGKWGNg4VUvLgFWLKUAPFf2tv2lfiZ%2Bzh8bfCvhLw7rHh7wP8N73w9qeseLfG%2BtfCLWdesLO9F/agRT3WnXdtb6UsqXF3M91dkpmMsT97P05XkHx0/ZJuv2hPBMvwx8eftLfEOLwxqmj3Gk%2BLtB0xdFhi8SWU5cTQ3Mv9mmeENE7QFrSS3byz13/PXr0caRIsUSBVUAKqjAA9KAFqj4mTxJL4b1CPwbc2MGsNYyjSptTgeW2judh8ppURkZ4w%2B0sqspIyAwPNXqq67p93q%2BiXmlafrt1pc91ayRQanYJE09o7KQJoxNHJGXQkMBIjpkDcrDIIB8hfDn9r/wDbI%2BL3hbwH8L/BU/w1t/iZr7/Ea51jXNQ8L6g2iSWnhbxCmihIbJdRE8MlzLd2LbmuZREvnttk%2BVa7vUv2t9W1n9i34VfHr4D%2BENI0nWfjXL4Ybw1Z63aPNZaZNrxiupbi5jgeF7jyopriYorxmaRQpkj8wuuX4W/4Jf6F4S8H2fh7TP2wfjB/aum6t4gu9M8XLJ4eh1O0g1y5a71axUw6OkJt7m6Zbg7omlikhiMMkQjUD0nxd%2ByB8PvE3wfsPgbpPinXvD3h/wAPW%2BhL4Hg0JrRJPC0%2BkSJJZ3Nm8tvIWcGKFWS48%2BJ0i2GPa8qyAE37Jfxj8bfGH4f6wvxOttKTxP4S8Z6v4Z1%2BfQraSCxvJrK5ZEuoIpZJXhSWAwymJpJDGztH5kmze3qNcZ8Bvgh4b/Z%2B%2BH//AAgnh7XNV1eS41W%2B1XWNd12WJ77VdQvLmS5ubqcwxxRB3kkbCxxpGihURERFUdnQBR8TJ4kl8N6hH4NubGDWGsZRpU2pwPLbR3Ow%2BU0qIyM8YfaWVWUkZAYHmvlWx/ak/aw1D9hq6/ab1b4n/CTw5qXg7UfGVt4yvtV8DalNp2pto%2BtXunWqWkCaqstoZxaDO6W6bfKqpG5IFfV2u6fd6vol5pWn67daXPdWskUGp2CRNPaOykCaMTRyRl0JDASI6ZA3KwyD8uWX/BKuxs/Cnhnwc/7cnxpuLPwn481Pxjpcd1b%2BE5EfVr25mu3mmhOg%2BTOIrq4uLiEPGfJllDpgxQ%2BUAdv%2B0D8ZvjX8MP2LLT4y/CH4RLpfjLULrw7Nf%2BGJPCF7rzaQdT1ayj1SR9P014rm9ktobu7nZYmVneEsepB7f9mL4pD4xfBnTfGs3xJ0bxXdtc3dtqWq6H4UvNCiW5huZInt3069nnubKaEr5UkU0hcSRuSqZCLb8TfCzxrr/hi40DTv2jvGmjXc2n2FvFremWeim6t5bd2aW5RZ9OkhMlyGCyq8TRAIvkxwHcWb8BPgV4b/AGffBNx4Q0HxBq%2BtXGo61eaxrmv6/PE97quoXUxlnuZvJjiiUkkAJFHHGiqqqihQKAO2ooooA%2BMdc/bB/ba8N/DrxvY3ll4S1TxT4P8Aj9ZeDb3WfCPwj17Wra20SfRdO1KS8OkWV/JeXEsRvjGXSZVIUOY1yRXrPiX9pvSvh3%2Bwnr/7XvhLVPDnji9g8Jz6ut/oGly6TZa7qUcXkRq8Uss81qPMjjgdZXklhEZVsmPaKXgb9hTxh8OtQ8a6z4W/b0%2BMcN9488VR%2BINYvH0/wkzR3i2cFkfKU6DsCNb2tshVlf8A1Csu1mdn6bTf2MfhdY/s/XX7MF3r3iC%2B8Gap4d1nTPEGn3t5CZdXn1Sdri71Ka4WJZkvGmluZA0Lxxq11IRHlYjGAQ/syfFz4x%2BI/H3j/wCBfx/u/DOoeJvAt1pky654Q0e406x1Cxv7TzYm%2BzXFzcvDKksVzEw85wyxxyDZvMaexV538AP2c9K%2BAx8Q6xcfEjxN408ReK9Rhu/EHizxhJZm%2Bu/Ito7aCLbZW1tbxxRxRgKscS5Z5Hbc8js3olABXzL8MfjZ%2B1n4v8A/F%2Bz8c/Fr4VeG9e%2BFPxJl0y88Un4eajcaS2jpoOm6o7PaHWI5RMhv2UzfaAhWDPkqW%2BX6ar5007/gnPoUngz4u/D7x1%2B1F8T/ABVo/wAa7s3HjOz1gaDB8z2trZTrA1jpVuyJNZWcNq6sXHl7iu2RjIQCLwB8cP2mD/wTB1D9rLUfhloN18XdS%2BFV/wCMbPw1oXhi6ihv9S/s%2BS4061ksxcy3DzGJLOCSMTs5dWRHA2Adp%2Bx38a9Y%2BNPgTVrrxb8UdG8R69o%2Btmz1a20z4a6r4Rn0hjbwypbXWm6tdXF1HKVk80SMUWSOWMqmBvfvfF3grWPEdrNZ6D8S9c8NpJotzYwjQ4LE/Z5ZDH5d4n2m2m/fQhGEatmEiV/MikwhTm/gP%2BztpPwOvPEviO5%2BIniTxj4k8X6jDeeIvFPit7MXd0YbdLeCIR2NtbW0UUcaAKscKZLOzFmZmIB6HRRRQAUUUUAFFFFABRRRQAUUUUAFFFFABRRRQAUUUUAFFFFABRRRQAUUUUAFFFFABRRRQAUUUUAFFFFABRRRQAUUUUAFFFFABRRRQAUUUUAFFFFABRRRQAUUUUAFFFFABRRRQAUUUUAFFFFABRRRQAUUUUAFFFFABRRRQAUUUUAFFFFABRRRQAUUUUAFFFFABRRRQAUUUUAFFFFABRRRQAUUUUAFFFFABRRRQAUUUUAFFFFABRRRQAUUUUAFFFFABRRRQAUUUUAFFFFABRRRQAUUUUAFFFFABRRRQAUUUUAFFFFABRRRQAUUUUAFFFFAH//Z\">"
            ]
          },
          "metadata": {
            "tags": []
          }
        }
      ]
    },
    {
      "cell_type": "code",
      "metadata": {
        "id": "0RqNbmwtU0Hi",
        "colab_type": "code",
        "colab": {}
      },
      "source": [
        ""
      ],
      "execution_count": null,
      "outputs": []
    }
  ]
}